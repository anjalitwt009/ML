{
  "nbformat": 4,
  "nbformat_minor": 0,
  "metadata": {
    "colab": {
      "name": "Tensors_Basics.ipynb",
      "provenance": [],
      "collapsed_sections": []
    },
    "kernelspec": {
      "name": "python3",
      "display_name": "Python 3"
    }
  },
  "cells": [
    {
      "cell_type": "code",
      "metadata": {
        "id": "cs9StKIyCHq2",
        "colab_type": "code",
        "colab": {}
      },
      "source": [
        "import numpy as np"
      ],
      "execution_count": 1,
      "outputs": []
    },
    {
      "cell_type": "markdown",
      "metadata": {
        "id": "cvhlC5uVCR70",
        "colab_type": "text"
      },
      "source": [
        "SCALAR TENSOR (0D TENSORS)\n",
        "\n",
        "A tensor that contains only one number."
      ]
    },
    {
      "cell_type": "code",
      "metadata": {
        "id": "Bs5USzcCCQOI",
        "colab_type": "code",
        "colab": {
          "base_uri": "https://localhost:8080/",
          "height": 34
        },
        "outputId": "df1a0d32-59fd-464c-ad12-70fad7f11019"
      },
      "source": [
        "x=np.array(10)\n",
        "x"
      ],
      "execution_count": 2,
      "outputs": [
        {
          "output_type": "execute_result",
          "data": {
            "text/plain": [
              "array(10)"
            ]
          },
          "metadata": {
            "tags": []
          },
          "execution_count": 2
        }
      ]
    },
    {
      "cell_type": "code",
      "metadata": {
        "id": "MWhQ6Nf9CxCe",
        "colab_type": "code",
        "colab": {
          "base_uri": "https://localhost:8080/",
          "height": 34
        },
        "outputId": "d589164c-1651-4d5e-fae7-180b801d7af1"
      },
      "source": [
        "x.shape"
      ],
      "execution_count": 3,
      "outputs": [
        {
          "output_type": "execute_result",
          "data": {
            "text/plain": [
              "()"
            ]
          },
          "metadata": {
            "tags": []
          },
          "execution_count": 3
        }
      ]
    },
    {
      "cell_type": "code",
      "metadata": {
        "id": "w6xwQzMXC4a0",
        "colab_type": "code",
        "colab": {
          "base_uri": "https://localhost:8080/",
          "height": 34
        },
        "outputId": "15560daf-86b0-4db8-b102-defa00a751a3"
      },
      "source": [
        "x.ndim"
      ],
      "execution_count": 4,
      "outputs": [
        {
          "output_type": "execute_result",
          "data": {
            "text/plain": [
              "0"
            ]
          },
          "metadata": {
            "tags": []
          },
          "execution_count": 4
        }
      ]
    },
    {
      "cell_type": "code",
      "metadata": {
        "id": "dxu1YnYGC6Yp",
        "colab_type": "code",
        "colab": {
          "base_uri": "https://localhost:8080/",
          "height": 34
        },
        "outputId": "ff7731e9-41b8-459b-e865-6e97556d4ee2"
      },
      "source": [
        "x.dtype"
      ],
      "execution_count": 5,
      "outputs": [
        {
          "output_type": "execute_result",
          "data": {
            "text/plain": [
              "dtype('int64')"
            ]
          },
          "metadata": {
            "tags": []
          },
          "execution_count": 5
        }
      ]
    },
    {
      "cell_type": "markdown",
      "metadata": {
        "id": "_AI3XvNMC-Bw",
        "colab_type": "text"
      },
      "source": [
        "VECTORS (1D TENSOR)\n",
        "\n",
        "The array of numbers"
      ]
    },
    {
      "cell_type": "code",
      "metadata": {
        "id": "xMC8tDe3DBbP",
        "colab_type": "code",
        "colab": {
          "base_uri": "https://localhost:8080/",
          "height": 34
        },
        "outputId": "53849210-1c25-413f-affc-52c69a53c22f"
      },
      "source": [
        "x=np.array([1,2,3,4])\n",
        "x"
      ],
      "execution_count": 6,
      "outputs": [
        {
          "output_type": "execute_result",
          "data": {
            "text/plain": [
              "array([1, 2, 3, 4])"
            ]
          },
          "metadata": {
            "tags": []
          },
          "execution_count": 6
        }
      ]
    },
    {
      "cell_type": "code",
      "metadata": {
        "id": "1sqo8bWvDNl_",
        "colab_type": "code",
        "colab": {
          "base_uri": "https://localhost:8080/",
          "height": 34
        },
        "outputId": "b6a4a478-a783-442c-d202-ac329988fa18"
      },
      "source": [
        "x.shape #4D vector"
      ],
      "execution_count": 7,
      "outputs": [
        {
          "output_type": "execute_result",
          "data": {
            "text/plain": [
              "(4,)"
            ]
          },
          "metadata": {
            "tags": []
          },
          "execution_count": 7
        }
      ]
    },
    {
      "cell_type": "code",
      "metadata": {
        "id": "OiembZ6aDUAk",
        "colab_type": "code",
        "colab": {
          "base_uri": "https://localhost:8080/",
          "height": 34
        },
        "outputId": "5d1444dd-35bf-4c68-e089-ed6b092cd6a2"
      },
      "source": [
        "x.ndim"
      ],
      "execution_count": 8,
      "outputs": [
        {
          "output_type": "execute_result",
          "data": {
            "text/plain": [
              "1"
            ]
          },
          "metadata": {
            "tags": []
          },
          "execution_count": 8
        }
      ]
    },
    {
      "cell_type": "markdown",
      "metadata": {
        "id": "8XFSugm7DWxd",
        "colab_type": "text"
      },
      "source": [
        "MATRICES (2D TENSORS)\n",
        "\n",
        "An array of vectors in a matrix or 2D tensor.\n",
        "\n",
        "A matrix has two axes, rows and columns."
      ]
    },
    {
      "cell_type": "code",
      "metadata": {
        "id": "germYAvXDV3R",
        "colab_type": "code",
        "colab": {}
      },
      "source": [
        "x=np.array([[1,2,3],  #first axis= rows\n",
        "           [4,5,6],\n",
        "           [7,8,9]])\n",
        "            # second axis= columns"
      ],
      "execution_count": 9,
      "outputs": []
    },
    {
      "cell_type": "code",
      "metadata": {
        "id": "emKVzZpQDnh_",
        "colab_type": "code",
        "colab": {
          "base_uri": "https://localhost:8080/",
          "height": 34
        },
        "outputId": "be1762b4-2e9d-41bb-faf0-dea0dd7d389c"
      },
      "source": [
        "x.shape"
      ],
      "execution_count": 10,
      "outputs": [
        {
          "output_type": "execute_result",
          "data": {
            "text/plain": [
              "(3, 3)"
            ]
          },
          "metadata": {
            "tags": []
          },
          "execution_count": 10
        }
      ]
    },
    {
      "cell_type": "code",
      "metadata": {
        "id": "xEQUTifRDn_M",
        "colab_type": "code",
        "colab": {
          "base_uri": "https://localhost:8080/",
          "height": 34
        },
        "outputId": "43ded497-f0be-4e24-d255-b5ccc67b21a2"
      },
      "source": [
        "x.ndim"
      ],
      "execution_count": 11,
      "outputs": [
        {
          "output_type": "execute_result",
          "data": {
            "text/plain": [
              "2"
            ]
          },
          "metadata": {
            "tags": []
          },
          "execution_count": 11
        }
      ]
    },
    {
      "cell_type": "code",
      "metadata": {
        "id": "VBrJZ5v6EKaV",
        "colab_type": "code",
        "colab": {
          "base_uri": "https://localhost:8080/",
          "height": 34
        },
        "outputId": "a214b59e-6740-4b54-8aa8-09d6fe2c7291"
      },
      "source": [
        "x.dtype"
      ],
      "execution_count": 12,
      "outputs": [
        {
          "output_type": "execute_result",
          "data": {
            "text/plain": [
              "dtype('int64')"
            ]
          },
          "metadata": {
            "tags": []
          },
          "execution_count": 12
        }
      ]
    },
    {
      "cell_type": "markdown",
      "metadata": {
        "id": "RHKlYOcBEOew",
        "colab_type": "text"
      },
      "source": [
        "3D TENSORS \n",
        "\n",
        "We can pack matrices in an array to get 3D tensors. Similarly, we can pack 3D tensors in a new array, we get 4D tensors and so on."
      ]
    },
    {
      "cell_type": "code",
      "metadata": {
        "id": "U9Lb3eoAEflF",
        "colab_type": "code",
        "colab": {}
      },
      "source": [
        "x=np.array([[[1,2,3], \n",
        "           [4,5,6],\n",
        "           [7,8,9]],\n",
        "           [[1,2,3], \n",
        "           [4,5,6],\n",
        "           [7,8,9]],\n",
        "           [[1,2,3], \n",
        "           [4,5,6],\n",
        "           [7,8,9]]])"
      ],
      "execution_count": 13,
      "outputs": []
    },
    {
      "cell_type": "code",
      "metadata": {
        "id": "OgunHVg0Egq2",
        "colab_type": "code",
        "colab": {
          "base_uri": "https://localhost:8080/",
          "height": 34
        },
        "outputId": "06f45c9b-26d5-4edc-9b46-bb28dfe0ae81"
      },
      "source": [
        "x.shape"
      ],
      "execution_count": 14,
      "outputs": [
        {
          "output_type": "execute_result",
          "data": {
            "text/plain": [
              "(3, 3, 3)"
            ]
          },
          "metadata": {
            "tags": []
          },
          "execution_count": 14
        }
      ]
    },
    {
      "cell_type": "code",
      "metadata": {
        "id": "2Ep05kVXEhBf",
        "colab_type": "code",
        "colab": {
          "base_uri": "https://localhost:8080/",
          "height": 34
        },
        "outputId": "59cd68f2-14d4-4165-dc60-12f18f2a3c5f"
      },
      "source": [
        "x.ndim"
      ],
      "execution_count": 15,
      "outputs": [
        {
          "output_type": "execute_result",
          "data": {
            "text/plain": [
              "3"
            ]
          },
          "metadata": {
            "tags": []
          },
          "execution_count": 15
        }
      ]
    },
    {
      "cell_type": "code",
      "metadata": {
        "id": "7nByBe9YE0f3",
        "colab_type": "code",
        "colab": {
          "base_uri": "https://localhost:8080/",
          "height": 34
        },
        "outputId": "315f7127-24d9-449b-d908-12dd8880e56d"
      },
      "source": [
        "x.dtype"
      ],
      "execution_count": 16,
      "outputs": [
        {
          "output_type": "execute_result",
          "data": {
            "text/plain": [
              "dtype('int64')"
            ]
          },
          "metadata": {
            "tags": []
          },
          "execution_count": 16
        }
      ]
    },
    {
      "cell_type": "markdown",
      "metadata": {
        "id": "bngYgf6xFbjk",
        "colab_type": "text"
      },
      "source": [
        "TENSOR IN MNIST DATASETS"
      ]
    },
    {
      "cell_type": "code",
      "metadata": {
        "id": "Auimwum4Ff6r",
        "colab_type": "code",
        "colab": {
          "base_uri": "https://localhost:8080/",
          "height": 1000
        },
        "outputId": "8e647dea-1281-4f78-ec2c-ebb1772efae9"
      },
      "source": [
        "from __future__ import absolute_import,division,print_function,unicode_literals\n",
        "!pip install tensorflow==2.0.0-beta1\n",
        "import tensorflow as tf"
      ],
      "execution_count": 17,
      "outputs": [
        {
          "output_type": "stream",
          "text": [
            "Collecting tensorflow==2.0.0-beta1\n",
            "\u001b[?25l  Downloading https://files.pythonhosted.org/packages/29/6c/2c9a5c4d095c63c2fb37d20def0e4f92685f7aee9243d6aae25862694fd1/tensorflow-2.0.0b1-cp36-cp36m-manylinux1_x86_64.whl (87.9MB)\n",
            "\u001b[K     |████████████████████████████████| 87.9MB 69kB/s \n",
            "\u001b[?25hRequirement already satisfied: wheel>=0.26 in /usr/local/lib/python3.6/dist-packages (from tensorflow==2.0.0-beta1) (0.34.2)\n",
            "Requirement already satisfied: numpy<2.0,>=1.14.5 in /usr/local/lib/python3.6/dist-packages (from tensorflow==2.0.0-beta1) (1.18.5)\n",
            "Requirement already satisfied: six>=1.10.0 in /usr/local/lib/python3.6/dist-packages (from tensorflow==2.0.0-beta1) (1.15.0)\n",
            "Collecting tb-nightly<1.14.0a20190604,>=1.14.0a20190603\n",
            "\u001b[?25l  Downloading https://files.pythonhosted.org/packages/a4/96/571b875cd81dda9d5dfa1422a4f9d749e67c0a8d4f4f0b33a4e5f5f35e27/tb_nightly-1.14.0a20190603-py3-none-any.whl (3.1MB)\n",
            "\u001b[K     |████████████████████████████████| 3.1MB 48.1MB/s \n",
            "\u001b[?25hRequirement already satisfied: protobuf>=3.6.1 in /usr/local/lib/python3.6/dist-packages (from tensorflow==2.0.0-beta1) (3.12.4)\n",
            "Requirement already satisfied: keras-preprocessing>=1.0.5 in /usr/local/lib/python3.6/dist-packages (from tensorflow==2.0.0-beta1) (1.1.2)\n",
            "Collecting tf-estimator-nightly<1.14.0.dev2019060502,>=1.14.0.dev2019060501\n",
            "\u001b[?25l  Downloading https://files.pythonhosted.org/packages/32/dd/99c47dd007dcf10d63fd895611b063732646f23059c618a373e85019eb0e/tf_estimator_nightly-1.14.0.dev2019060501-py2.py3-none-any.whl (496kB)\n",
            "\u001b[K     |████████████████████████████████| 501kB 41.1MB/s \n",
            "\u001b[?25hRequirement already satisfied: termcolor>=1.1.0 in /usr/local/lib/python3.6/dist-packages (from tensorflow==2.0.0-beta1) (1.1.0)\n",
            "Requirement already satisfied: absl-py>=0.7.0 in /usr/local/lib/python3.6/dist-packages (from tensorflow==2.0.0-beta1) (0.9.0)\n",
            "Collecting keras-applications>=1.0.6\n",
            "\u001b[?25l  Downloading https://files.pythonhosted.org/packages/71/e3/19762fdfc62877ae9102edf6342d71b28fbfd9dea3d2f96a882ce099b03f/Keras_Applications-1.0.8-py3-none-any.whl (50kB)\n",
            "\u001b[K     |████████████████████████████████| 51kB 6.8MB/s \n",
            "\u001b[?25hRequirement already satisfied: wrapt>=1.11.1 in /usr/local/lib/python3.6/dist-packages (from tensorflow==2.0.0-beta1) (1.12.1)\n",
            "Requirement already satisfied: gast>=0.2.0 in /usr/local/lib/python3.6/dist-packages (from tensorflow==2.0.0-beta1) (0.3.3)\n",
            "Requirement already satisfied: astor>=0.6.0 in /usr/local/lib/python3.6/dist-packages (from tensorflow==2.0.0-beta1) (0.8.1)\n",
            "Requirement already satisfied: grpcio>=1.8.6 in /usr/local/lib/python3.6/dist-packages (from tensorflow==2.0.0-beta1) (1.30.0)\n",
            "Requirement already satisfied: google-pasta>=0.1.6 in /usr/local/lib/python3.6/dist-packages (from tensorflow==2.0.0-beta1) (0.2.0)\n",
            "Requirement already satisfied: werkzeug>=0.11.15 in /usr/local/lib/python3.6/dist-packages (from tb-nightly<1.14.0a20190604,>=1.14.0a20190603->tensorflow==2.0.0-beta1) (1.0.1)\n",
            "Requirement already satisfied: setuptools>=41.0.0 in /usr/local/lib/python3.6/dist-packages (from tb-nightly<1.14.0a20190604,>=1.14.0a20190603->tensorflow==2.0.0-beta1) (49.2.0)\n",
            "Requirement already satisfied: markdown>=2.6.8 in /usr/local/lib/python3.6/dist-packages (from tb-nightly<1.14.0a20190604,>=1.14.0a20190603->tensorflow==2.0.0-beta1) (3.2.2)\n",
            "Requirement already satisfied: h5py in /usr/local/lib/python3.6/dist-packages (from keras-applications>=1.0.6->tensorflow==2.0.0-beta1) (2.10.0)\n",
            "Requirement already satisfied: importlib-metadata; python_version < \"3.8\" in /usr/local/lib/python3.6/dist-packages (from markdown>=2.6.8->tb-nightly<1.14.0a20190604,>=1.14.0a20190603->tensorflow==2.0.0-beta1) (1.7.0)\n",
            "Requirement already satisfied: zipp>=0.5 in /usr/local/lib/python3.6/dist-packages (from importlib-metadata; python_version < \"3.8\"->markdown>=2.6.8->tb-nightly<1.14.0a20190604,>=1.14.0a20190603->tensorflow==2.0.0-beta1) (3.1.0)\n",
            "Installing collected packages: tb-nightly, tf-estimator-nightly, keras-applications, tensorflow\n",
            "  Found existing installation: tensorflow 2.3.0\n",
            "    Uninstalling tensorflow-2.3.0:\n",
            "      Successfully uninstalled tensorflow-2.3.0\n",
            "Successfully installed keras-applications-1.0.8 tb-nightly-1.14.0a20190603 tensorflow-2.0.0b1 tf-estimator-nightly-1.14.0.dev2019060501\n"
          ],
          "name": "stdout"
        },
        {
          "output_type": "stream",
          "text": [
            "/usr/local/lib/python3.6/dist-packages/tensorflow/python/framework/dtypes.py:516: FutureWarning: Passing (type, 1) or '1type' as a synonym of type is deprecated; in a future version of numpy, it will be understood as (type, (1,)) / '(1,)type'.\n",
            "  _np_qint8 = np.dtype([(\"qint8\", np.int8, 1)])\n",
            "/usr/local/lib/python3.6/dist-packages/tensorflow/python/framework/dtypes.py:517: FutureWarning: Passing (type, 1) or '1type' as a synonym of type is deprecated; in a future version of numpy, it will be understood as (type, (1,)) / '(1,)type'.\n",
            "  _np_quint8 = np.dtype([(\"quint8\", np.uint8, 1)])\n",
            "/usr/local/lib/python3.6/dist-packages/tensorflow/python/framework/dtypes.py:518: FutureWarning: Passing (type, 1) or '1type' as a synonym of type is deprecated; in a future version of numpy, it will be understood as (type, (1,)) / '(1,)type'.\n",
            "  _np_qint16 = np.dtype([(\"qint16\", np.int16, 1)])\n",
            "/usr/local/lib/python3.6/dist-packages/tensorflow/python/framework/dtypes.py:519: FutureWarning: Passing (type, 1) or '1type' as a synonym of type is deprecated; in a future version of numpy, it will be understood as (type, (1,)) / '(1,)type'.\n",
            "  _np_quint16 = np.dtype([(\"quint16\", np.uint16, 1)])\n",
            "/usr/local/lib/python3.6/dist-packages/tensorflow/python/framework/dtypes.py:520: FutureWarning: Passing (type, 1) or '1type' as a synonym of type is deprecated; in a future version of numpy, it will be understood as (type, (1,)) / '(1,)type'.\n",
            "  _np_qint32 = np.dtype([(\"qint32\", np.int32, 1)])\n",
            "/usr/local/lib/python3.6/dist-packages/tensorflow/python/framework/dtypes.py:525: FutureWarning: Passing (type, 1) or '1type' as a synonym of type is deprecated; in a future version of numpy, it will be understood as (type, (1,)) / '(1,)type'.\n",
            "  np_resource = np.dtype([(\"resource\", np.ubyte, 1)])\n",
            "/usr/local/lib/python3.6/dist-packages/tensorboard/compat/tensorflow_stub/dtypes.py:541: FutureWarning: Passing (type, 1) or '1type' as a synonym of type is deprecated; in a future version of numpy, it will be understood as (type, (1,)) / '(1,)type'.\n",
            "  _np_qint8 = np.dtype([(\"qint8\", np.int8, 1)])\n",
            "/usr/local/lib/python3.6/dist-packages/tensorboard/compat/tensorflow_stub/dtypes.py:542: FutureWarning: Passing (type, 1) or '1type' as a synonym of type is deprecated; in a future version of numpy, it will be understood as (type, (1,)) / '(1,)type'.\n",
            "  _np_quint8 = np.dtype([(\"quint8\", np.uint8, 1)])\n",
            "/usr/local/lib/python3.6/dist-packages/tensorboard/compat/tensorflow_stub/dtypes.py:543: FutureWarning: Passing (type, 1) or '1type' as a synonym of type is deprecated; in a future version of numpy, it will be understood as (type, (1,)) / '(1,)type'.\n",
            "  _np_qint16 = np.dtype([(\"qint16\", np.int16, 1)])\n",
            "/usr/local/lib/python3.6/dist-packages/tensorboard/compat/tensorflow_stub/dtypes.py:544: FutureWarning: Passing (type, 1) or '1type' as a synonym of type is deprecated; in a future version of numpy, it will be understood as (type, (1,)) / '(1,)type'.\n",
            "  _np_quint16 = np.dtype([(\"quint16\", np.uint16, 1)])\n",
            "/usr/local/lib/python3.6/dist-packages/tensorboard/compat/tensorflow_stub/dtypes.py:545: FutureWarning: Passing (type, 1) or '1type' as a synonym of type is deprecated; in a future version of numpy, it will be understood as (type, (1,)) / '(1,)type'.\n",
            "  _np_qint32 = np.dtype([(\"qint32\", np.int32, 1)])\n",
            "/usr/local/lib/python3.6/dist-packages/tensorboard/compat/tensorflow_stub/dtypes.py:550: FutureWarning: Passing (type, 1) or '1type' as a synonym of type is deprecated; in a future version of numpy, it will be understood as (type, (1,)) / '(1,)type'.\n",
            "  np_resource = np.dtype([(\"resource\", np.ubyte, 1)])\n"
          ],
          "name": "stderr"
        }
      ]
    },
    {
      "cell_type": "code",
      "metadata": {
        "id": "E36ZFBAKF5a4",
        "colab_type": "code",
        "colab": {
          "base_uri": "https://localhost:8080/",
          "height": 50
        },
        "outputId": "55781150-d31f-4bce-ef2c-8da50e9af6ae"
      },
      "source": [
        "mnist=tf.keras.datasets.mnist\n",
        "(x_train,y_train),(x_test,y_test)=mnist.load_data()"
      ],
      "execution_count": 18,
      "outputs": [
        {
          "output_type": "stream",
          "text": [
            "Downloading data from https://storage.googleapis.com/tensorflow/tf-keras-datasets/mnist.npz\n",
            "11493376/11490434 [==============================] - 1s 0us/step\n"
          ],
          "name": "stdout"
        }
      ]
    },
    {
      "cell_type": "code",
      "metadata": {
        "id": "NHs_6gSeGORd",
        "colab_type": "code",
        "colab": {
          "base_uri": "https://localhost:8080/",
          "height": 84
        },
        "outputId": "0cde34bc-510b-46f7-be9d-b68cbc81dd7d"
      },
      "source": [
        "print(\"Attributes of tensor:\")\n",
        "print(x_train.ndim)\n",
        "print(x_train.shape)\n",
        "print(x_train.dtype)"
      ],
      "execution_count": 19,
      "outputs": [
        {
          "output_type": "stream",
          "text": [
            "Attributes of tensor:\n",
            "3\n",
            "(60000, 28, 28)\n",
            "uint8\n"
          ],
          "name": "stdout"
        }
      ]
    },
    {
      "cell_type": "code",
      "metadata": {
        "id": "-sOK1wGhGnQb",
        "colab_type": "code",
        "colab": {
          "base_uri": "https://localhost:8080/",
          "height": 84
        },
        "outputId": "e424ca4c-b6ae-45d8-ee95-e709a808a983"
      },
      "source": [
        "print(\"Attributes of tensor:\")\n",
        "print(x_test.ndim)\n",
        "print(x_test.shape)\n",
        "print(x_test.dtype)"
      ],
      "execution_count": 20,
      "outputs": [
        {
          "output_type": "stream",
          "text": [
            "Attributes of tensor:\n",
            "3\n",
            "(10000, 28, 28)\n",
            "uint8\n"
          ],
          "name": "stdout"
        }
      ]
    },
    {
      "cell_type": "code",
      "metadata": {
        "id": "b8ZvklNjGt1O",
        "colab_type": "code",
        "colab": {
          "base_uri": "https://localhost:8080/",
          "height": 84
        },
        "outputId": "3a167a72-06e5-44a2-c4ec-8b6919dfb8da"
      },
      "source": [
        "print(\"Attributes of tensor:\")\n",
        "print(y_train.ndim)\n",
        "print(y_train.shape)\n",
        "print(y_train.dtype)"
      ],
      "execution_count": 21,
      "outputs": [
        {
          "output_type": "stream",
          "text": [
            "Attributes of tensor:\n",
            "1\n",
            "(60000,)\n",
            "uint8\n"
          ],
          "name": "stdout"
        }
      ]
    },
    {
      "cell_type": "code",
      "metadata": {
        "id": "sniXH2SjGzUR",
        "colab_type": "code",
        "colab": {
          "base_uri": "https://localhost:8080/",
          "height": 84
        },
        "outputId": "48018402-36b3-460d-8c4b-d836784f6c74"
      },
      "source": [
        "print(\"Attributes of tensor:\")\n",
        "print(y_test.ndim)\n",
        "print(y_test.shape)\n",
        "print(y_test.dtype)"
      ],
      "execution_count": 22,
      "outputs": [
        {
          "output_type": "stream",
          "text": [
            "Attributes of tensor:\n",
            "1\n",
            "(10000,)\n",
            "uint8\n"
          ],
          "name": "stdout"
        }
      ]
    },
    {
      "cell_type": "markdown",
      "metadata": {
        "id": "qZtDUrxlHXgk",
        "colab_type": "text"
      },
      "source": [
        "DATA SELECTION (TENSOR SLICING)\n",
        "\n",
        "Selecting a specific element in a tensor"
      ]
    },
    {
      "cell_type": "markdown",
      "metadata": {
        "id": "l8KhoiHDHhwI",
        "colab_type": "text"
      },
      "source": [
        "**Selecting a single data point**"
      ]
    },
    {
      "cell_type": "code",
      "metadata": {
        "id": "vbj0lvvPHINX",
        "colab_type": "code",
        "colab": {
          "base_uri": "https://localhost:8080/",
          "height": 1000
        },
        "outputId": "e89aa236-8e26-4f87-8baf-9db9f07ac724"
      },
      "source": [
        "x_1=x_train[0]\n",
        "x_1"
      ],
      "execution_count": 23,
      "outputs": [
        {
          "output_type": "execute_result",
          "data": {
            "text/plain": [
              "array([[  0,   0,   0,   0,   0,   0,   0,   0,   0,   0,   0,   0,   0,\n",
              "          0,   0,   0,   0,   0,   0,   0,   0,   0,   0,   0,   0,   0,\n",
              "          0,   0],\n",
              "       [  0,   0,   0,   0,   0,   0,   0,   0,   0,   0,   0,   0,   0,\n",
              "          0,   0,   0,   0,   0,   0,   0,   0,   0,   0,   0,   0,   0,\n",
              "          0,   0],\n",
              "       [  0,   0,   0,   0,   0,   0,   0,   0,   0,   0,   0,   0,   0,\n",
              "          0,   0,   0,   0,   0,   0,   0,   0,   0,   0,   0,   0,   0,\n",
              "          0,   0],\n",
              "       [  0,   0,   0,   0,   0,   0,   0,   0,   0,   0,   0,   0,   0,\n",
              "          0,   0,   0,   0,   0,   0,   0,   0,   0,   0,   0,   0,   0,\n",
              "          0,   0],\n",
              "       [  0,   0,   0,   0,   0,   0,   0,   0,   0,   0,   0,   0,   0,\n",
              "          0,   0,   0,   0,   0,   0,   0,   0,   0,   0,   0,   0,   0,\n",
              "          0,   0],\n",
              "       [  0,   0,   0,   0,   0,   0,   0,   0,   0,   0,   0,   0,   3,\n",
              "         18,  18,  18, 126, 136, 175,  26, 166, 255, 247, 127,   0,   0,\n",
              "          0,   0],\n",
              "       [  0,   0,   0,   0,   0,   0,   0,   0,  30,  36,  94, 154, 170,\n",
              "        253, 253, 253, 253, 253, 225, 172, 253, 242, 195,  64,   0,   0,\n",
              "          0,   0],\n",
              "       [  0,   0,   0,   0,   0,   0,   0,  49, 238, 253, 253, 253, 253,\n",
              "        253, 253, 253, 253, 251,  93,  82,  82,  56,  39,   0,   0,   0,\n",
              "          0,   0],\n",
              "       [  0,   0,   0,   0,   0,   0,   0,  18, 219, 253, 253, 253, 253,\n",
              "        253, 198, 182, 247, 241,   0,   0,   0,   0,   0,   0,   0,   0,\n",
              "          0,   0],\n",
              "       [  0,   0,   0,   0,   0,   0,   0,   0,  80, 156, 107, 253, 253,\n",
              "        205,  11,   0,  43, 154,   0,   0,   0,   0,   0,   0,   0,   0,\n",
              "          0,   0],\n",
              "       [  0,   0,   0,   0,   0,   0,   0,   0,   0,  14,   1, 154, 253,\n",
              "         90,   0,   0,   0,   0,   0,   0,   0,   0,   0,   0,   0,   0,\n",
              "          0,   0],\n",
              "       [  0,   0,   0,   0,   0,   0,   0,   0,   0,   0,   0, 139, 253,\n",
              "        190,   2,   0,   0,   0,   0,   0,   0,   0,   0,   0,   0,   0,\n",
              "          0,   0],\n",
              "       [  0,   0,   0,   0,   0,   0,   0,   0,   0,   0,   0,  11, 190,\n",
              "        253,  70,   0,   0,   0,   0,   0,   0,   0,   0,   0,   0,   0,\n",
              "          0,   0],\n",
              "       [  0,   0,   0,   0,   0,   0,   0,   0,   0,   0,   0,   0,  35,\n",
              "        241, 225, 160, 108,   1,   0,   0,   0,   0,   0,   0,   0,   0,\n",
              "          0,   0],\n",
              "       [  0,   0,   0,   0,   0,   0,   0,   0,   0,   0,   0,   0,   0,\n",
              "         81, 240, 253, 253, 119,  25,   0,   0,   0,   0,   0,   0,   0,\n",
              "          0,   0],\n",
              "       [  0,   0,   0,   0,   0,   0,   0,   0,   0,   0,   0,   0,   0,\n",
              "          0,  45, 186, 253, 253, 150,  27,   0,   0,   0,   0,   0,   0,\n",
              "          0,   0],\n",
              "       [  0,   0,   0,   0,   0,   0,   0,   0,   0,   0,   0,   0,   0,\n",
              "          0,   0,  16,  93, 252, 253, 187,   0,   0,   0,   0,   0,   0,\n",
              "          0,   0],\n",
              "       [  0,   0,   0,   0,   0,   0,   0,   0,   0,   0,   0,   0,   0,\n",
              "          0,   0,   0,   0, 249, 253, 249,  64,   0,   0,   0,   0,   0,\n",
              "          0,   0],\n",
              "       [  0,   0,   0,   0,   0,   0,   0,   0,   0,   0,   0,   0,   0,\n",
              "          0,  46, 130, 183, 253, 253, 207,   2,   0,   0,   0,   0,   0,\n",
              "          0,   0],\n",
              "       [  0,   0,   0,   0,   0,   0,   0,   0,   0,   0,   0,   0,  39,\n",
              "        148, 229, 253, 253, 253, 250, 182,   0,   0,   0,   0,   0,   0,\n",
              "          0,   0],\n",
              "       [  0,   0,   0,   0,   0,   0,   0,   0,   0,   0,  24, 114, 221,\n",
              "        253, 253, 253, 253, 201,  78,   0,   0,   0,   0,   0,   0,   0,\n",
              "          0,   0],\n",
              "       [  0,   0,   0,   0,   0,   0,   0,   0,  23,  66, 213, 253, 253,\n",
              "        253, 253, 198,  81,   2,   0,   0,   0,   0,   0,   0,   0,   0,\n",
              "          0,   0],\n",
              "       [  0,   0,   0,   0,   0,   0,  18, 171, 219, 253, 253, 253, 253,\n",
              "        195,  80,   9,   0,   0,   0,   0,   0,   0,   0,   0,   0,   0,\n",
              "          0,   0],\n",
              "       [  0,   0,   0,   0,  55, 172, 226, 253, 253, 253, 253, 244, 133,\n",
              "         11,   0,   0,   0,   0,   0,   0,   0,   0,   0,   0,   0,   0,\n",
              "          0,   0],\n",
              "       [  0,   0,   0,   0, 136, 253, 253, 253, 212, 135, 132,  16,   0,\n",
              "          0,   0,   0,   0,   0,   0,   0,   0,   0,   0,   0,   0,   0,\n",
              "          0,   0],\n",
              "       [  0,   0,   0,   0,   0,   0,   0,   0,   0,   0,   0,   0,   0,\n",
              "          0,   0,   0,   0,   0,   0,   0,   0,   0,   0,   0,   0,   0,\n",
              "          0,   0],\n",
              "       [  0,   0,   0,   0,   0,   0,   0,   0,   0,   0,   0,   0,   0,\n",
              "          0,   0,   0,   0,   0,   0,   0,   0,   0,   0,   0,   0,   0,\n",
              "          0,   0],\n",
              "       [  0,   0,   0,   0,   0,   0,   0,   0,   0,   0,   0,   0,   0,\n",
              "          0,   0,   0,   0,   0,   0,   0,   0,   0,   0,   0,   0,   0,\n",
              "          0,   0]], dtype=uint8)"
            ]
          },
          "metadata": {
            "tags": []
          },
          "execution_count": 23
        }
      ]
    },
    {
      "cell_type": "markdown",
      "metadata": {
        "id": "yuIFy6RkHxCZ",
        "colab_type": "text"
      },
      "source": [
        "There are 28 rows of 28 dimensional vectors and each position holds a number between 0 and 255.\n",
        "\n",
        "Visualize digits?"
      ]
    },
    {
      "cell_type": "code",
      "metadata": {
        "id": "KyfV8oVWIBvo",
        "colab_type": "code",
        "colab": {
          "base_uri": "https://localhost:8080/",
          "height": 265
        },
        "outputId": "69134cb9-3bb8-49a9-d2db-5abcb6fddfd5"
      },
      "source": [
        "#Display 1st image from the training set\n",
        "\n",
        "import matplotlib.pyplot as plt\n",
        "\n",
        "#Function to display an image\n",
        "def display_image(img):\n",
        "  plt.imshow(img,cmap=plt.cm.binary)\n",
        "  plt.show()\n",
        "\n",
        "display_image(x_1)"
      ],
      "execution_count": 24,
      "outputs": [
        {
          "output_type": "display_data",
          "data": {
            "image/png": "[encoded data removed]",
            "text/plain": [
              "<Figure size 432x288 with 1 Axes>"
            ]
          },
          "metadata": {
            "tags": [],
            "needs_background": "light"
          }
        }
      ]
    },
    {
      "cell_type": "code",
      "metadata": {
        "id": "i1gWQPM1I34f",
        "colab_type": "code",
        "colab": {
          "base_uri": "https://localhost:8080/",
          "height": 265
        },
        "outputId": "98bdeadb-a650-449f-f514-4257140c3f37"
      },
      "source": [
        "display_image(x_train[10])  #11th image"
      ],
      "execution_count": 25,
      "outputs": [
        {
          "output_type": "display_data",
          "data": {
            "image/png": "[encoded data removed]",
            "text/plain": [
              "<Figure size 432x288 with 1 Axes>"
            ]
          },
          "metadata": {
            "tags": [],
            "needs_background": "light"
          }
        }
      ]
    },
    {
      "cell_type": "markdown",
      "metadata": {
        "id": "KcOpaux1bXb9",
        "colab_type": "text"
      },
      "source": [
        "**Select multiple datapoints**\n",
        "\n",
        "\n",
        "*   : is used to select the entire axis.\n",
        "*   i:j is used to select i-th to j-1-th data point.\n",
        "\n"
      ]
    },
    {
      "cell_type": "code",
      "metadata": {
        "id": "c4HPqoxFbtq2",
        "colab_type": "code",
        "colab": {
          "base_uri": "https://localhost:8080/",
          "height": 84
        },
        "outputId": "304611a8-4cc5-46c2-b098-db623fafe539"
      },
      "source": [
        "x_train_slice=x_train[10:100]\n",
        "print(\"Attributes of tensor:\")\n",
        "print(x_train_slice.ndim)\n",
        "print(x_train_slice.shape)# 90 samples each of 28x28\n",
        "print(x_train_slice.dtype)"
      ],
      "execution_count": 26,
      "outputs": [
        {
          "output_type": "stream",
          "text": [
            "Attributes of tensor:\n",
            "3\n",
            "(90, 28, 28)\n",
            "uint8\n"
          ],
          "name": "stdout"
        }
      ]
    },
    {
      "cell_type": "markdown",
      "metadata": {
        "id": "LHtEkn2wcIGV",
        "colab_type": "text"
      },
      "source": [
        "Few more equivalent ways of doing this."
      ]
    },
    {
      "cell_type": "code",
      "metadata": {
        "id": "2UFoDONscOpZ",
        "colab_type": "code",
        "colab": {}
      },
      "source": [
        "x_train_slice=x_train[10:100,:,:]\n",
        "x_train_slice=x_train[10:100,0:28,0:28]"
      ],
      "execution_count": 27,
      "outputs": []
    },
    {
      "cell_type": "code",
      "metadata": {
        "id": "7h-8aWf6dGdW",
        "colab_type": "code",
        "colab": {
          "base_uri": "https://localhost:8080/",
          "height": 84
        },
        "outputId": "4a4abb02-b0e6-4e2f-c8d3-11c1c65f216e"
      },
      "source": [
        "x_train_slice=x_train[:,14:,14:]  #14x14 patch from bottom right\n",
        "print(\"Attributes of tensor:\")\n",
        "print(x_train_slice.ndim)\n",
        "print(x_train_slice.shape)\n",
        "print(x_train_slice.dtype)"
      ],
      "execution_count": 28,
      "outputs": [
        {
          "output_type": "stream",
          "text": [
            "Attributes of tensor:\n",
            "3\n",
            "(60000, 14, 14)\n",
            "uint8\n"
          ],
          "name": "stdout"
        }
      ]
    },
    {
      "cell_type": "code",
      "metadata": {
        "id": "YZf1i6MWdcnu",
        "colab_type": "code",
        "colab": {
          "base_uri": "https://localhost:8080/",
          "height": 84
        },
        "outputId": "cd0527b6-053f-4af4-ee1e-95b043f64fb5"
      },
      "source": [
        "x_train_slice=x_train[:,7:-7,7:-7]  #14x14 patch from centered middle\n",
        "print(\"Attributes of tensor:\")\n",
        "print(x_train_slice.ndim)\n",
        "print(x_train_slice.shape)\n",
        "print(x_train_slice.dtype)"
      ],
      "execution_count": 29,
      "outputs": [
        {
          "output_type": "stream",
          "text": [
            "Attributes of tensor:\n",
            "3\n",
            "(60000, 14, 14)\n",
            "uint8\n"
          ],
          "name": "stdout"
        }
      ]
    },
    {
      "cell_type": "markdown",
      "metadata": {
        "id": "gLlhiiPjd4sD",
        "colab_type": "text"
      },
      "source": [
        "Since we consume data in batches during training (Batch GD). Batch tensor?"
      ]
    },
    {
      "cell_type": "markdown",
      "metadata": {
        "id": "8AR8ykkGeDkP",
        "colab_type": "text"
      },
      "source": [
        "DATA BATCHES\n",
        "\n",
        "We usually break the data into batches and process those batches\n",
        "\n",
        "\n",
        "*   The first axis in all data sensor is sample axis or sample dimension.\n",
        "*   The first axis of batch tensor is called the batch axis or batch dimension.\n",
        "\n"
      ]
    },
    {
      "cell_type": "code",
      "metadata": {
        "id": "pUiDwqIpdzzg",
        "colab_type": "code",
        "colab": {
          "base_uri": "https://localhost:8080/",
          "height": 84
        },
        "outputId": "7a079cc1-53ed-4321-9729-15f6b279a2f2"
      },
      "source": [
        "batch_1=x_train[:128] \n",
        "print(\"Attributes of tensor:\")\n",
        "print(batch_1.ndim)\n",
        "print(batch_1.shape)\n",
        "print(batch_1.dtype)"
      ],
      "execution_count": 30,
      "outputs": [
        {
          "output_type": "stream",
          "text": [
            "Attributes of tensor:\n",
            "3\n",
            "(128, 28, 28)\n",
            "uint8\n"
          ],
          "name": "stdout"
        }
      ]
    },
    {
      "cell_type": "code",
      "metadata": {
        "id": "-VpGHEZKe0Zy",
        "colab_type": "code",
        "colab": {
          "base_uri": "https://localhost:8080/",
          "height": 84
        },
        "outputId": "2c75da18-8420-417b-9614-fd5e68497894"
      },
      "source": [
        "batch_2=x_train[128:256] \n",
        "print(\"Attributes of tensor:\")\n",
        "print(batch_2.ndim)\n",
        "print(batch_2.shape)\n",
        "print(batch_2.dtype)"
      ],
      "execution_count": 31,
      "outputs": [
        {
          "output_type": "stream",
          "text": [
            "Attributes of tensor:\n",
            "3\n",
            "(128, 28, 28)\n",
            "uint8\n"
          ],
          "name": "stdout"
        }
      ]
    },
    {
      "cell_type": "code",
      "metadata": {
        "id": "rLsZI_ywfEOx",
        "colab_type": "code",
        "colab": {
          "base_uri": "https://localhost:8080/",
          "height": 84
        },
        "outputId": "bbe398b9-a31d-45cf-b570-3a75d064df1e"
      },
      "source": [
        "n=60000//128  #Nth batch\n",
        "batch_n=x_train[128*(n-1):128*n] \n",
        "print(\"Attributes of tensor:\")\n",
        "print(batch_n.ndim)\n",
        "print(batch_n.shape)\n",
        "print(batch_n.dtype)"
      ],
      "execution_count": 32,
      "outputs": [
        {
          "output_type": "stream",
          "text": [
            "Attributes of tensor:\n",
            "3\n",
            "(128, 28, 28)\n",
            "uint8\n"
          ],
          "name": "stdout"
        }
      ]
    },
    {
      "cell_type": "markdown",
      "metadata": {
        "id": "iEgHeVuGfrlv",
        "colab_type": "text"
      },
      "source": [
        "REAL WORLD EXAMPLES OF DATA TENSORS\n",
        "\n",
        "TENSOR    EXAMPLES                SHAPE                                  DATASET\n",
        "\n",
        "---\n",
        "\n",
        "2D         vector               (samples,features)                     Text doc\n",
        "\n",
        "3D  timeseries and sequences    (samples,timestamps,features)       Stock Prices\n",
        "\n",
        "4D        Images                (samples,channels,height,width)     MNIST Digit\n",
        "\n",
        "5D        Videos                (samples,frames,channels,height,width)  Videos\n",
        "\n",
        "---\n",
        "\n"
      ]
    },
    {
      "cell_type": "markdown",
      "metadata": {
        "id": "yCHqD9RKrzYI",
        "colab_type": "text"
      },
      "source": [
        "**Vector data**\n",
        "\n",
        "\n",
        "\n",
        "*   Most commonly appearing tensor in ML\n",
        "*   Each point is encoded as a vector of features.\n",
        "*   A batch of data can be encoded as a 20 tensor i.e., array of vectors.\n",
        "\n",
        "\n",
        "\n",
        "1.   first axis is a sample axis\n",
        "2.   Second axis is a feature axis\n",
        "\n",
        "*  Example datasets:\n",
        "\n",
        "\n",
        "1.   Text documents: A set of k documents, each represented with a feature\n",
        "2.   Fuel efficiency dataset: A set of automobiles and their features.\n",
        "\n",
        "\n",
        "\n",
        "\n",
        "\n",
        "\n",
        "\n",
        "\n",
        "\n"
      ]
    },
    {
      "cell_type": "markdown",
      "metadata": {
        "id": "QFaz81AztF6H",
        "colab_type": "text"
      },
      "source": [
        "**Timeseries and sequence data**\n",
        "\n",
        "We use 3D tensor for storing time-series and sequence-data.(sample,timesteps,features)\n",
        "\n",
        "**Stock prices dataset**\n",
        "\n",
        "\n",
        "*   Every minute, storing features associated with that instance of time. e.g, current price, the highest and the lowest price in the past minute. Thus, every minute is encoded as a m-D vector, where m is the number of features.\n",
        "*   An entire day of trading is encoded as a 2D tensor of shape (360,m)(360 min)\n",
        "*   250 days worth data can be stored in a 3D tensor of shape (250,360,m). Here, each sample would be one days worth of data.\n",
        "\n",
        "**Dataset of tweets**\n",
        "\n",
        "Tweet is encoded as a sequence of 280 characters.\n",
        "\n",
        "\n",
        "\n",
        "*   At each position, one of the 128 unique characters is possible. Thus, each character can be encoded as a one-hot encoding with 128 length vector. \n",
        "*   Each tweet can be encoded as 2D tensor of shape (280,128).\n",
        "*   A dataset of 10000000 can be saved in 3D tensor of shape (10000000,280,128)\n",
        "\n"
      ]
    },
    {
      "cell_type": "markdown",
      "metadata": {
        "id": "tG2CZRo-zpxx",
        "colab_type": "text"
      },
      "source": [
        "**Video Data**\n",
        "\n",
        "\n",
        "\n",
        "*   Stored as a 5D tensor of shape (sample,frames,channels,height,width)(ch=RGB)\n",
        "*   Each sample is a video encoded in 4D tensor of shape (frames,channels,height,width)\n",
        "*   Each frame in the video is encoded as a 3D tensor(just like image)\n",
        "\n"
      ]
    },
    {
      "cell_type": "markdown",
      "metadata": {
        "id": "AX0J6_RjN9um",
        "colab_type": "text"
      },
      "source": [
        "KEY OPERATIONS IN NN\n",
        "\n",
        "In NN, we specify a layer with the following statement:\n",
        "\n",
        "tf.keras.layers.Dense(128,activation='relu')\n",
        "\n",
        "This layer takes 2D tensor as input and returns another 2D tensor as an output through the following function:\n",
        "\n",
        "output=relu(dot(w,input)+b)\n",
        "\n",
        "There are three operations here:\n",
        "\n",
        "\n",
        "\n",
        "1.   Linear combination of inputs and the corresponding weights:dot(w,input) where w isa a weight vector and input is a feature vector. \n",
        "2.   Add bias to the calculation dot(w,input)+b.\n",
        "3.   Finally apply a non-linear activation on the result. Here we have used relu as an activation function, which returns max(x,0).\n",
        "\n",
        "\n"
      ]
    },
    {
      "cell_type": "markdown",
      "metadata": {
        "id": "8T6RyL_lPbTR",
        "colab_type": "text"
      },
      "source": [
        "Let m be the size of the input to this layer. Since, its a dense layer, each unit/neuron in this layer will receive m inputs per sample.\n",
        "\n",
        "\n",
        "*   For each neuron, we have m weights, one corresponding to every input. Thus for 128 units, we will have m weights, w is a 2D tensor of shape(128,m)\n",
        "*   Input is a vector (2D tensor) with sample examples,each represented with m features.\n",
        "*   Each unit in the dense layer has a bias term. Hence b is a vector with 128 components.\n",
        "\n"
      ]
    },
    {
      "cell_type": "code",
      "metadata": {
        "id": "uWO12wGQgE97",
        "colab_type": "code",
        "colab": {}
      },
      "source": [
        "import numpy as np"
      ],
      "execution_count": 33,
      "outputs": []
    },
    {
      "cell_type": "code",
      "metadata": {
        "id": "2drjkA_ngCuh",
        "colab_type": "code",
        "colab": {
          "base_uri": "https://localhost:8080/",
          "height": 118
        },
        "outputId": "69f060cc-1f13-46d8-ea42-0686284b6e35"
      },
      "source": [
        "w=np.array([[1,0.5],[2,1]])\n",
        "print(w.ndim)\n",
        "print(w.shape)\n",
        "\n",
        "input=np.array([[1,2],[-1,2]])\n",
        "print(input.ndim)\n",
        "print(input.shape)\n",
        "\n",
        "b=np.array([-2.0,0.5])\n",
        "print(b.ndim)\n",
        "print(b.shape)"
      ],
      "execution_count": 34,
      "outputs": [
        {
          "output_type": "stream",
          "text": [
            "2\n",
            "(2, 2)\n",
            "2\n",
            "(2, 2)\n",
            "1\n",
            "(2,)\n"
          ],
          "name": "stdout"
        }
      ]
    },
    {
      "cell_type": "markdown",
      "metadata": {
        "id": "EB9JRvOqTxrk",
        "colab_type": "text"
      },
      "source": [
        "Lets apply linear combination."
      ]
    },
    {
      "cell_type": "code",
      "metadata": {
        "id": "kRiCADPiTwxL",
        "colab_type": "code",
        "colab": {
          "base_uri": "https://localhost:8080/",
          "height": 50
        },
        "outputId": "05f33f91-678f-4e69-e2b8-cf4a52b421f8"
      },
      "source": [
        "z=np.dot(w,input)+b \n",
        "\n",
        "print(z.ndim)\n",
        "print(z.shape)"
      ],
      "execution_count": 35,
      "outputs": [
        {
          "output_type": "stream",
          "text": [
            "2\n",
            "(2, 2)\n"
          ],
          "name": "stdout"
        }
      ]
    },
    {
      "cell_type": "markdown",
      "metadata": {
        "id": "JheamLrhZjXV",
        "colab_type": "text"
      },
      "source": [
        "Lets apply non linear activation with relu"
      ]
    },
    {
      "cell_type": "code",
      "metadata": {
        "id": "YmqkBV9bZoqM",
        "colab_type": "code",
        "colab": {
          "base_uri": "https://localhost:8080/",
          "height": 84
        },
        "outputId": "a2e6e3d6-9404-419d-d5d0-5a8bb50898d8"
      },
      "source": [
        "output=np.maximum(0.,z)\n",
        "\n",
        "print(output.ndim)\n",
        "print(output.shape)\n",
        "print(output)"
      ],
      "execution_count": 36,
      "outputs": [
        {
          "output_type": "stream",
          "text": [
            "2\n",
            "(2, 2)\n",
            "[[0.  3.5]\n",
            " [0.  6.5]]\n"
          ],
          "name": "stdout"
        }
      ]
    },
    {
      "cell_type": "markdown",
      "metadata": {
        "id": "iVwvb6JlZ3wj",
        "colab_type": "text"
      },
      "source": [
        "Before that, we will visualize a few commonly used activations."
      ]
    },
    {
      "cell_type": "code",
      "metadata": {
        "id": "j_akr3PQbml6",
        "colab_type": "code",
        "colab": {
          "base_uri": "https://localhost:8080/",
          "height": 282
        },
        "outputId": "0176819a-91bc-4eec-c97a-628ac74fb9d9"
      },
      "source": [
        "import matplotlib.pyplot as plt\n",
        "\n",
        "#relu activation\n",
        "\n",
        "x=np.linspace(-10,10,100)\n",
        "z=np.maximum(0.,x)\n",
        "plt.plot(x,z)\n",
        "plt.plot(\"x\")\n",
        "plt.plot(\"relu(x)\")"
      ],
      "execution_count": 37,
      "outputs": [
        {
          "output_type": "execute_result",
          "data": {
            "text/plain": [
              "[<matplotlib.lines.Line2D at 0x7efc4a9e0c50>]"
            ]
          },
          "metadata": {
            "tags": []
          },
          "execution_count": 37
        },
        {
          "output_type": "display_data",
          "data": {
            "image/png": "[encoded data removed]",
            "text/plain": [
              "<Figure size 432x288 with 1 Axes>"
            ]
          },
          "metadata": {
            "tags": [],
            "needs_background": "light"
          }
        }
      ]
    },
    {
      "cell_type": "code",
      "metadata": {
        "id": "B7BCNdl5cKCC",
        "colab_type": "code",
        "colab": {
          "base_uri": "https://localhost:8080/",
          "height": 296
        },
        "outputId": "c1c7e186-e405-4cbc-ade4-5b40ed42eaaa"
      },
      "source": [
        "#Sigmoid activation\n",
        "import math\n",
        "x=np.linspace(-10,10,100)\n",
        "z=1/(1+np.exp(-x))\n",
        "\n",
        "plt.plot(x,z)\n",
        "plt.xlabel(\"x\")\n",
        "plt.ylabel(\"sigmoid(x)\")  #output between 0 to 1"
      ],
      "execution_count": 38,
      "outputs": [
        {
          "output_type": "execute_result",
          "data": {
            "text/plain": [
              "Text(0, 0.5, 'sigmoid(x)')"
            ]
          },
          "metadata": {
            "tags": []
          },
          "execution_count": 38
        },
        {
          "output_type": "display_data",
          "data": {
            "image/png": "[encoded data removed]",
            "text/plain": [
              "<Figure size 432x288 with 1 Axes>"
            ]
          },
          "metadata": {
            "tags": [],
            "needs_background": "light"
          }
        }
      ]
    },
    {
      "cell_type": "markdown",
      "metadata": {
        "id": "bZjvOo8xpbzN",
        "colab_type": "text"
      },
      "source": [
        "ELEMENT WISE ADDITIONS\n",
        "\n",
        "Note that relu and tensor addition are both element wise operations and heance can be parallelized. The vectorized implementation exploit this characteristics for efficient implementations."
      ]
    },
    {
      "cell_type": "code",
      "metadata": {
        "id": "WMhFx7qPpz27",
        "colab_type": "code",
        "colab": {
          "base_uri": "https://localhost:8080/",
          "height": 50
        },
        "outputId": "37f0bd85-b1f5-4377-dbb4-a8bebe600d3c"
      },
      "source": [
        "z=np.dot(w,input)+b\n",
        "output=np.maximum(0,z)\n",
        "print(z)"
      ],
      "execution_count": 40,
      "outputs": [
        {
          "output_type": "stream",
          "text": [
            "[[-1.5  3.5]\n",
            " [-1.   6.5]]\n"
          ],
          "name": "stdout"
        }
      ]
    },
    {
      "cell_type": "markdown",
      "metadata": {
        "id": "dBCV9IeKpy1C",
        "colab_type": "text"
      },
      "source": [
        "BROADCASTING\n",
        "\n",
        "Employed to make two tensors involved in the operations compatible. Concretely, lets say you want to add two tensors when their shapes differ.\n",
        "\n",
        "\n",
        "*   Axes are added to the smaller tensor to match the ndim of the larger tensor. these axes are called broadcast axes.\n",
        "*   The smaller tensor is repeated alongside these new axes to match the full shape of the larger tensor.\n",
        "\n"
      ]
    },
    {
      "cell_type": "code",
      "metadata": {
        "id": "eLPZYpxeq057",
        "colab_type": "code",
        "colab": {
          "base_uri": "https://localhost:8080/",
          "height": 84
        },
        "outputId": "f2c82892-42bf-4c2c-8e4b-9487a896590c"
      },
      "source": [
        "x_1=np.random.rand(32,10)\n",
        "x_2=np.random.rand(10,)\n",
        "\n",
        "print(\"Shape of x_1\",x_1.shape)\n",
        "print(\"Shape of x_2\",x_2.shape)\n",
        "\n",
        "#Broadcasting\n",
        "#1. Add an axis to match ndim of the larger tensor\n",
        "x_2=np.expand_dims(x_2,axis=0)\n",
        "print(\"Shape of x_2 after broadcasting\",x_2.shape)\n",
        "\n",
        "#2. Smaller tensor is repeated on the new axis\n",
        "x_2=np.repeat(x_2,32,axis=0)\n",
        "print(\"Shape of x_2 after broadcasting\",x_2.shape)"
      ],
      "execution_count": 41,
      "outputs": [
        {
          "output_type": "stream",
          "text": [
            "Shape of x_1 (32, 10)\n",
            "Shape of x_2 (10,)\n",
            "Shape of x_2 after broadcasting (1, 10)\n",
            "Shape of x_2 after broadcasting (32, 10)\n"
          ],
          "name": "stdout"
        }
      ]
    },
    {
      "cell_type": "markdown",
      "metadata": {
        "id": "IWHgA86stFgI",
        "colab_type": "text"
      },
      "source": [
        "In actual implementation, the entries are not repeated, but the algorithms implements virtual repetitions operations."
      ]
    },
    {
      "cell_type": "code",
      "metadata": {
        "id": "QnZY7bbYtUlq",
        "colab_type": "code",
        "colab": {
          "base_uri": "https://localhost:8080/",
          "height": 34
        },
        "outputId": "d3e9e6dd-6736-4157-bac6-6364c4c2267d"
      },
      "source": [
        "#numpy implements broadcasting\n",
        "x_1=np.random.rand(32,10)\n",
        "x_2=np.random.rand(10,)\n",
        "print((x_1+x_2).shape)"
      ],
      "execution_count": 42,
      "outputs": [
        {
          "output_type": "stream",
          "text": [
            "(32, 10)\n"
          ],
          "name": "stdout"
        }
      ]
    },
    {
      "cell_type": "markdown",
      "metadata": {
        "id": "5YFKWlnvtnjA",
        "colab_type": "text"
      },
      "source": [
        "TENSOR DOT\n",
        "\n",
        "Reshaping is used to arrange rows and columns or tensors to match the shape or target tensor. The reshaped tensor has the same number or elements as the initial tensor.\n",
        "\n",
        "It is mainly used in data preprossessing."
      ]
    },
    {
      "cell_type": "code",
      "metadata": {
        "id": "tMhwdtlLuCGn",
        "colab_type": "code",
        "colab": {
          "base_uri": "https://localhost:8080/",
          "height": 252
        },
        "outputId": "036c067e-dd7b-4ecf-cf84-b1bb80c7c605"
      },
      "source": [
        "x=np.array([[0.,1.],\n",
        "            [2.,3.],\n",
        "            [4.,5.]])\n",
        "print(\"x\",x)\n",
        "print(\"Shape\",x.shape)\n",
        "\n",
        "x=x.reshape((6,1))\n",
        "print(\"x\",x)\n",
        "print(\"Shape\",x.shape)\n",
        "\n",
        "x=x.reshape((2,3))\n",
        "print(\"x\",x)\n",
        "print(\"Shape\",x.shape)"
      ],
      "execution_count": 43,
      "outputs": [
        {
          "output_type": "stream",
          "text": [
            "x [[0. 1.]\n",
            " [2. 3.]\n",
            " [4. 5.]]\n",
            "Shape (3, 2)\n",
            "x [[0.]\n",
            " [1.]\n",
            " [2.]\n",
            " [3.]\n",
            " [4.]\n",
            " [5.]]\n",
            "Shape (6, 1)\n",
            "x [[0. 1. 2.]\n",
            " [3. 4. 5.]]\n",
            "Shape (2, 3)\n"
          ],
          "name": "stdout"
        }
      ]
    },
    {
      "cell_type": "markdown",
      "metadata": {
        "id": "yzuZvc0bu11a",
        "colab_type": "text"
      },
      "source": [
        "Transposition is a special case of reshaping."
      ]
    },
    {
      "cell_type": "code",
      "metadata": {
        "id": "DrtBD6Fqu7Ou",
        "colab_type": "code",
        "colab": {
          "base_uri": "https://localhost:8080/",
          "height": 34
        },
        "outputId": "f2f1aee0-2609-4454-8a23-5f183ba07baa"
      },
      "source": [
        "x=np.zeros((300,30))\n",
        "x=np.transpose(x)\n",
        "print(x.shape)"
      ],
      "execution_count": 44,
      "outputs": [
        {
          "output_type": "stream",
          "text": [
            "(30, 300)\n"
          ],
          "name": "stdout"
        }
      ]
    }
  ]
}