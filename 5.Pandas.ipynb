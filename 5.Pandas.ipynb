{
  "nbformat": 4,
  "nbformat_minor": 0,
  "metadata": {
    "colab": {
      "name": "Pandas.ipynb",
      "provenance": [],
      "collapsed_sections": []
    },
    "kernelspec": {
      "name": "python3",
      "display_name": "Python 3"
    }
  },
  "cells": [
    {
      "cell_type": "markdown",
      "metadata": {
        "id": "JlwrtqZeIUi9",
        "colab_type": "text"
      },
      "source": [
        "## ***Pandas***\n",
        "\n",
        "*  In contrast to NumPy, which requires that all entries in an array be of the same type, pandas allows each column to have a separate type.\n",
        "*  Ability to ingest from a great variety of file formats and data‐\n",
        "bases, like SQL, Excel files, and comma-separated values (CSV) files. \n",
        "*  Provides rich data structures and functions designed to make working with\n",
        "structured data fast, easy, and expressive.\n",
        "* The pandas name itself is derived from panel data.\n",
        "*  pandas is built on top of NumPy and makes it easy to\n",
        "use in NumPy-centric applications.\n",
        "\n"
      ]
    },
    {
      "cell_type": "code",
      "metadata": {
        "id": "BEWFpDopH3vu",
        "colab_type": "code",
        "outputId": "aad9d003-474f-4fb3-8318-37e32f403683",
        "colab": {
          "base_uri": "https://localhost:8080/",
          "height": 166
        }
      },
      "source": [
        "import pandas as pd\n",
        "# create a simple dataset of people\n",
        "data = {'Name': [\"John\", \"Anna\", \"Peter\", \"Linda\"],\n",
        " 'Location' : [\"New York\", \"Paris\", \"Berlin\", \"London\"],\n",
        " 'Age' : [24, 13, 53, 33]\n",
        " }\n",
        "data_pandas = pd.DataFrame(data)\n",
        "# IPython.display allows \"pretty printing\" of dataframes\n",
        "# in the Jupyter notebook\n",
        "display(data_pandas)"
      ],
      "execution_count": 0,
      "outputs": [
        {
          "output_type": "display_data",
          "data": {
            "text/html": [
              "<div>\n",
              "<style scoped>\n",
              "    .dataframe tbody tr th:only-of-type {\n",
              "        vertical-align: middle;\n",
              "    }\n",
              "\n",
              "    .dataframe tbody tr th {\n",
              "        vertical-align: top;\n",
              "    }\n",
              "\n",
              "    .dataframe thead th {\n",
              "        text-align: right;\n",
              "    }\n",
              "</style>\n",
              "<table border=\"1\" class=\"dataframe\">\n",
              "  <thead>\n",
              "    <tr style=\"text-align: right;\">\n",
              "      <th></th>\n",
              "      <th>Name</th>\n",
              "      <th>Location</th>\n",
              "      <th>Age</th>\n",
              "    </tr>\n",
              "  </thead>\n",
              "  <tbody>\n",
              "    <tr>\n",
              "      <th>0</th>\n",
              "      <td>John</td>\n",
              "      <td>New York</td>\n",
              "      <td>24</td>\n",
              "    </tr>\n",
              "    <tr>\n",
              "      <th>1</th>\n",
              "      <td>Anna</td>\n",
              "      <td>Paris</td>\n",
              "      <td>13</td>\n",
              "    </tr>\n",
              "    <tr>\n",
              "      <th>2</th>\n",
              "      <td>Peter</td>\n",
              "      <td>Berlin</td>\n",
              "      <td>53</td>\n",
              "    </tr>\n",
              "    <tr>\n",
              "      <th>3</th>\n",
              "      <td>Linda</td>\n",
              "      <td>London</td>\n",
              "      <td>33</td>\n",
              "    </tr>\n",
              "  </tbody>\n",
              "</table>\n",
              "</div>"
            ],
            "text/plain": [
              "    Name  Location  Age\n",
              "0   John  New York   24\n",
              "1   Anna     Paris   13\n",
              "2  Peter    Berlin   53\n",
              "3  Linda    London   33"
            ]
          },
          "metadata": {
            "tags": []
          }
        }
      ]
    },
    {
      "cell_type": "markdown",
      "metadata": {
        "id": "5ndzkWwkJUtm",
        "colab_type": "text"
      },
      "source": [
        "* There are several possible ways to query this table. For example:"
      ]
    },
    {
      "cell_type": "code",
      "metadata": {
        "id": "T6pVCTPLJXPv",
        "colab_type": "code",
        "outputId": "8cc21ead-406d-4922-e885-3d7a0c4c575c",
        "colab": {
          "base_uri": "https://localhost:8080/",
          "height": 106
        }
      },
      "source": [
        "# Select all rows that have an age column greater than 30\n",
        "display(data_pandas[data_pandas.Age > 30])"
      ],
      "execution_count": 0,
      "outputs": [
        {
          "output_type": "display_data",
          "data": {
            "text/html": [
              "<div>\n",
              "<style scoped>\n",
              "    .dataframe tbody tr th:only-of-type {\n",
              "        vertical-align: middle;\n",
              "    }\n",
              "\n",
              "    .dataframe tbody tr th {\n",
              "        vertical-align: top;\n",
              "    }\n",
              "\n",
              "    .dataframe thead th {\n",
              "        text-align: right;\n",
              "    }\n",
              "</style>\n",
              "<table border=\"1\" class=\"dataframe\">\n",
              "  <thead>\n",
              "    <tr style=\"text-align: right;\">\n",
              "      <th></th>\n",
              "      <th>Name</th>\n",
              "      <th>Location</th>\n",
              "      <th>Age</th>\n",
              "    </tr>\n",
              "  </thead>\n",
              "  <tbody>\n",
              "    <tr>\n",
              "      <th>2</th>\n",
              "      <td>Peter</td>\n",
              "      <td>Berlin</td>\n",
              "      <td>53</td>\n",
              "    </tr>\n",
              "    <tr>\n",
              "      <th>3</th>\n",
              "      <td>Linda</td>\n",
              "      <td>London</td>\n",
              "      <td>33</td>\n",
              "    </tr>\n",
              "  </tbody>\n",
              "</table>\n",
              "</div>"
            ],
            "text/plain": [
              "    Name Location  Age\n",
              "2  Peter   Berlin   53\n",
              "3  Linda   London   33"
            ]
          },
          "metadata": {
            "tags": []
          }
        }
      ]
    },
    {
      "cell_type": "markdown",
      "metadata": {
        "id": "42O5fvTGpKwP",
        "colab_type": "text"
      },
      "source": [
        "* Two workhorse data structures in pandas: Series and DataFrame.\n",
        "* A Series is a one-dimensional array-like object containing an array of data (of any NumPy data type) and an associated array of data labels, called its index. "
      ]
    },
    {
      "cell_type": "markdown",
      "metadata": {
        "id": "3qABqZscvbB3",
        "colab_type": "text"
      },
      "source": [
        "***Series***"
      ]
    },
    {
      "cell_type": "code",
      "metadata": {
        "id": "oT5Neyf9o_rc",
        "colab_type": "code",
        "outputId": "e5eebf1d-b0f8-44c6-f3cf-df0dab78fdb0",
        "colab": {
          "base_uri": "https://localhost:8080/",
          "height": 420
        }
      },
      "source": [
        "from pandas import Series, DataFrame\n",
        "import pandas as pd\n",
        "obj = Series([4, 7, -5, 3])\n",
        "print(obj)\n",
        "#print(obj.values)\n",
        "#print(obj.index)\n",
        "obj2 = Series([4, 7, -5, 3], index=['d', 'b', 'a', 'c']) #Series with an index\n",
        "print(obj2) #obj2.index, obj2.values can be used\n",
        "print(obj2['a'],obj2['d'])  #accessing values\n",
        "#other operations: obj2[['c', 'a', 'd']], obj2[obj2 > 0] , obj2 * 2 ,np.exp(obj2)\n",
        "#Another way to think about a Series is as a fixed-length, ordered dict, as it is a \n",
        "#mapping of index values to data values. It can be substituted into many functions that expect a\n",
        "#dict\n",
        "print('b' in obj2)\n",
        "print('e' in obj2)\n",
        "sdata = {'Ohio': 35000, 'Texas': 71000, 'Oregon': 16000, 'Utah': 5000}\n",
        "states = ['California', 'Ohio', 'Oregon', 'Texas']\n",
        "obj3 = Series(sdata)\n",
        "obj4 = Series(sdata, index=states) \n",
        "print(obj4)\n",
        "#Since,no value for 'California' was found, it appears as NaN (not a number) \n",
        "#which is considered in pandas to mark missing or NA values.\n",
        "#The isnull and notnull functions in pandas should be used to detect missing data\n",
        "pd.isnull(obj4) #or obj4.isnull()\n",
        "pd.notnull(obj4)  #obj4.notnull()\n",
        "print(obj3 + obj4)\n",
        "#Both the Series object itself and its index have a name attribute, which integrates \n",
        "#with other key areas of pandas functionality.\n",
        "obj4.name = 'population'\n",
        "obj4.index.name = 'state'\n",
        "#A Series’s index can be altered in place by assignment\n",
        "obj.index = ['Bob', 'Steve', 'Jeff', 'Ryan']"
      ],
      "execution_count": 0,
      "outputs": [
        {
          "output_type": "stream",
          "text": [
            "0    4\n",
            "1    7\n",
            "2   -5\n",
            "3    3\n",
            "dtype: int64\n",
            "d    4\n",
            "b    7\n",
            "a   -5\n",
            "c    3\n",
            "dtype: int64\n",
            "-5 4\n",
            "True\n",
            "False\n",
            "California        NaN\n",
            "Ohio          35000.0\n",
            "Oregon        16000.0\n",
            "Texas         71000.0\n",
            "dtype: float64\n",
            "California         NaN\n",
            "Ohio           70000.0\n",
            "Oregon         32000.0\n",
            "Texas         142000.0\n",
            "Utah               NaN\n",
            "dtype: float64\n"
          ],
          "name": "stdout"
        }
      ]
    },
    {
      "cell_type": "markdown",
      "metadata": {
        "id": "7ezzwZLyvWJy",
        "colab_type": "text"
      },
      "source": [
        "***Dataframe***\n",
        "* A DataFrame represents a tabular, spreadsheet-like data structure containing an ordered collection of columns, each of which can be a different value type.\n",
        "* The DataFrame has both a row and column index; it can be\n",
        "thought of as a dict of Series (one for all sharing the same index). \n"
      ]
    },
    {
      "cell_type": "code",
      "metadata": {
        "id": "anxa7I3lvSZs",
        "colab_type": "code",
        "colab": {}
      },
      "source": [
        "import numpy as np\n",
        "data = {'state': ['Ohio', 'Ohio', 'Ohio', 'Nevada', 'Nevada'],\n",
        " 'year': [2000, 2001, 2002, 2001, 2002],\n",
        " 'pop': [1.5, 1.7, 3.6, 2.4, 2.9]}\n",
        "frame = DataFrame(data)\n",
        "#If you specify a sequence of columns, the DataFrame’s columns will be exactly what you pass.\n",
        "DataFrame(data, columns=['year', 'state', 'pop']) #seq changed.\n",
        "frame2 = DataFrame(data, columns=['year', 'state', 'pop', 'debt'],\n",
        "        index=['one', 'two', 'three', 'four', 'five'])\n",
        "frame2.columns #access column names\n",
        "\n",
        "frame2['state'] #or frame2.year  for all states or years with index\n",
        "#frame2.ix['three'] #row retrieve doesnt work for pandas 1.0.0\n",
        "frame2['debt'] = 16.5 #column assignment all values to 16.5\n",
        "frame2['debt'] = np.arange(5.) #values from 0 to 4 in each row\n",
        "val = Series([-1.2, -1.5, -1.7], index=['two', 'four', 'five'])\n",
        "frame2['debt'] = val #missing values assigned NaN\n",
        "frame2['eastern'] = frame2.state == 'Ohio' #if not a column creates a new column\n",
        "# values vary as true or false if state=='Ohio'\n",
        "del frame2['eastern']  #del col\n",
        "\n",
        "pop = {'Nevada': {2001: 2.4, 2002: 2.9},\n",
        "       'Ohio': {2000: 1.5, 2001: 1.7, 2002: 3.6}}   #nested dict\n",
        "#it will interpret the outer dict keys as the columns and the inner keys as the row indices\n",
        "frame3 = DataFrame(pop)\n",
        "frame3.T  #transpose\n",
        "\n",
        "pdata = {'Ohio': frame3['Ohio'][:-1], 'Nevada': frame3['Nevada'][:2]}  #Dicts of Series\n",
        "#frame3.index.name = 'year'; frame3.columns.name = 'state'  for assigning name\n",
        "#frame3.values"
      ],
      "execution_count": 0,
      "outputs": []
    },
    {
      "cell_type": "markdown",
      "metadata": {
        "id": "cYpaLslBsHAK",
        "colab_type": "text"
      },
      "source": [
        "## Index Objects"
      ]
    },
    {
      "cell_type": "code",
      "metadata": {
        "id": "hb_TpBX6sFy6",
        "colab_type": "code",
        "outputId": "974c745b-c18d-4b1b-a80f-7b50716cc6c2",
        "colab": {
          "base_uri": "https://localhost:8080/",
          "height": 50
        }
      },
      "source": [
        "obj = Series(range(3), index=['a', 'b', 'c'])\n",
        "index = obj.index #outputs Index([a, b, c]\n",
        "index[1:] #Index([b, c])\n",
        "#index[1] = 'd'  # ERROR:Index objects are immutable and thus can’t be modified by the user.\n",
        "index = pd.Index(np.arange(3)) #Immutability is important so that Index objects can be safely \n",
        "#shared among data structures\n",
        "obj2 = Series([1.5, -2.5, 0], index=index)\n",
        "obj2.index is index #OUTPUT: True\n",
        "pop = {'Nevada': {2001: 2.4, 2002: 2.9},\n",
        "       'Ohio': {2000: 1.5, 2001: 1.7, 2002: 3.6}}\n",
        "frame3 = DataFrame(pop)\n",
        "print('Ohio' in frame3.columns)  #OUTPUT: True\n",
        "print(2003 in frame3.index)   #OUTPUT: False"
      ],
      "execution_count": 0,
      "outputs": [
        {
          "output_type": "stream",
          "text": [
            "True\n",
            "False\n"
          ],
          "name": "stdout"
        }
      ]
    },
    {
      "cell_type": "markdown",
      "metadata": {
        "id": "ZduF2RW3utNp",
        "colab_type": "text"
      },
      "source": [
        "## Essential Functionality\n",
        "\n",
        "\n",
        "1.   Reindexing\n",
        "    * Works for both series and Dataframe.\n",
        "\n"
      ]
    },
    {
      "cell_type": "code",
      "metadata": {
        "id": "qSvZ-6oIu2R6",
        "colab_type": "code",
        "outputId": "a6b0b7ea-b46a-44ec-ff4a-6b625d1f5501",
        "colab": {
          "base_uri": "https://localhost:8080/",
          "height": 136
        }
      },
      "source": [
        "obj = Series([4.5, 7.2, -5.3, 3.6], index=['d', 'b', 'a', 'c'])\n",
        "obj2 = obj.reindex(['a', 'b', 'c', 'd', 'e'])  #rearranges the data according to the \n",
        "# new index and places value for: e=NaN\n",
        "obj.reindex(['a', 'b', 'c', 'd', 'e'], fill_value=0)  #value e=0\n",
        "#Time series values: for interpolation use method\n",
        "#ffill or pad Fill (or carry) values forward\n",
        "#bfill or backfill Fill (or carry) values backward\n",
        "obj3 = Series(['blue', 'purple', 'yellow'], index=[0, 2, 4])\n",
        "obj3.reindex(range(6), method='ffill')\n",
        "\n",
        "#Dataframe\n",
        "frame = DataFrame(np.arange(9).reshape((3, 3)), index=['a', 'c', 'd'],\n",
        "       columns=['Ohio', 'Texas', 'California'])\n",
        "frame2 = frame.reindex(['a', 'b', 'c', 'd'])\n",
        "states = ['Texas', 'Utah', 'California']\n",
        "frame.reindex(columns=states) #column reindexing\n",
        "#frame.reindex(index=['a', 'b', 'c', 'd'], method='ffill', columns=states) #reindexing both"
      ],
      "execution_count": 0,
      "outputs": [
        {
          "output_type": "execute_result",
          "data": {
            "text/html": [
              "<div>\n",
              "<style scoped>\n",
              "    .dataframe tbody tr th:only-of-type {\n",
              "        vertical-align: middle;\n",
              "    }\n",
              "\n",
              "    .dataframe tbody tr th {\n",
              "        vertical-align: top;\n",
              "    }\n",
              "\n",
              "    .dataframe thead th {\n",
              "        text-align: right;\n",
              "    }\n",
              "</style>\n",
              "<table border=\"1\" class=\"dataframe\">\n",
              "  <thead>\n",
              "    <tr style=\"text-align: right;\">\n",
              "      <th></th>\n",
              "      <th>Texas</th>\n",
              "      <th>Utah</th>\n",
              "      <th>California</th>\n",
              "    </tr>\n",
              "  </thead>\n",
              "  <tbody>\n",
              "    <tr>\n",
              "      <th>a</th>\n",
              "      <td>1</td>\n",
              "      <td>NaN</td>\n",
              "      <td>2</td>\n",
              "    </tr>\n",
              "    <tr>\n",
              "      <th>c</th>\n",
              "      <td>4</td>\n",
              "      <td>NaN</td>\n",
              "      <td>5</td>\n",
              "    </tr>\n",
              "    <tr>\n",
              "      <th>d</th>\n",
              "      <td>7</td>\n",
              "      <td>NaN</td>\n",
              "      <td>8</td>\n",
              "    </tr>\n",
              "  </tbody>\n",
              "</table>\n",
              "</div>"
            ],
            "text/plain": [
              "   Texas  Utah  California\n",
              "a      1   NaN           2\n",
              "c      4   NaN           5\n",
              "d      7   NaN           8"
            ]
          },
          "metadata": {
            "tags": []
          },
          "execution_count": 6
        }
      ]
    },
    {
      "cell_type": "markdown",
      "metadata": {
        "id": "26xk2hZUysMs",
        "colab_type": "text"
      },
      "source": [
        "2.  Dropping entries from an axis"
      ]
    },
    {
      "cell_type": "code",
      "metadata": {
        "id": "frQV4ZSSy3Lt",
        "colab_type": "code",
        "outputId": "e3b1dc4d-c8e6-446b-ba30-d4792f462063",
        "colab": {
          "base_uri": "https://localhost:8080/",
          "height": 233
        }
      },
      "source": [
        "obj = Series(np.arange(5.), index=['a', 'b', 'c', 'd', 'e'])\n",
        "new_obj = obj.drop('c')\n",
        "print(obj.drop(['d', 'c']))\n",
        "\n",
        "data = DataFrame(np.arange(16).reshape((4, 4)),\n",
        "        index=['Ohio', 'Colorado', 'Utah', 'New York'],\n",
        "        columns=['one', 'two', 'three', 'four'])\n",
        "data.drop(['Colorado', 'Ohio'])\n",
        "data.drop('two', axis=1) \n",
        "data.drop(['two', 'four'], axis=1)"
      ],
      "execution_count": 0,
      "outputs": [
        {
          "output_type": "stream",
          "text": [
            "a    0.0\n",
            "b    1.0\n",
            "e    4.0\n",
            "dtype: float64\n"
          ],
          "name": "stdout"
        },
        {
          "output_type": "execute_result",
          "data": {
            "text/html": [
              "<div>\n",
              "<style scoped>\n",
              "    .dataframe tbody tr th:only-of-type {\n",
              "        vertical-align: middle;\n",
              "    }\n",
              "\n",
              "    .dataframe tbody tr th {\n",
              "        vertical-align: top;\n",
              "    }\n",
              "\n",
              "    .dataframe thead th {\n",
              "        text-align: right;\n",
              "    }\n",
              "</style>\n",
              "<table border=\"1\" class=\"dataframe\">\n",
              "  <thead>\n",
              "    <tr style=\"text-align: right;\">\n",
              "      <th></th>\n",
              "      <th>one</th>\n",
              "      <th>three</th>\n",
              "    </tr>\n",
              "  </thead>\n",
              "  <tbody>\n",
              "    <tr>\n",
              "      <th>Ohio</th>\n",
              "      <td>0</td>\n",
              "      <td>2</td>\n",
              "    </tr>\n",
              "    <tr>\n",
              "      <th>Colorado</th>\n",
              "      <td>4</td>\n",
              "      <td>6</td>\n",
              "    </tr>\n",
              "    <tr>\n",
              "      <th>Utah</th>\n",
              "      <td>8</td>\n",
              "      <td>10</td>\n",
              "    </tr>\n",
              "    <tr>\n",
              "      <th>New York</th>\n",
              "      <td>12</td>\n",
              "      <td>14</td>\n",
              "    </tr>\n",
              "  </tbody>\n",
              "</table>\n",
              "</div>"
            ],
            "text/plain": [
              "          one  three\n",
              "Ohio        0      2\n",
              "Colorado    4      6\n",
              "Utah        8     10\n",
              "New York   12     14"
            ]
          },
          "metadata": {
            "tags": []
          },
          "execution_count": 7
        }
      ]
    },
    {
      "cell_type": "markdown",
      "metadata": {
        "id": "dEtR6Pckzo7m",
        "colab_type": "text"
      },
      "source": [
        "3.   Indexing, selection, and filtering\n",
        "    *  Analogously to NumPy array indexing, except you can\n",
        "use the Series’s index values instead of only integers."
      ]
    },
    {
      "cell_type": "code",
      "metadata": {
        "id": "m3VQTTu6zshh",
        "colab_type": "code",
        "outputId": "1e02b65b-84a8-448a-c53a-86be3d0eb12e",
        "colab": {
          "base_uri": "https://localhost:8080/",
          "height": 334
        }
      },
      "source": [
        "obj = Series(np.arange(4.), index=['a', 'b', 'c', 'd'])\n",
        "print(obj['b'], obj[1], obj[2:4], obj[['b', 'a', 'd']],\n",
        "       obj[[1, 3]], obj[obj < 2] )\n",
        "#Slicing\n",
        "obj2=(obj['b':'c']) # endpoint is inclusive\n",
        "obj['b':'c'] = 5  #set values of (b,c)=(5,5)\n",
        "\n",
        "data = DataFrame(np.arange(16).reshape((4, 4)),\n",
        "        index=['Ohio', 'Colorado', 'Utah', 'New York'],\n",
        "        columns=['one', 'two', 'three', 'four'])\n",
        "data['two']  \n",
        "data[['three', 'one']]\n",
        "data[:2] \n",
        "data[data['three'] > 5] #prints entries with satisfied condition\n",
        "data < 5  #OUTPUTS true or false for every value"
      ],
      "execution_count": 0,
      "outputs": [
        {
          "output_type": "stream",
          "text": [
            "1.0 1.0 c    2.0\n",
            "d    3.0\n",
            "dtype: float64 b    1.0\n",
            "a    0.0\n",
            "d    3.0\n",
            "dtype: float64 b    1.0\n",
            "d    3.0\n",
            "dtype: float64 a    0.0\n",
            "b    1.0\n",
            "dtype: float64\n"
          ],
          "name": "stdout"
        },
        {
          "output_type": "execute_result",
          "data": {
            "text/html": [
              "<div>\n",
              "<style scoped>\n",
              "    .dataframe tbody tr th:only-of-type {\n",
              "        vertical-align: middle;\n",
              "    }\n",
              "\n",
              "    .dataframe tbody tr th {\n",
              "        vertical-align: top;\n",
              "    }\n",
              "\n",
              "    .dataframe thead th {\n",
              "        text-align: right;\n",
              "    }\n",
              "</style>\n",
              "<table border=\"1\" class=\"dataframe\">\n",
              "  <thead>\n",
              "    <tr style=\"text-align: right;\">\n",
              "      <th></th>\n",
              "      <th>one</th>\n",
              "      <th>two</th>\n",
              "      <th>three</th>\n",
              "      <th>four</th>\n",
              "    </tr>\n",
              "  </thead>\n",
              "  <tbody>\n",
              "    <tr>\n",
              "      <th>Ohio</th>\n",
              "      <td>True</td>\n",
              "      <td>True</td>\n",
              "      <td>True</td>\n",
              "      <td>True</td>\n",
              "    </tr>\n",
              "    <tr>\n",
              "      <th>Colorado</th>\n",
              "      <td>True</td>\n",
              "      <td>False</td>\n",
              "      <td>False</td>\n",
              "      <td>False</td>\n",
              "    </tr>\n",
              "    <tr>\n",
              "      <th>Utah</th>\n",
              "      <td>False</td>\n",
              "      <td>False</td>\n",
              "      <td>False</td>\n",
              "      <td>False</td>\n",
              "    </tr>\n",
              "    <tr>\n",
              "      <th>New York</th>\n",
              "      <td>False</td>\n",
              "      <td>False</td>\n",
              "      <td>False</td>\n",
              "      <td>False</td>\n",
              "    </tr>\n",
              "  </tbody>\n",
              "</table>\n",
              "</div>"
            ],
            "text/plain": [
              "            one    two  three   four\n",
              "Ohio       True   True   True   True\n",
              "Colorado   True  False  False  False\n",
              "Utah      False  False  False  False\n",
              "New York  False  False  False  False"
            ]
          },
          "metadata": {
            "tags": []
          },
          "execution_count": 8
        }
      ]
    },
    {
      "cell_type": "markdown",
      "metadata": {
        "id": "-44jdMDp3GdH",
        "colab_type": "text"
      },
      "source": [
        "## Arithmetic and data alignment"
      ]
    },
    {
      "cell_type": "code",
      "metadata": {
        "id": "kpb2vnK73Jn_",
        "colab_type": "code",
        "outputId": "93cf4737-89d6-4bf0-bbd3-a8b2e63d5de3",
        "colab": {
          "base_uri": "https://localhost:8080/",
          "height": 195
        }
      },
      "source": [
        "s1 = Series([7.3, -2.5, 3.4, 1.5], index=['a', 'c', 'd', 'e'])\n",
        "s2 = Series([-2.1, 3.6, -1.5, 4, 3.1], index=['a', 'c', 'e', 'f', 'g'])\n",
        "s1+s2   #unknown values= NaN\n",
        "#add,sub,div,mul or +,-,/,*\n",
        "\n",
        "df1 = DataFrame(np.arange(9.).reshape((3, 3)), columns=list('bcd'),\n",
        "      index=['Ohio', 'Texas', 'Colorado'])\n",
        "df2 = DataFrame(np.arange(12.).reshape((4, 3)), columns=list('bde'),\n",
        "      index=['Utah', 'Ohio', 'Texas', 'Oregon'])\n",
        "df1+df2"
      ],
      "execution_count": 0,
      "outputs": [
        {
          "output_type": "execute_result",
          "data": {
            "text/html": [
              "<div>\n",
              "<style scoped>\n",
              "    .dataframe tbody tr th:only-of-type {\n",
              "        vertical-align: middle;\n",
              "    }\n",
              "\n",
              "    .dataframe tbody tr th {\n",
              "        vertical-align: top;\n",
              "    }\n",
              "\n",
              "    .dataframe thead th {\n",
              "        text-align: right;\n",
              "    }\n",
              "</style>\n",
              "<table border=\"1\" class=\"dataframe\">\n",
              "  <thead>\n",
              "    <tr style=\"text-align: right;\">\n",
              "      <th></th>\n",
              "      <th>b</th>\n",
              "      <th>c</th>\n",
              "      <th>d</th>\n",
              "      <th>e</th>\n",
              "    </tr>\n",
              "  </thead>\n",
              "  <tbody>\n",
              "    <tr>\n",
              "      <th>Colorado</th>\n",
              "      <td>NaN</td>\n",
              "      <td>NaN</td>\n",
              "      <td>NaN</td>\n",
              "      <td>NaN</td>\n",
              "    </tr>\n",
              "    <tr>\n",
              "      <th>Ohio</th>\n",
              "      <td>3.0</td>\n",
              "      <td>NaN</td>\n",
              "      <td>6.0</td>\n",
              "      <td>NaN</td>\n",
              "    </tr>\n",
              "    <tr>\n",
              "      <th>Oregon</th>\n",
              "      <td>NaN</td>\n",
              "      <td>NaN</td>\n",
              "      <td>NaN</td>\n",
              "      <td>NaN</td>\n",
              "    </tr>\n",
              "    <tr>\n",
              "      <th>Texas</th>\n",
              "      <td>9.0</td>\n",
              "      <td>NaN</td>\n",
              "      <td>12.0</td>\n",
              "      <td>NaN</td>\n",
              "    </tr>\n",
              "    <tr>\n",
              "      <th>Utah</th>\n",
              "      <td>NaN</td>\n",
              "      <td>NaN</td>\n",
              "      <td>NaN</td>\n",
              "      <td>NaN</td>\n",
              "    </tr>\n",
              "  </tbody>\n",
              "</table>\n",
              "</div>"
            ],
            "text/plain": [
              "            b   c     d   e\n",
              "Colorado  NaN NaN   NaN NaN\n",
              "Ohio      3.0 NaN   6.0 NaN\n",
              "Oregon    NaN NaN   NaN NaN\n",
              "Texas     9.0 NaN  12.0 NaN\n",
              "Utah      NaN NaN   NaN NaN"
            ]
          },
          "metadata": {
            "tags": []
          },
          "execution_count": 9
        }
      ]
    },
    {
      "cell_type": "markdown",
      "metadata": {
        "id": "8QRcFpD348_c",
        "colab_type": "text"
      },
      "source": [
        "1.  Arithmetic methods with fill values"
      ]
    },
    {
      "cell_type": "code",
      "metadata": {
        "id": "tBAOqVHc4_nt",
        "colab_type": "code",
        "outputId": "6ef2e408-cf63-430e-9829-db3b5b4b734e",
        "colab": {
          "base_uri": "https://localhost:8080/",
          "height": 136
        }
      },
      "source": [
        "df1 = DataFrame(np.arange(12.).reshape((3, 4)), columns=list('abcd'))\n",
        "df2 = DataFrame(np.arange(20.).reshape((4, 5)), columns=list('abcde'))\n",
        "df1+df2 #missing values=NaN\n",
        "df1.add(df2, fill_value=0)  #missing values=0\n",
        "df1.reindex(columns=df2.columns, fill_value=0)"
      ],
      "execution_count": 0,
      "outputs": [
        {
          "output_type": "execute_result",
          "data": {
            "text/html": [
              "<div>\n",
              "<style scoped>\n",
              "    .dataframe tbody tr th:only-of-type {\n",
              "        vertical-align: middle;\n",
              "    }\n",
              "\n",
              "    .dataframe tbody tr th {\n",
              "        vertical-align: top;\n",
              "    }\n",
              "\n",
              "    .dataframe thead th {\n",
              "        text-align: right;\n",
              "    }\n",
              "</style>\n",
              "<table border=\"1\" class=\"dataframe\">\n",
              "  <thead>\n",
              "    <tr style=\"text-align: right;\">\n",
              "      <th></th>\n",
              "      <th>a</th>\n",
              "      <th>b</th>\n",
              "      <th>c</th>\n",
              "      <th>d</th>\n",
              "      <th>e</th>\n",
              "    </tr>\n",
              "  </thead>\n",
              "  <tbody>\n",
              "    <tr>\n",
              "      <th>0</th>\n",
              "      <td>0.0</td>\n",
              "      <td>1.0</td>\n",
              "      <td>2.0</td>\n",
              "      <td>3.0</td>\n",
              "      <td>0</td>\n",
              "    </tr>\n",
              "    <tr>\n",
              "      <th>1</th>\n",
              "      <td>4.0</td>\n",
              "      <td>5.0</td>\n",
              "      <td>6.0</td>\n",
              "      <td>7.0</td>\n",
              "      <td>0</td>\n",
              "    </tr>\n",
              "    <tr>\n",
              "      <th>2</th>\n",
              "      <td>8.0</td>\n",
              "      <td>9.0</td>\n",
              "      <td>10.0</td>\n",
              "      <td>11.0</td>\n",
              "      <td>0</td>\n",
              "    </tr>\n",
              "  </tbody>\n",
              "</table>\n",
              "</div>"
            ],
            "text/plain": [
              "     a    b     c     d  e\n",
              "0  0.0  1.0   2.0   3.0  0\n",
              "1  4.0  5.0   6.0   7.0  0\n",
              "2  8.0  9.0  10.0  11.0  0"
            ]
          },
          "metadata": {
            "tags": []
          },
          "execution_count": 10
        }
      ]
    },
    {
      "cell_type": "markdown",
      "metadata": {
        "id": "e4duCvj_5yod",
        "colab_type": "text"
      },
      "source": [
        "2. Operations between DataFrame and Series"
      ]
    },
    {
      "cell_type": "code",
      "metadata": {
        "id": "yBvJnaUA51Ia",
        "colab_type": "code",
        "outputId": "75ab902f-3bcd-4ae6-f83d-88adf91f59bd",
        "colab": {
          "base_uri": "https://localhost:8080/",
          "height": 166
        }
      },
      "source": [
        "frame = DataFrame(np.arange(12.).reshape((4, 3)), columns=list('bde'),\n",
        "        index=['Utah', 'Ohio', 'Texas', 'Oregon'])\n",
        "series = Series(range(3), index=['b', 'd', 'e']) \n",
        "frame - series\n",
        "series2 = Series(range(3), index=['b', 'e', 'f'])\n",
        "frame + series2\n",
        "series3 = frame['d']\n",
        "frame.sub(series3, axis=0)"
      ],
      "execution_count": 0,
      "outputs": [
        {
          "output_type": "execute_result",
          "data": {
            "text/html": [
              "<div>\n",
              "<style scoped>\n",
              "    .dataframe tbody tr th:only-of-type {\n",
              "        vertical-align: middle;\n",
              "    }\n",
              "\n",
              "    .dataframe tbody tr th {\n",
              "        vertical-align: top;\n",
              "    }\n",
              "\n",
              "    .dataframe thead th {\n",
              "        text-align: right;\n",
              "    }\n",
              "</style>\n",
              "<table border=\"1\" class=\"dataframe\">\n",
              "  <thead>\n",
              "    <tr style=\"text-align: right;\">\n",
              "      <th></th>\n",
              "      <th>b</th>\n",
              "      <th>d</th>\n",
              "      <th>e</th>\n",
              "    </tr>\n",
              "  </thead>\n",
              "  <tbody>\n",
              "    <tr>\n",
              "      <th>Utah</th>\n",
              "      <td>-1.0</td>\n",
              "      <td>0.0</td>\n",
              "      <td>1.0</td>\n",
              "    </tr>\n",
              "    <tr>\n",
              "      <th>Ohio</th>\n",
              "      <td>-1.0</td>\n",
              "      <td>0.0</td>\n",
              "      <td>1.0</td>\n",
              "    </tr>\n",
              "    <tr>\n",
              "      <th>Texas</th>\n",
              "      <td>-1.0</td>\n",
              "      <td>0.0</td>\n",
              "      <td>1.0</td>\n",
              "    </tr>\n",
              "    <tr>\n",
              "      <th>Oregon</th>\n",
              "      <td>-1.0</td>\n",
              "      <td>0.0</td>\n",
              "      <td>1.0</td>\n",
              "    </tr>\n",
              "  </tbody>\n",
              "</table>\n",
              "</div>"
            ],
            "text/plain": [
              "          b    d    e\n",
              "Utah   -1.0  0.0  1.0\n",
              "Ohio   -1.0  0.0  1.0\n",
              "Texas  -1.0  0.0  1.0\n",
              "Oregon -1.0  0.0  1.0"
            ]
          },
          "metadata": {
            "tags": []
          },
          "execution_count": 11
        }
      ]
    },
    {
      "cell_type": "markdown",
      "metadata": {
        "id": "3tP7r3NlbjvW",
        "colab_type": "text"
      },
      "source": [
        "## Function Application and Mapping"
      ]
    },
    {
      "cell_type": "code",
      "metadata": {
        "id": "zcxbDUgSbvKt",
        "colab_type": "code",
        "outputId": "7ad8ca57-a9f8-4403-8c7b-892bd6c95752",
        "colab": {
          "base_uri": "https://localhost:8080/",
          "height": 101
        }
      },
      "source": [
        "frame = pd.DataFrame(np.random.randn(4, 3), columns=list('bde'),\n",
        "      index=['Utah', 'Ohio', 'Texas', 'Oregon'])  #(data,col_name,index)\n",
        "np.abs(frame)   #gives absolute value of data\n",
        "f = lambda x: x.max() - x.min()\n",
        "frame.apply(f)    #functions can be used to define 1D array/series (b,d,e) as index\n",
        "frame.apply(f, axis='columns')    #series with 'Utah', 'Ohio', 'Texas', 'Oregon' as index\n",
        "def f(x):     #def can also be used \n",
        "  return pd.Series([x.min(), x.max()], index=['min', 'max'])\n",
        "frame.apply(f)\n",
        "format = lambda x: '%.2f' % x\n",
        "frame.applymap(format)    #element wise\n",
        "frame['e'].map(format)  #map for series with column e"
      ],
      "execution_count": 0,
      "outputs": [
        {
          "output_type": "execute_result",
          "data": {
            "text/plain": [
              "Utah      -0.30\n",
              "Ohio       1.06\n",
              "Texas      0.53\n",
              "Oregon     0.78\n",
              "Name: e, dtype: object"
            ]
          },
          "metadata": {
            "tags": []
          },
          "execution_count": 12
        }
      ]
    },
    {
      "cell_type": "markdown",
      "metadata": {
        "id": "20b8s_W2dw9j",
        "colab_type": "text"
      },
      "source": [
        "## Sorting and Ranking"
      ]
    },
    {
      "cell_type": "code",
      "metadata": {
        "id": "Po3__wLydzMB",
        "colab_type": "code",
        "outputId": "f9cb985c-8cfc-4153-b40a-4ef53f211487",
        "colab": {
          "base_uri": "https://localhost:8080/",
          "height": 166
        }
      },
      "source": [
        "obj = pd.Series(range(4), index=['d', 'a', 'b', 'c'])\n",
        "obj.sort_index()    #sorted indexes: a,b,c,d\n",
        "frame = pd.DataFrame(np.arange(8).reshape((2, 4)),\n",
        "        index=['three', 'one'], columns=['d', 'a', 'b', 'c'])\n",
        "frame.sort_index()    #sorting dataframe index: one, three\n",
        "frame.sort_index(axis=1)  #sort columns: a,b,c,d\n",
        "frame.sort_index(axis=1, ascending=False)   #decending\n",
        "obj = pd.Series([4, 7, -3, 2])\n",
        "obj.sort_values()   #sort by value\n",
        "obj = pd.Series([4, np.nan, 7, np.nan, -3, 2])\n",
        "obj.sort_values()   #sorting missing values at the end\n",
        "\n",
        "frame = pd.DataFrame({'b': [4, 7, -3, 2], 'a': [0, 1, 0, 1]})\n",
        "frame.sort_values(by='b')  #sort column b\n",
        "frame.sort_values(by=['a', 'b'])    #sort column a,b\n",
        "obj = pd.Series([7, -5, 7, 4, 2, 0, 4])\n",
        "obj.rank()    #sort wrt mean rank\n",
        "obj.rank(method='first')  #Assign ranks in the order the values appear in the data\n",
        "obj.rank(ascending=False, method='max')   #descending order\n",
        "frame = pd.DataFrame({'b': [4.3, 7, -3, 2], 'a': [0, 1, 0, 1],\n",
        "       'c': [-2, 5, 8, -2.5]})\n",
        "frame.rank(axis='columns')"
      ],
      "execution_count": 0,
      "outputs": [
        {
          "output_type": "execute_result",
          "data": {
            "text/html": [
              "<div>\n",
              "<style scoped>\n",
              "    .dataframe tbody tr th:only-of-type {\n",
              "        vertical-align: middle;\n",
              "    }\n",
              "\n",
              "    .dataframe tbody tr th {\n",
              "        vertical-align: top;\n",
              "    }\n",
              "\n",
              "    .dataframe thead th {\n",
              "        text-align: right;\n",
              "    }\n",
              "</style>\n",
              "<table border=\"1\" class=\"dataframe\">\n",
              "  <thead>\n",
              "    <tr style=\"text-align: right;\">\n",
              "      <th></th>\n",
              "      <th>b</th>\n",
              "      <th>a</th>\n",
              "      <th>c</th>\n",
              "    </tr>\n",
              "  </thead>\n",
              "  <tbody>\n",
              "    <tr>\n",
              "      <th>0</th>\n",
              "      <td>3.0</td>\n",
              "      <td>2.0</td>\n",
              "      <td>1.0</td>\n",
              "    </tr>\n",
              "    <tr>\n",
              "      <th>1</th>\n",
              "      <td>3.0</td>\n",
              "      <td>1.0</td>\n",
              "      <td>2.0</td>\n",
              "    </tr>\n",
              "    <tr>\n",
              "      <th>2</th>\n",
              "      <td>1.0</td>\n",
              "      <td>2.0</td>\n",
              "      <td>3.0</td>\n",
              "    </tr>\n",
              "    <tr>\n",
              "      <th>3</th>\n",
              "      <td>3.0</td>\n",
              "      <td>2.0</td>\n",
              "      <td>1.0</td>\n",
              "    </tr>\n",
              "  </tbody>\n",
              "</table>\n",
              "</div>"
            ],
            "text/plain": [
              "     b    a    c\n",
              "0  3.0  2.0  1.0\n",
              "1  3.0  1.0  2.0\n",
              "2  1.0  2.0  3.0\n",
              "3  3.0  2.0  1.0"
            ]
          },
          "metadata": {
            "tags": []
          },
          "execution_count": 13
        }
      ]
    },
    {
      "cell_type": "markdown",
      "metadata": {
        "id": "qCUWwPGpgORb",
        "colab_type": "text"
      },
      "source": [
        "## Axis Indexes with Duplicate Labels"
      ]
    },
    {
      "cell_type": "code",
      "metadata": {
        "id": "lFym2mLXgWJc",
        "colab_type": "code",
        "outputId": "87eb2020-67e6-4164-efc6-d5895a10ef70",
        "colab": {
          "base_uri": "https://localhost:8080/",
          "height": 106
        }
      },
      "source": [
        "obj = pd.Series(range(5), index=['a', 'a', 'b', 'b', 'c'])  #valid\n",
        "obj.index.is_unique #false: tells if index is unique\n",
        "obj['a']  #returns two values\n",
        "df = pd.DataFrame(np.random.randn(4, 3), index=['a', 'a', 'b', 'b'])\n",
        "df.loc['b']   #returns two rows"
      ],
      "execution_count": 0,
      "outputs": [
        {
          "output_type": "execute_result",
          "data": {
            "text/html": [
              "<div>\n",
              "<style scoped>\n",
              "    .dataframe tbody tr th:only-of-type {\n",
              "        vertical-align: middle;\n",
              "    }\n",
              "\n",
              "    .dataframe tbody tr th {\n",
              "        vertical-align: top;\n",
              "    }\n",
              "\n",
              "    .dataframe thead th {\n",
              "        text-align: right;\n",
              "    }\n",
              "</style>\n",
              "<table border=\"1\" class=\"dataframe\">\n",
              "  <thead>\n",
              "    <tr style=\"text-align: right;\">\n",
              "      <th></th>\n",
              "      <th>0</th>\n",
              "      <th>1</th>\n",
              "      <th>2</th>\n",
              "    </tr>\n",
              "  </thead>\n",
              "  <tbody>\n",
              "    <tr>\n",
              "      <th>b</th>\n",
              "      <td>0.906547</td>\n",
              "      <td>1.007452</td>\n",
              "      <td>-0.460377</td>\n",
              "    </tr>\n",
              "    <tr>\n",
              "      <th>b</th>\n",
              "      <td>-0.869385</td>\n",
              "      <td>-0.380483</td>\n",
              "      <td>-0.616204</td>\n",
              "    </tr>\n",
              "  </tbody>\n",
              "</table>\n",
              "</div>"
            ],
            "text/plain": [
              "          0         1         2\n",
              "b  0.906547  1.007452 -0.460377\n",
              "b -0.869385 -0.380483 -0.616204"
            ]
          },
          "metadata": {
            "tags": []
          },
          "execution_count": 14
        }
      ]
    },
    {
      "cell_type": "markdown",
      "metadata": {
        "id": "zTjtmjlNhBvR",
        "colab_type": "text"
      },
      "source": [
        "## Summarizing and Computing Descriptive Statistics"
      ]
    },
    {
      "cell_type": "code",
      "metadata": {
        "id": "nfZcq-imhGMq",
        "colab_type": "code",
        "outputId": "1bbeb523-32c0-4a2b-f944-155434ffe289",
        "colab": {
          "base_uri": "https://localhost:8080/",
          "height": 284
        }
      },
      "source": [
        "df = pd.DataFrame([[1.4, np.nan], [7.1, -4.5],\n",
        "    [np.nan, np.nan], [0.75, -1.3]],\n",
        "    index=['a', 'b', 'c', 'd'],columns=['one', 'two'])\n",
        "df.sum()  # returns sum of two columns\n",
        "df.sum(axis='columns') #or df.sum(axis=1) gives sum row wise\n",
        "df.mean(axis='columns', skipna=False) \n",
        "#Disable: NA values are excluded unless the entire slice (row or column in this case) is NA.\n",
        "df.idxmax() #or df.idxmin() returns index of max or min\n",
        "df.cumsum() #statistic accumulation\n",
        "df.describe() # IMP:gives multiple statistics in one shot\n",
        "#works for series too."
      ],
      "execution_count": 0,
      "outputs": [
        {
          "output_type": "execute_result",
          "data": {
            "text/html": [
              "<div>\n",
              "<style scoped>\n",
              "    .dataframe tbody tr th:only-of-type {\n",
              "        vertical-align: middle;\n",
              "    }\n",
              "\n",
              "    .dataframe tbody tr th {\n",
              "        vertical-align: top;\n",
              "    }\n",
              "\n",
              "    .dataframe thead th {\n",
              "        text-align: right;\n",
              "    }\n",
              "</style>\n",
              "<table border=\"1\" class=\"dataframe\">\n",
              "  <thead>\n",
              "    <tr style=\"text-align: right;\">\n",
              "      <th></th>\n",
              "      <th>one</th>\n",
              "      <th>two</th>\n",
              "    </tr>\n",
              "  </thead>\n",
              "  <tbody>\n",
              "    <tr>\n",
              "      <th>count</th>\n",
              "      <td>3.000000</td>\n",
              "      <td>2.000000</td>\n",
              "    </tr>\n",
              "    <tr>\n",
              "      <th>mean</th>\n",
              "      <td>3.083333</td>\n",
              "      <td>-2.900000</td>\n",
              "    </tr>\n",
              "    <tr>\n",
              "      <th>std</th>\n",
              "      <td>3.493685</td>\n",
              "      <td>2.262742</td>\n",
              "    </tr>\n",
              "    <tr>\n",
              "      <th>min</th>\n",
              "      <td>0.750000</td>\n",
              "      <td>-4.500000</td>\n",
              "    </tr>\n",
              "    <tr>\n",
              "      <th>25%</th>\n",
              "      <td>1.075000</td>\n",
              "      <td>-3.700000</td>\n",
              "    </tr>\n",
              "    <tr>\n",
              "      <th>50%</th>\n",
              "      <td>1.400000</td>\n",
              "      <td>-2.900000</td>\n",
              "    </tr>\n",
              "    <tr>\n",
              "      <th>75%</th>\n",
              "      <td>4.250000</td>\n",
              "      <td>-2.100000</td>\n",
              "    </tr>\n",
              "    <tr>\n",
              "      <th>max</th>\n",
              "      <td>7.100000</td>\n",
              "      <td>-1.300000</td>\n",
              "    </tr>\n",
              "  </tbody>\n",
              "</table>\n",
              "</div>"
            ],
            "text/plain": [
              "            one       two\n",
              "count  3.000000  2.000000\n",
              "mean   3.083333 -2.900000\n",
              "std    3.493685  2.262742\n",
              "min    0.750000 -4.500000\n",
              "25%    1.075000 -3.700000\n",
              "50%    1.400000 -2.900000\n",
              "75%    4.250000 -2.100000\n",
              "max    7.100000 -1.300000"
            ]
          },
          "metadata": {
            "tags": []
          },
          "execution_count": 15
        }
      ]
    },
    {
      "cell_type": "markdown",
      "metadata": {
        "id": "Utn_YBMhi3hV",
        "colab_type": "text"
      },
      "source": [
        "## Correlation and Covariance"
      ]
    },
    {
      "cell_type": "code",
      "metadata": {
        "id": "7r3nGRu-jJl8",
        "colab_type": "code",
        "outputId": "bd9a8bc0-004f-4e9d-fabb-1b57aff784f1",
        "colab": {
          "base_uri": "https://localhost:8080/",
          "height": 101
        }
      },
      "source": [
        "import pandas_datareader.data as web\n",
        "all_data = {ticker: web.get_data_yahoo(ticker)\n",
        " for ticker in ['AAPL', 'IBM', 'MSFT', 'GOOG']}\n",
        "price = pd.DataFrame({ticker: data['Adj Close']\n",
        " for ticker, data in all_data.items()})\n",
        "volume = pd.DataFrame({ticker: data['Volume']\n",
        " for ticker, data in all_data.items()})\n",
        "\n",
        "returns = price.pct_change()  #percentage change\n",
        "returns.tail()  # trailing values\n",
        "returns['MSFT'].corr(returns['IBM'])  #correlation between two col\n",
        "returns['MSFT'].cov(returns['IBM']) #covariance\n",
        "#returns.MSFT.corr(returns.IBM) same as above\n",
        "returns.corr()  #complete corr matrix\n",
        "returns.cov()   #complete cov matrix\n",
        "returns.corrwith(returns.IBM)   #corr between df row/col with other df/series: pct_change with IBM\n",
        "returns.corrwith(volume)"
      ],
      "execution_count": 0,
      "outputs": [
        {
          "output_type": "execute_result",
          "data": {
            "text/plain": [
              "AAPL   -0.141157\n",
              "IBM    -0.097038\n",
              "MSFT   -0.036711\n",
              "GOOG   -0.042289\n",
              "dtype: float64"
            ]
          },
          "metadata": {
            "tags": []
          },
          "execution_count": 17
        }
      ]
    },
    {
      "cell_type": "markdown",
      "metadata": {
        "id": "IjSYLicjlGdd",
        "colab_type": "text"
      },
      "source": [
        "## Unique Values, Value Counts, and Membership"
      ]
    },
    {
      "cell_type": "code",
      "metadata": {
        "id": "9r6_dTVmlKW0",
        "colab_type": "code",
        "outputId": "8ac224f8-5fa7-4204-a657-285a8eb9ff2f",
        "colab": {
          "base_uri": "https://localhost:8080/",
          "height": 118
        }
      },
      "source": [
        "obj = pd.Series(['c', 'a', 'd', 'a', 'a', 'b', 'b', 'c', 'c'])\n",
        "uniques = obj.unique()  #returns array with unique values\n",
        "uniques.sort()  #returns sorted values\n",
        "obj.value_counts()  #returns count of occurence descending order\n",
        "pd.value_counts(obj.values, sort=False)\n",
        "mask = obj.isin(['b', 'c']) #returns true/false if present/absent\n",
        "obj[mask] #returns series with index\n",
        "#to_match = pd.Series(['c', 'a', 'b', 'b', 'c', 'a'])\n",
        "#unique_vals = pd.Series(['c', 'b', 'a'])\n",
        "#pd.Index(unique_vals).get_indexer(to_match)  works the same as above\n"
      ],
      "execution_count": 0,
      "outputs": [
        {
          "output_type": "execute_result",
          "data": {
            "text/plain": [
              "0    c\n",
              "5    b\n",
              "6    b\n",
              "7    c\n",
              "8    c\n",
              "dtype: object"
            ]
          },
          "metadata": {
            "tags": []
          },
          "execution_count": 18
        }
      ]
    },
    {
      "cell_type": "markdown",
      "metadata": {
        "id": "1tDY4V9q8Ik1",
        "colab_type": "text"
      },
      "source": [
        "## Data Loading, Storage, and File Formats\n",
        "\n",
        "##   Reading and Writing Data in Text Format"
      ]
    },
    {
      "cell_type": "code",
      "metadata": {
        "id": "nMLlb_AC8T8v",
        "colab_type": "code",
        "colab": {}
      },
      "source": [
        "!type examples/ex1.csv  #gets raw data (type replaced by cat in unix system)\n",
        "#when data has header col names\n",
        "df = pd.read_csv('examples/ex1.csv')  #read into dataframe: ',' as default seperator\n",
        "pd.read_table('examples/ex1.csv', sep=',')  #read into dataframe: '\\t' as default seperator\n",
        "\n",
        "#when data doesnt have header col names\n",
        "pd.read_csv('examples/ex2.csv', header=None)\n",
        "pd.read_csv('examples/ex2.csv', names=['a', 'b', 'c', 'd', 'message'])\n",
        "names = ['a', 'b', 'c', 'd', 'message']\n",
        "pd.read_csv('examples/ex2.csv', names=names, index_col='message')#msg col=index col\n",
        "parsed = pd.read_csv('examples/csv_mindex.csv',\n",
        "                     index_col=['key1', 'key2'])  #hierarchical data (keys with duplicates)\n",
        "list(open('examples/ex3.txt'))  #text file with whitespace\n",
        "result = pd.read_table('examples/ex3.txt', sep='\\s+') #delimiter= whitespace\n",
        "# if no col name for 1st col= col1 acts as index in df\n",
        "res=pd.read_csv('examples/ex4.csv', skiprows=[0, 2, 3]) #skip col\n",
        "pd.isnull(res)  #returns true/false \n",
        "result = pd.read_csv('examples/ex5.csv', na_values=['NULL'])  #consider missing val\n",
        "sentinels = {'message': ['foo', 'NA'], 'something': ['two']}  #specified by [row,col]\n",
        "pd.read_csv('examples/ex5.csv', na_values=sentinels)"
      ],
      "execution_count": 0,
      "outputs": []
    },
    {
      "cell_type": "markdown",
      "metadata": {
        "id": "zYSQQyP3BZEi",
        "colab_type": "text"
      },
      "source": [
        "## Reading Data to Text Format"
      ]
    },
    {
      "cell_type": "code",
      "metadata": {
        "id": "GyvibD6WBeHh",
        "colab_type": "code",
        "colab": {}
      },
      "source": [
        "pd.options.display.max_rows = 10  #max rows display\n",
        "result = pd.read_csv('examples/ex6.csv')\n",
        "pd.read_csv('examples/ex6.csv', nrows=5)\n",
        "chunker = pd.read_csv('examples/ex6.csv', chunksize=1000)\n",
        "#iterate over chunk\n",
        "tot = pd.Series([])\n",
        "for piece in chunker:\n",
        "    tot = tot.add(piece['key'].value_counts(), fill_value=0)\n",
        "\n",
        "tot = tot.sort_values(ascending=False)\n",
        "tot[:10]  #display 10 rows"
      ],
      "execution_count": 0,
      "outputs": []
    },
    {
      "cell_type": "markdown",
      "metadata": {
        "id": "QAA5MpsbCQVC",
        "colab_type": "text"
      },
      "source": [
        "## Writing Data to Text Format"
      ]
    },
    {
      "cell_type": "code",
      "metadata": {
        "id": "fxdAHKZjCZuo",
        "colab_type": "code",
        "colab": {}
      },
      "source": [
        "data = pd.read_csv('examples/ex5.csv')\n",
        "data.to_csv('examples/out.csv') #write\n",
        "import sys\n",
        "data.to_csv(sys.stdout, sep='|')  #print in console with limiter\n",
        "data.to_csv(sys.stdout, na_rep='NULL')  #missing value replaced\n",
        "data.to_csv(sys.stdout, index=False, header=False)  #remove index and col names\n",
        "data.to_csv(sys.stdout, index=False, columns=['a', 'b', 'c']) #select col\n",
        "\n",
        "#series operation:similar\n",
        "dates = pd.date_range('1/1/2000', periods=7)\n",
        "ts = pd.Series(np.arange(7), index=dates) #dates from 0 to 6\n",
        "ts.to_csv('examples/tseries.csv')"
      ],
      "execution_count": 0,
      "outputs": []
    },
    {
      "cell_type": "markdown",
      "metadata": {
        "id": "BeUkoT0KD82v",
        "colab_type": "text"
      },
      "source": [
        "## Working with Delimited Formats"
      ]
    },
    {
      "cell_type": "code",
      "metadata": {
        "id": "a9d_YgN2EAxq",
        "colab_type": "code",
        "colab": {}
      },
      "source": [
        "import csv\n",
        "f = open('examples/ex7.csv')\n",
        "\n",
        "reader = csv.reader(f)\n",
        "for line in reader:\n",
        "    print(line)   #read line by line listed values\n",
        "with open('examples/ex7.csv') as f:\n",
        "    lines = list(csv.reader(f))\n",
        "header, values = lines[0], lines[1:]    #select header\n",
        "data_dict = {h: v for h, v in zip(header, zip(*values))}  #dict of data col\n",
        "\n",
        "class my_dialect(csv.Dialect):\n",
        " lineterminator = '\\n'\n",
        " delimiter = ';'\n",
        " quotechar = '\"'\n",
        " quoting = csv.QUOTE_MINIMAL\n",
        "reader = csv.reader(f, dialect=my_dialect)  #working with different delimiters\n",
        "\n",
        "reader = csv.reader(f, delimiter='|') #defined delimiter\n",
        "\n",
        "with open('mydata.csv', 'w') as f:\n",
        " writer = csv.writer(f, dialect=my_dialect)\n",
        " writer.writerow(('one', 'two', 'three'))\n",
        " writer.writerow(('1', '2', '3'))\n",
        " writer.writerow(('4', '5', '6'))\n",
        " writer.writerow(('7', '8', '9'))"
      ],
      "execution_count": 0,
      "outputs": []
    },
    {
      "cell_type": "markdown",
      "metadata": {
        "id": "jQi-DA_zHiG9",
        "colab_type": "text"
      },
      "source": [
        "## JSON Data"
      ]
    },
    {
      "cell_type": "code",
      "metadata": {
        "id": "sVVWtCufHss_",
        "colab_type": "code",
        "colab": {}
      },
      "source": [
        "obj = \"\"\"\n",
        "{\"name\": \"Wes\",\n",
        " \"places_lived\": [\"United States\", \"Spain\", \"Germany\"],\n",
        " \"pet\": null,\n",
        " \"siblings\": [{\"name\": \"Scott\", \"age\": 30, \"pets\": [\"Zeus\", \"Zuko\"]},\n",
        "              {\"name\": \"Katie\", \"age\": 38,\n",
        "               \"pets\": [\"Sixes\", \"Stache\", \"Cisco\"]}]\n",
        "}\n",
        "\"\"\"\n",
        "import json\n",
        "result = json.loads(obj)\n",
        "asjson = json.dumps(result) # Python object back to JSON:\n",
        "siblings = pd.DataFrame(result['siblings'], columns=['name', 'age'])\n",
        "data = pd.read_json('examples/example.json')\n",
        "print(data.to_json())\n",
        "print(data.to_json(orient='records'))"
      ],
      "execution_count": 0,
      "outputs": []
    },
    {
      "cell_type": "markdown",
      "metadata": {
        "id": "WLG-azD6IlvT",
        "colab_type": "text"
      },
      "source": [
        "## XML and HTML: Web Scraping\n",
        "Python has many libraries for reading and writing data in the ubiquitous HTML and\n",
        "XML formats. Examples include lxml, Beautiful Soup, and html5lib. While lxml is\n",
        "comparatively much faster in general, the other libraries can better handle malformed\n",
        "HTML or XML files.\n",
        "\n",
        "pandas has a built-in function, read_html, which uses libraries like lxml and Beautiful Soup to automatically parse tables out of HTML files as DataFrame objects. "
      ]
    },
    {
      "cell_type": "code",
      "metadata": {
        "id": "s7UUdzwwInsv",
        "colab_type": "code",
        "colab": {}
      },
      "source": [
        "#conda install lxml \n",
        "#pip install beautifulsoup4 html5lib\n",
        "tables = pd.read_html('examples/fdic_failed_bank_list.html')\n",
        "len(tables)\n",
        "failures = tables[0]\n",
        "failures.head()\n",
        "close_timestamps = pd.to_datetime(failures['Closing Date'])\n",
        "close_timestamps.dt.year.value_counts()"
      ],
      "execution_count": 0,
      "outputs": []
    },
    {
      "cell_type": "markdown",
      "metadata": {
        "id": "smoI2RfWKurg",
        "colab_type": "text"
      },
      "source": [
        "**Parsing XML with lxml.objectify**"
      ]
    },
    {
      "cell_type": "code",
      "metadata": {
        "id": "w97lbZjUKTjW",
        "colab_type": "code",
        "colab": {}
      },
      "source": [
        "from lxml import objectify\n",
        "\n",
        "path = 'datasets/mta_perf/Performance_MNR.xml'\n",
        "parsed = objectify.parse(open(path))\n",
        "root = parsed.getroot() #parse and get roots\n",
        "data = []\n",
        "\n",
        "skip_fields = ['PARENT_SEQ', 'INDICATOR_SEQ',\n",
        "               'DESIRED_CHANGE', 'DECIMAL_PLACES']\n",
        "\n",
        "for elt in root.INDICATOR:\n",
        "    el_data = {}\n",
        "    for child in elt.getchildren():\n",
        "        if child.tag in skip_fields:\n",
        "            continue\n",
        "        el_data[child.tag] = child.pyval\n",
        "    data.append(el_data)\n",
        "perf = pd.DataFrame(data) #dict to df\n",
        "perf.head()\n",
        "from io import StringIO #if metadata too\n",
        "tag = '<a href=\"http://www.google.com\">Google</a>'\n",
        "root = objectify.parse(StringIO(tag)).getroot()\n",
        "root\n",
        "root.get('href')\n",
        "root.text"
      ],
      "execution_count": 0,
      "outputs": []
    },
    {
      "cell_type": "markdown",
      "metadata": {
        "id": "lGleKWfyLoin",
        "colab_type": "text"
      },
      "source": [
        "## Binary Data Formats\n",
        "\n",
        "One of the easiest ways to store data (also known as serialization) efficiently in binary\n",
        "format is using Python’s built-in pickle serialization. pandas objects all have a\n",
        "to_pickle method that writes the data to disk in pickle format.\n",
        "\n",
        "HDF5: storing large quantities of scientific\n",
        "array data. It is available as a C library, and it has interfaces available in many other\n",
        "languages, including Java, Julia, MATLAB, and Python. The “HDF” in HDF5 stands\n",
        "for hierarchical data format.  Supports on-the-fly compres‐\n",
        "sion with a variety of compression modes. For large datasets.\n",
        "\n",
        "Can directly access HDF5 files using either the PyTables or h5py\n",
        "libraries"
      ]
    },
    {
      "cell_type": "code",
      "metadata": {
        "id": "I5bqu3i0KU6n",
        "colab_type": "code",
        "colab": {}
      },
      "source": [
        "frame = pd.read_csv('examples/ex1.csv')\n",
        "frame\n",
        "frame.to_pickle('examples/frame_pickle')\n",
        "pd.read_pickle('examples/frame_pickle')\n",
        "#!rm examples/frame_pickle\n",
        "#Using HDF5 Format\n",
        "frame = pd.DataFrame({'a': np.random.randn(100)})\n",
        "store = pd.HDFStore('mydata.h5')\n",
        "store['obj1'] = frame\n",
        "store['obj1_col'] = frame['a']\n",
        "#store\n",
        "store['obj1'] #retrieve\n",
        "#store as fixed or table:query\n",
        "store.put('obj2', frame, format='table')\n",
        "store.select('obj2', where=['index >= 10 and index <= 15'])\n",
        "store.close()\n",
        "frame.to_hdf('mydata.h5', 'obj3', format='table')\n",
        "pd.read_hdf('mydata.h5', 'obj3', where=['index < 5'])\n",
        "os.remove('mydata.h5')"
      ],
      "execution_count": 0,
      "outputs": []
    },
    {
      "cell_type": "markdown",
      "metadata": {
        "id": "PnHxkIRzNdYr",
        "colab_type": "text"
      },
      "source": [
        "## Reading Microsoft Excel Files"
      ]
    },
    {
      "cell_type": "code",
      "metadata": {
        "id": "FDhYX0NMKc2R",
        "colab_type": "code",
        "colab": {}
      },
      "source": [
        "xlsx = pd.ExcelFile('examples/ex1.xlsx')\n",
        "pd.read_excel(xlsx, 'Sheet1') #read sheet\n",
        "frame = pd.read_excel('examples/ex1.xlsx', 'Sheet1')\n",
        "writer = pd.ExcelWriter('examples/ex2.xlsx')\n",
        "frame.to_excel(writer, 'Sheet1')\n",
        "writer.save()\n",
        "frame.to_excel('examples/ex2.xlsx')\n",
        "#!rm examples/ex2.xlsx"
      ],
      "execution_count": 0,
      "outputs": []
    },
    {
      "cell_type": "markdown",
      "metadata": {
        "id": "QccsXILaNul9",
        "colab_type": "text"
      },
      "source": [
        "## Interacting with Web APIs"
      ]
    },
    {
      "cell_type": "code",
      "metadata": {
        "id": "VTJ58X8xKg2q",
        "colab_type": "code",
        "colab": {}
      },
      "source": [
        "import requests\n",
        "url = 'https://api.github.com/repos/pandas-dev/pandas/issues'\n",
        "resp = requests.get(url)\n",
        "data = resp.json()\n",
        "data[0]['title']\n",
        "issues = pd.DataFrame(data, columns=['number', 'title',\n",
        "                                     'labels', 'state'])"
      ],
      "execution_count": 0,
      "outputs": []
    },
    {
      "cell_type": "markdown",
      "metadata": {
        "id": "BWicvPZEOCtd",
        "colab_type": "text"
      },
      "source": [
        "## Interacting with Databases"
      ]
    },
    {
      "cell_type": "code",
      "metadata": {
        "id": "fNxO0Lk5KmTr",
        "colab_type": "code",
        "colab": {}
      },
      "source": [
        "#SQL Server, PostgreSQL, and MySQL\n",
        "import sqlite3\n",
        "query = \"\"\"\n",
        "CREATE TABLE test\n",
        "(a VARCHAR(20), b VARCHAR(20),\n",
        " c REAL,        d INTEGER\n",
        ");\"\"\"\n",
        "con = sqlite3.connect('mydata.sqlite')\n",
        "con.execute(query)\n",
        "con.commit()\n",
        "data = [('Atlanta', 'Georgia', 1.25, 6),\n",
        "        ('Tallahassee', 'Florida', 2.6, 3),\n",
        "        ('Sacramento', 'California', 1.7, 5)]\n",
        "stmt = \"INSERT INTO test VALUES(?, ?, ?, ?)\"\n",
        "con.executemany(stmt, data)\n",
        "con.commit()\n",
        "#Most Python SQL drivers (PyODBC, psycopg2, MySQLdb, pymssql, etc.) return a list of tuples when selecting data from a table\n",
        "cursor = con.execute('select * from test')\n",
        "rows = cursor.fetchall()\n",
        "cursor.description\n",
        "pd.DataFrame(rows, columns=[x[0] for x in cursor.description])\n",
        "import sqlalchemy as sqla\n",
        "db = sqla.create_engine('sqlite:///mydata.sqlite')\n",
        "pd.read_sql('select * from test', db)\n",
        "#!rm mydata.sqlite"
      ],
      "execution_count": 0,
      "outputs": []
    },
    {
      "cell_type": "markdown",
      "metadata": {
        "id": "vSYXoL-kfXvo",
        "colab_type": "text"
      },
      "source": [
        "## Data Cleaning and Preparation\n",
        "1. Handling Missing Data:\n",
        "\n",
        "For numeric data, pandas uses the floating-point\n",
        "value NaN (Not a Number) to represent missing data. We call this a sentinel value that\n",
        "can be easily detected."
      ]
    },
    {
      "cell_type": "code",
      "metadata": {
        "id": "yMATQvCKf7w-",
        "colab_type": "code",
        "outputId": "c9313736-1ec9-4db3-a7be-d5b531c12536",
        "colab": {
          "base_uri": "https://localhost:8080/",
          "height": 101
        }
      },
      "source": [
        "import pandas as pd\n",
        "import numpy as np\n",
        "string_data = pd.Series(['aardvark', 'artichoke', np.nan, 'avocado'])\n",
        "string_data.isnull()    #displays true/false for notnull/null values\n",
        "\n",
        "string_data[0] = None   #none is also null value\n",
        "string_data.isnull()  #d[0]=null\n",
        "#fillna used for filling NaN value"
      ],
      "execution_count": 0,
      "outputs": [
        {
          "output_type": "execute_result",
          "data": {
            "text/plain": [
              "0     True\n",
              "1    False\n",
              "2     True\n",
              "3    False\n",
              "dtype: bool"
            ]
          },
          "metadata": {
            "tags": []
          },
          "execution_count": 1
        }
      ]
    },
    {
      "cell_type": "markdown",
      "metadata": {
        "id": "iapgE935hHva",
        "colab_type": "text"
      },
      "source": [
        "2. Filtering Out Missing Data"
      ]
    },
    {
      "cell_type": "code",
      "metadata": {
        "id": "ytLFn12QhKIh",
        "colab_type": "code",
        "outputId": "d46cfbc0-9a2c-40cc-da02-958829423a26",
        "colab": {
          "base_uri": "https://localhost:8080/",
          "height": 136
        }
      },
      "source": [
        "from numpy import nan as NA\n",
        "data = pd.Series([1, NA, 3.5, NA, 7])\n",
        "data.dropna()   #drops all row with NA values\n",
        "data[data.notnull()]  #same as dropna\n",
        "data = pd.DataFrame([[1., 6.5, 3.], [1., NA, NA],\n",
        "                     [NA, NA, NA], [NA, 6.5, 3.]])\n",
        "cleaned = data.dropna()\n",
        "data.dropna(how='all')  # drop rows that are all NA\n",
        "data[4] = NA\n",
        "data.dropna(axis=1, how='all')  #col wise drop NA\n",
        "df = pd.DataFrame(np.random.randn(7, 3))\n",
        "df.iloc[:4, 1] = NA #Rows 0-3, col 1\n",
        "df.iloc[:2, 2] = NA #Rows 0-1, col 2\n",
        "df.dropna()\n",
        "#df.dropna(thresh=2)"
      ],
      "execution_count": 0,
      "outputs": [
        {
          "output_type": "execute_result",
          "data": {
            "text/html": [
              "<div>\n",
              "<style scoped>\n",
              "    .dataframe tbody tr th:only-of-type {\n",
              "        vertical-align: middle;\n",
              "    }\n",
              "\n",
              "    .dataframe tbody tr th {\n",
              "        vertical-align: top;\n",
              "    }\n",
              "\n",
              "    .dataframe thead th {\n",
              "        text-align: right;\n",
              "    }\n",
              "</style>\n",
              "<table border=\"1\" class=\"dataframe\">\n",
              "  <thead>\n",
              "    <tr style=\"text-align: right;\">\n",
              "      <th></th>\n",
              "      <th>0</th>\n",
              "      <th>1</th>\n",
              "      <th>2</th>\n",
              "    </tr>\n",
              "  </thead>\n",
              "  <tbody>\n",
              "    <tr>\n",
              "      <th>4</th>\n",
              "      <td>0.427898</td>\n",
              "      <td>0.478275</td>\n",
              "      <td>2.181719</td>\n",
              "    </tr>\n",
              "    <tr>\n",
              "      <th>5</th>\n",
              "      <td>0.355832</td>\n",
              "      <td>0.401154</td>\n",
              "      <td>0.487767</td>\n",
              "    </tr>\n",
              "    <tr>\n",
              "      <th>6</th>\n",
              "      <td>-0.838914</td>\n",
              "      <td>-0.286565</td>\n",
              "      <td>0.313073</td>\n",
              "    </tr>\n",
              "  </tbody>\n",
              "</table>\n",
              "</div>"
            ],
            "text/plain": [
              "          0         1         2\n",
              "4  0.427898  0.478275  2.181719\n",
              "5  0.355832  0.401154  0.487767\n",
              "6 -0.838914 -0.286565  0.313073"
            ]
          },
          "metadata": {
            "tags": []
          },
          "execution_count": 2
        }
      ]
    },
    {
      "cell_type": "markdown",
      "metadata": {
        "id": "0L_JLxpphY5g",
        "colab_type": "text"
      },
      "source": [
        "3. Filling In Missing Data"
      ]
    },
    {
      "cell_type": "code",
      "metadata": {
        "id": "KUSFSAjfhd8O",
        "colab_type": "code",
        "outputId": "74e70a94-7fbf-4f94-98f0-8cb398219e89",
        "colab": {
          "base_uri": "https://localhost:8080/",
          "height": 118
        }
      },
      "source": [
        "df.fillna(0)  #fill with zeroes\n",
        "df.fillna({1: 0.5, 2: 0}) #fill col 1 by 0.5, col 2 by 0\n",
        "_ = df.fillna(0, inplace=True)  #fillna creates new obj, use inplace to avoid\n",
        "df = pd.DataFrame(np.random.randn(6, 3))\n",
        "df.iloc[2:, 1] = NA\n",
        "df.iloc[4:, 2] = NA\n",
        "df.fillna(method='ffill')\n",
        "df.fillna(method='ffill', limit=2)\n",
        "data = pd.Series([1., NA, 3.5, NA, 7])\n",
        "data.fillna(data.mean())  #fill with mean value"
      ],
      "execution_count": 0,
      "outputs": [
        {
          "output_type": "execute_result",
          "data": {
            "text/plain": [
              "0    1.000000\n",
              "1    3.833333\n",
              "2    3.500000\n",
              "3    3.833333\n",
              "4    7.000000\n",
              "dtype: float64"
            ]
          },
          "metadata": {
            "tags": []
          },
          "execution_count": 3
        }
      ]
    },
    {
      "cell_type": "markdown",
      "metadata": {
        "id": "Iev9uRQjhnrl",
        "colab_type": "text"
      },
      "source": [
        "## Data Transformation\n",
        "1.Removing Duplicates"
      ]
    },
    {
      "cell_type": "code",
      "metadata": {
        "id": "8us05EeUhw1w",
        "colab_type": "code",
        "colab": {}
      },
      "source": [
        "data = pd.DataFrame({'k1': ['one', 'two'] * 3 + ['two'],\n",
        "                     'k2': [1, 1, 2, 3, 3, 4, 4]})\n",
        "data.duplicated() #true/false if duplicate or not\n",
        "data.drop_duplicates()  #drop duplicate\n",
        "data['v1'] = range(7)\n",
        "data.drop_duplicates(['k1'])  #drop duplicate for col k1\n",
        "data.drop_duplicates(['k1', 'k2'], keep='last') #keep the last duplicate value"
      ],
      "execution_count": 0,
      "outputs": []
    },
    {
      "cell_type": "markdown",
      "metadata": {
        "id": "XN9pyi9Sh9Jp",
        "colab_type": "text"
      },
      "source": [
        "2. Transforming Data Using a Function or Mapping"
      ]
    },
    {
      "cell_type": "code",
      "metadata": {
        "id": "asG8S-ioh_Fb",
        "colab_type": "code",
        "outputId": "9b73511c-069e-4347-c0a2-fbaae2ab3b9c",
        "colab": {
          "base_uri": "https://localhost:8080/",
          "height": 185
        }
      },
      "source": [
        "data = pd.DataFrame({'food': ['bacon', 'pulled pork', 'bacon',\n",
        "                              'Pastrami', 'corned beef', 'Bacon',\n",
        "                              'pastrami', 'honey ham', 'nova lox'],\n",
        "                     'ounces': [4, 3, 12, 6, 7.5, 8, 3, 5, 6]})\n",
        "meat_to_animal = {      #add col\n",
        "  'bacon': 'pig',\n",
        "  'pulled pork': 'pig',\n",
        "  'pastrami': 'cow',\n",
        "  'corned beef': 'cow',\n",
        "  'honey ham': 'pig',\n",
        "  'nova lox': 'salmon'\n",
        "}\n",
        "lowercased = data['food'].str.lower() #lowercase all first\n",
        "lowercased\n",
        "data['animal'] = lowercased.map(meat_to_animal) #col add\n",
        "data\n",
        "data['food'].map(lambda x: meat_to_animal[x.lower()]) #compact alternative"
      ],
      "execution_count": 0,
      "outputs": [
        {
          "output_type": "execute_result",
          "data": {
            "text/plain": [
              "0       pig\n",
              "1       pig\n",
              "2       pig\n",
              "3       cow\n",
              "4       cow\n",
              "5       pig\n",
              "6       cow\n",
              "7       pig\n",
              "8    salmon\n",
              "Name: food, dtype: object"
            ]
          },
          "metadata": {
            "tags": []
          },
          "execution_count": 4
        }
      ]
    },
    {
      "cell_type": "markdown",
      "metadata": {
        "id": "lZ8D-OF-iQkp",
        "colab_type": "text"
      },
      "source": [
        "3. Replacing Values"
      ]
    },
    {
      "cell_type": "code",
      "metadata": {
        "id": "KBiRWMAyiQ-9",
        "colab_type": "code",
        "outputId": "6e6830f0-8d16-4e18-c693-01c22c707260",
        "colab": {
          "base_uri": "https://localhost:8080/",
          "height": 134
        }
      },
      "source": [
        "data = pd.Series([1., -999., 2., -999., -1000., 3.])\n",
        "data\n",
        "data.replace(-999, np.nan)\n",
        "data.replace([-999, -1000], np.nan)\n",
        "data.replace([-999, -1000], [np.nan, 0])\n",
        "data.replace({-999: np.nan, -1000: 0})"
      ],
      "execution_count": 0,
      "outputs": [
        {
          "output_type": "execute_result",
          "data": {
            "text/plain": [
              "0    1.0\n",
              "1    NaN\n",
              "2    2.0\n",
              "3    NaN\n",
              "4    0.0\n",
              "5    3.0\n",
              "dtype: float64"
            ]
          },
          "metadata": {
            "tags": []
          },
          "execution_count": 5
        }
      ]
    },
    {
      "cell_type": "markdown",
      "metadata": {
        "id": "TQfJA25niRg2",
        "colab_type": "text"
      },
      "source": [
        "4. Renaming Axis Indexes"
      ]
    },
    {
      "cell_type": "code",
      "metadata": {
        "id": "4PsAWRj6iSCW",
        "colab_type": "code",
        "outputId": "a4a4167d-8ca2-4bc9-ca1e-86f0e638ce47",
        "colab": {
          "base_uri": "https://localhost:8080/",
          "height": 136
        }
      },
      "source": [
        "data = pd.DataFrame(np.arange(12).reshape((3, 4)),\n",
        "                    index=['Ohio', 'Colorado', 'New York'],\n",
        "                    columns=['one', 'two', 'three', 'four'])\n",
        "transform = lambda x: x[:4].upper()\n",
        "data.index.map(transform) #uppercase index\n",
        "data.index = data.index.map(transform)\n",
        "data\n",
        "data.rename(index=str.title, columns=str.upper) #uppercase col name\n",
        "data.rename(index={'OHIO': 'INDIANA'},\n",
        "            columns={'three': 'peekaboo'})\n",
        "data.rename(index={'OHIO': 'INDIANA'}, inplace=True)  #avoid new copy obj\n",
        "data"
      ],
      "execution_count": 0,
      "outputs": [
        {
          "output_type": "execute_result",
          "data": {
            "text/html": [
              "<div>\n",
              "<style scoped>\n",
              "    .dataframe tbody tr th:only-of-type {\n",
              "        vertical-align: middle;\n",
              "    }\n",
              "\n",
              "    .dataframe tbody tr th {\n",
              "        vertical-align: top;\n",
              "    }\n",
              "\n",
              "    .dataframe thead th {\n",
              "        text-align: right;\n",
              "    }\n",
              "</style>\n",
              "<table border=\"1\" class=\"dataframe\">\n",
              "  <thead>\n",
              "    <tr style=\"text-align: right;\">\n",
              "      <th></th>\n",
              "      <th>one</th>\n",
              "      <th>two</th>\n",
              "      <th>three</th>\n",
              "      <th>four</th>\n",
              "    </tr>\n",
              "  </thead>\n",
              "  <tbody>\n",
              "    <tr>\n",
              "      <th>INDIANA</th>\n",
              "      <td>0</td>\n",
              "      <td>1</td>\n",
              "      <td>2</td>\n",
              "      <td>3</td>\n",
              "    </tr>\n",
              "    <tr>\n",
              "      <th>COLO</th>\n",
              "      <td>4</td>\n",
              "      <td>5</td>\n",
              "      <td>6</td>\n",
              "      <td>7</td>\n",
              "    </tr>\n",
              "    <tr>\n",
              "      <th>NEW</th>\n",
              "      <td>8</td>\n",
              "      <td>9</td>\n",
              "      <td>10</td>\n",
              "      <td>11</td>\n",
              "    </tr>\n",
              "  </tbody>\n",
              "</table>\n",
              "</div>"
            ],
            "text/plain": [
              "         one  two  three  four\n",
              "INDIANA    0    1      2     3\n",
              "COLO       4    5      6     7\n",
              "NEW        8    9     10    11"
            ]
          },
          "metadata": {
            "tags": []
          },
          "execution_count": 6
        }
      ]
    },
    {
      "cell_type": "markdown",
      "metadata": {
        "id": "ZtjqDBrEiSno",
        "colab_type": "text"
      },
      "source": [
        "5. Discretization and Binning"
      ]
    },
    {
      "cell_type": "code",
      "metadata": {
        "id": "7-fRMvw1iTAA",
        "colab_type": "code",
        "outputId": "ac5d25dd-a2a7-410c-f3fc-7065c881387d",
        "colab": {
          "base_uri": "https://localhost:8080/",
          "height": 104
        }
      },
      "source": [
        "ages = [20, 22, 25, 27, 21, 23, 37, 31, 61, 45, 41, 32]\n",
        "bins = [18, 25, 35, 60, 100]\n",
        "cats = pd.cut(ages, bins) #in bins of (18,25],(25,35]...\n",
        "cats\n",
        "cats.codes  #bin names o/p for each age: 0,1,2....\n",
        "cats.categories   #bin range o/p: (18,25],(25,35]...\n",
        "pd.value_counts(cats) #elements in each bin\n",
        "pd.cut(ages, [18, 26, 36, 61, 100], right=False)  #in bins of [18,25),[25,35)...\n",
        "group_names = ['Youth', 'YoungAdult', 'MiddleAged', 'Senior']\n",
        "pd.cut(ages, bins, labels=group_names)\n",
        "data = np.random.rand(20)\n",
        "pd.cut(data, 4, precision=2)\n",
        "data = np.random.randn(1000)  # Normally distributed\n",
        "cats = pd.qcut(data, 4)  # Cut into quartiles\n",
        "cats\n",
        "pd.value_counts(cats)\n",
        "pd.qcut(data, [0, 0.1, 0.5, 0.9, 1.])"
      ],
      "execution_count": 0,
      "outputs": [
        {
          "output_type": "execute_result",
          "data": {
            "text/plain": [
              "[(1.305, 3.41], (-0.00982, 1.305], (-0.00982, 1.305], (-0.00982, 1.305], (-0.00982, 1.305], ..., (-1.245, -0.00982], (-1.245, -0.00982], (-0.00982, 1.305], (-3.483, -1.245], (-0.00982, 1.305]]\n",
              "Length: 1000\n",
              "Categories (4, interval[float64]): [(-3.483, -1.245] < (-1.245, -0.00982] < (-0.00982, 1.305] <\n",
              "                                    (1.305, 3.41]]"
            ]
          },
          "metadata": {
            "tags": []
          },
          "execution_count": 7
        }
      ]
    },
    {
      "cell_type": "markdown",
      "metadata": {
        "id": "OM9wRG8ciTXQ",
        "colab_type": "text"
      },
      "source": [
        "6. Detecting and Filtering Outliers"
      ]
    },
    {
      "cell_type": "code",
      "metadata": {
        "id": "U-ivo5M3iTtM",
        "colab_type": "code",
        "colab": {}
      },
      "source": [
        "data = pd.DataFrame(np.random.randn(1000, 4))\n",
        "data.describe()\n",
        "col = data[2]\n",
        "col[np.abs(col) > 3]\n",
        "data[(np.abs(data) > 3).any(1)] #select all rows having a value exceeding 3 or –3\n",
        "data[np.abs(data) > 3] = np.sign(data) * 3\n",
        "data.describe()\n",
        "np.sign(data).head()  # produces 1 and –1 "
      ],
      "execution_count": 0,
      "outputs": []
    },
    {
      "cell_type": "markdown",
      "metadata": {
        "id": "YTmrqGcEiUIJ",
        "colab_type": "text"
      },
      "source": [
        "7. Permutation and Random Sampling"
      ]
    },
    {
      "cell_type": "code",
      "metadata": {
        "id": "oMBBg4EyiUiZ",
        "colab_type": "code",
        "colab": {}
      },
      "source": [
        "df = pd.DataFrame(np.arange(5 * 4).reshape((5, 4)))\n",
        "sampler = np.random.permutation(5)  #permutate 0 to 4\n",
        "df.take(sampler)  #shuffle\n",
        "df.sample(n=3)  #random subset\n",
        "choices = pd.Series([5, 7, -1, 6, 4])\n",
        "draws = choices.sample(n=10, replace=True)  #can repeat selection"
      ],
      "execution_count": 0,
      "outputs": []
    },
    {
      "cell_type": "markdown",
      "metadata": {
        "id": "rdHZa_9Yji9Q",
        "colab_type": "text"
      },
      "source": [
        "8. Computing Indicator/Dummy Variables\n",
        "*  converting a categorical variable into a “dummy” or “indicator” matrix"
      ]
    },
    {
      "cell_type": "code",
      "metadata": {
        "id": "KxJn2_idjjfx",
        "colab_type": "code",
        "colab": {}
      },
      "source": [
        "df = pd.DataFrame({'key': ['b', 'b', 'a', 'c', 'a', 'b'],\n",
        "                   'data1': range(6)})\n",
        "pd.get_dummies(df['key']) #col/keys:a,b,c, index(0 to 5), values[i][j]=0/1 shuffled\n",
        "dummies = pd.get_dummies(df['key'], prefix='key') #col/keys:key_a,key_b,key_c\n",
        "df_with_dummy = df[['data1']].join(dummies)\n",
        "mnames = ['movie_id', 'title', 'genres']\n",
        "movies = pd.read_table('datasets/movielens/movies.dat', sep='::',\n",
        "                       header=None, names=mnames)\n",
        "movies[:10]\n",
        "all_genres = []\n",
        "for x in movies.genres:\n",
        "    all_genres.extend(x.split('|'))\n",
        "genres = pd.unique(all_genres)\n",
        "genres\n",
        "zero_matrix = np.zeros((len(movies), len(genres)))\n",
        "dummies = pd.DataFrame(zero_matrix, columns=genres)\n",
        "gen = movies.genres[0]\n",
        "gen.split('|')\n",
        "dummies.columns.get_indexer(gen.split('|'))\n",
        "for i, gen in enumerate(movies.genres):\n",
        "    indices = dummies.columns.get_indexer(gen.split('|'))\n",
        "    dummies.iloc[i, indices] = 1\n",
        "movies_windic = movies.join(dummies.add_prefix('Genre_'))\n",
        "movies_windic.iloc[0]\n",
        "np.random.seed(12345)\n",
        "values = np.random.rand(10)\n",
        "values\n",
        "bins = [0, 0.2, 0.4, 0.6, 0.8, 1]\n",
        "pd.get_dummies(pd.cut(values, bins))"
      ],
      "execution_count": 0,
      "outputs": []
    },
    {
      "cell_type": "markdown",
      "metadata": {
        "id": "9vdgzHZPjj8w",
        "colab_type": "text"
      },
      "source": [
        "## String Manipulation\n",
        "1. String Object Methods"
      ]
    },
    {
      "cell_type": "code",
      "metadata": {
        "id": "d1QYuwkSjkZf",
        "colab_type": "code",
        "colab": {}
      },
      "source": [
        "val = 'a,b,  guido'\n",
        "val.split(',')  # ['a', 'b', ' guido'], has spaces\n",
        "pieces = [x.strip() for x in val.split(',')]  #['a', 'b', 'guido']\n",
        "first, second, third = pieces\n",
        "first + '::' + second + '::' + third  #'a::b::guido'\n",
        "'::'.join(pieces) #'a::b::guido'\n",
        "'guido' in val  #true\n",
        "val.index(',')  #1\n",
        "val.find(':') #-1\n",
        "val.index(':')  #substring not found\n",
        "val.count(',')  #2\n",
        "val.replace(',', '::')  #'a::b:: guido'\n",
        "val.replace(',', '')  #'ab guido'"
      ],
      "execution_count": 0,
      "outputs": []
    },
    {
      "cell_type": "markdown",
      "metadata": {
        "id": "SNGU0M2Cjk4M",
        "colab_type": "text"
      },
      "source": [
        "2. Regular Expressions\n",
        "* The re module functions fall into three categories: pattern matching, substitution,\n",
        "and splitting. \n",
        "\n"
      ]
    },
    {
      "cell_type": "code",
      "metadata": {
        "id": "o0z0GfGnjlUB",
        "colab_type": "code",
        "colab": {}
      },
      "source": [
        "import re\n",
        "text = \"foo    bar\\t baz  \\tqux\"\n",
        "re.split('\\s+', text) #['foo', 'bar', 'baz', 'qux'], already compiled\n",
        "regex = re.compile('\\s+') #compile\n",
        "regex.split(text) #split\n",
        "regex.findall(text) # [' ', '\\t ', ' \\t']\n",
        "text = \"\"\"Dave dave@google.com\n",
        "Steve steve@gmail.com\n",
        "Rob rob@gmail.com\n",
        "Ryan ryan@yahoo.com\n",
        "\"\"\"\n",
        "pattern = r'[A-Z0-9._%+-]+@[A-Z0-9.-]+\\.[A-Z]{2,4}'\n",
        "\n",
        "# re.IGNORECASE makes the regex case-insensitive\n",
        "regex = re.compile(pattern, flags=re.IGNORECASE)\n",
        "regex.findall(text)\n",
        "m = regex.search(text)  # returns a special match object for the first email address in the text\n",
        "text[m.start():m.end()]\n",
        "print(regex.match(text))  # None, as it only will match if the pattern occurs at the start of the string\n",
        "print(regex.sub('REDACTED', text))\n",
        "pattern = r'([A-Z0-9._%+-]+)@([A-Z0-9.-]+)\\.([A-Z]{2,4})'\n",
        "regex = re.compile(pattern, flags=re.IGNORECASE)\n",
        "m = regex.match('wesm@bright.net')\n",
        "m.groups()\n",
        "regex.findall(text)\n",
        "print(regex.sub(r'Username: \\1, Domain: \\2, Suffix: \\3', text))"
      ],
      "execution_count": 0,
      "outputs": []
    },
    {
      "cell_type": "markdown",
      "metadata": {
        "id": "cvMiawh8mOYB",
        "colab_type": "text"
      },
      "source": [
        "3. Vectorized String Functions in pandas"
      ]
    },
    {
      "cell_type": "code",
      "metadata": {
        "id": "tRs-SuOYmTRz",
        "colab_type": "code",
        "colab": {}
      },
      "source": [
        "data = {'Dave': 'dave@google.com', 'Steve': 'steve@gmail.com',\n",
        "        'Rob': 'rob@gmail.com', 'Wes': np.nan}\n",
        "data = pd.Series(data)\n",
        "data.isnull()\n",
        "data.str.contains('gmail')  #returns true/false\n",
        "data.str.findall(pattern, flags=re.IGNORECASE)\n",
        "matches = data.str.match(pattern, flags=re.IGNORECASE)\n",
        "matches.str.get(1)\n",
        "matches.str[0]\n",
        "data.str[:5]  #slice strings"
      ],
      "execution_count": 0,
      "outputs": []
    }
  ]
}