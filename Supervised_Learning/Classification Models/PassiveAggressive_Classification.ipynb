{
  "nbformat": 4,
  "nbformat_minor": 0,
  "metadata": {
    "colab": {
      "name": "PassiveAggressive_Classification.ipynb",
      "provenance": []
    },
    "kernelspec": {
      "name": "python3",
      "display_name": "Python 3"
    }
  },
  "cells": [
    {
      "cell_type": "code",
      "metadata": {
        "id": "k6eDQm6dLHEe",
        "colab_type": "code",
        "colab": {}
      },
      "source": [
        "from sklearn.linear_model import PassiveAggressiveClassifier\n",
        "from sklearn.datasets import make_classification"
      ],
      "execution_count": 1,
      "outputs": []
    },
    {
      "cell_type": "code",
      "metadata": {
        "id": "VEz2sfSr-8IS",
        "colab_type": "code",
        "colab": {
          "base_uri": "https://localhost:8080/",
          "height": 67
        },
        "outputId": "2374ed20-b45d-48a8-f1a5-0076f2cfcef9"
      },
      "source": [
        "X, y = make_classification(n_features=4, random_state=0)\n",
        "clf = PassiveAggressiveClassifier(max_iter=1000, random_state=0,\n",
        "tol=1e-3)\n",
        "clf.fit(X, y)\n",
        "\n",
        "print(clf.coef_)\n",
        "\n",
        "print(clf.intercept_)\n",
        "\n",
        "print(clf.predict([[0, 0, 0, 0]]))"
      ],
      "execution_count": 2,
      "outputs": [
        {
          "output_type": "stream",
          "text": [
            "[[0.26642044 0.45070924 0.67251877 0.64185414]]\n",
            "[1.84127814]\n",
            "[1]\n"
          ],
          "name": "stdout"
        }
      ]
    }
  ]
}