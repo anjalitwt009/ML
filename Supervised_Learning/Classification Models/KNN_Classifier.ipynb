{
  "nbformat": 4,
  "nbformat_minor": 0,
  "metadata": {
    "colab": {
      "name": "KNN_Classifier.ipynb",
      "provenance": []
    },
    "kernelspec": {
      "name": "python3",
      "display_name": "Python 3"
    }
  },
  "cells": [
    {
      "cell_type": "code",
      "metadata": {
        "id": "GgPUE3Cn95oU",
        "colab_type": "code",
        "colab": {
          "base_uri": "https://localhost:8080/",
          "height": 34
        },
        "outputId": "9a14d109-b6f1-4092-aa88-f842dc150b2d"
      },
      "source": [
        "from sklearn.neighbors import NearestNeighbors\n",
        "neigh = NearestNeighbors(n_neighbors=1)\n",
        "samples = [[0., 0., 0.], [0., .5, 0.], [1., 1., .5]]\n",
        "neigh.fit(samples)\n",
        "\n",
        "print(neigh.kneighbors([[1., 1., 1.]]))"
      ],
      "execution_count": 1,
      "outputs": [
        {
          "output_type": "stream",
          "text": [
            "(array([[0.5]]), array([[2]]))\n"
          ],
          "name": "stdout"
        }
      ]
    },
    {
      "cell_type": "code",
      "metadata": {
        "id": "6SKzsQcQ-TN8",
        "colab_type": "code",
        "colab": {
          "base_uri": "https://localhost:8080/",
          "height": 50
        },
        "outputId": "70f33d98-28e5-40c3-ea17-85179f5e8268"
      },
      "source": [
        "X = [[0., 1., 0.], [1., 0., 1.]]\n",
        "neigh.kneighbors(X, return_distance=False)"
      ],
      "execution_count": 2,
      "outputs": [
        {
          "output_type": "execute_result",
          "data": {
            "text/plain": [
              "array([[1],\n",
              "       [2]])"
            ]
          },
          "metadata": {
            "tags": []
          },
          "execution_count": 2
        }
      ]
    }
  ]
}