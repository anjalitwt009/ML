{
  "nbformat": 4,
  "nbformat_minor": 0,
  "metadata": {
    "colab": {
      "name": "Perceptron_Classification.ipynb",
      "provenance": []
    },
    "kernelspec": {
      "name": "python3",
      "display_name": "Python 3"
    }
  },
  "cells": [
    {
      "cell_type": "code",
      "metadata": {
        "id": "dqk9CezBn3q_",
        "colab_type": "code",
        "colab": {
          "base_uri": "https://localhost:8080/",
          "height": 67
        },
        "outputId": "4a6a6028-aff2-493a-f34b-3f201cf21146"
      },
      "source": [
        "from sklearn.datasets import load_digits\n",
        "from sklearn.linear_model import Perceptron\n",
        "X, y = load_digits(return_X_y=True)\n",
        "clf = Perceptron(tol=1e-3, random_state=0)\n",
        "clf.fit(X, y)\n",
        "\n",
        "print(clf.score(X, y))\n",
        "\n",
        "#print(clf.coef_)\n",
        "\n",
        "print(clf.intercept_)\n",
        "\n",
        "print(clf.n_iter_)"
      ],
      "execution_count": 2,
      "outputs": [
        {
          "output_type": "stream",
          "text": [
            "0.9393433500278241\n",
            "[ -5. -52.  -7. -23.   4. -12. -17.  -4. -69. -35.]\n",
            "22\n"
          ],
          "name": "stdout"
        }
      ]
    }
  ]
}