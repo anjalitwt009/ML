{
  "nbformat": 4,
  "nbformat_minor": 0,
  "metadata": {
    "colab": {
      "name": "Ridge_Classifer.ipynb",
      "provenance": []
    },
    "kernelspec": {
      "name": "python3",
      "display_name": "Python 3"
    }
  },
  "cells": [
    {
      "cell_type": "code",
      "metadata": {
        "id": "Z-mmycGLAteE",
        "colab_type": "code",
        "colab": {}
      },
      "source": [
        "from sklearn.datasets import load_breast_cancer\n",
        "from sklearn.linear_model import RidgeClassifier"
      ],
      "execution_count": 1,
      "outputs": []
    },
    {
      "cell_type": "code",
      "metadata": {
        "id": "ZIuw9bxTA3PQ",
        "colab_type": "code",
        "colab": {
          "base_uri": "https://localhost:8080/",
          "height": 134
        },
        "outputId": "738c007e-6c1c-47d0-d6b3-f4727a14eeda"
      },
      "source": [
        "X, y = load_breast_cancer(return_X_y=True)\n",
        "clf = RidgeClassifier().fit(X, y)\n",
        "print(clf.score(X, y))\n",
        "print(clf.coef_)\n",
        "print(clf.intercept_)"
      ],
      "execution_count": 4,
      "outputs": [
        {
          "output_type": "stream",
          "text": [
            "0.9595782073813708\n",
            "[[ 0.35268349 -0.00505749 -0.00595843 -0.00229286 -0.32301781  0.1450938\n",
            "  -0.44452599 -0.58762052 -0.29333272 -0.01697518 -0.50099726 -0.034969\n",
            "   0.0064508   0.00135194 -0.11472171  0.20512017  0.51913817 -0.06221854\n",
            "  -0.0711072   0.01848259 -0.53031895 -0.01689908  0.00912682  0.00266\n",
            "  -0.75976844 -0.05717916 -0.63876249 -0.97916528 -0.7256207  -0.18483104]]\n",
            "[4.07924222]\n"
          ],
          "name": "stdout"
        }
      ]
    }
  ]
}