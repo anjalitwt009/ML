{
  "nbformat": 4,
  "nbformat_minor": 0,
  "metadata": {
    "colab": {
      "name": "PassiveAgressiveAlgorithmns.ipynb",
      "provenance": []
    },
    "kernelspec": {
      "name": "python3",
      "display_name": "Python 3"
    }
  },
  "cells": [
    {
      "cell_type": "code",
      "metadata": {
        "id": "ai7D5VvpC_fi",
        "colab_type": "code",
        "colab": {}
      },
      "source": [
        "from sklearn.linear_model import PassiveAggressiveRegressor\n",
        "from sklearn.datasets import make_regression"
      ],
      "execution_count": 0,
      "outputs": []
    },
    {
      "cell_type": "code",
      "metadata": {
        "id": "swSkAbHBEjV_",
        "colab_type": "code",
        "outputId": "ff23b9ae-77a7-49a7-e689-08e21e419650",
        "colab": {
          "base_uri": "https://localhost:8080/",
          "height": 101
        }
      },
      "source": [
        "X, y = make_regression(n_features=4, random_state=0)\n",
        "\n",
        "print(X.shape)\n",
        "\n",
        "print(y.shape)\n",
        "\n",
        "regr = PassiveAggressiveRegressor(max_iter=100, random_state=0,\n",
        "tol=1e-3)\n",
        "regr.fit(X, y)\n",
        "\n",
        "print(regr.coef_)\n",
        "\n",
        "print(regr.intercept_)\n",
        "\n",
        "print(regr.predict([[0, 0, 0, 0]]))"
      ],
      "execution_count": 0,
      "outputs": [
        {
          "output_type": "stream",
          "text": [
            "(100, 4)\n",
            "(100,)\n",
            "[20.48736655 34.18818427 67.59122734 87.94731329]\n",
            "[-0.02306214]\n",
            "[-0.02306214]\n"
          ],
          "name": "stdout"
        }
      ]
    }
  ]
}