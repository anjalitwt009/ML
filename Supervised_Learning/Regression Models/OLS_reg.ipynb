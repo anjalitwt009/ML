{
  "nbformat": 4,
  "nbformat_minor": 0,
  "metadata": {
    "colab": {
      "name": "OLS_reg.ipynb",
      "provenance": []
    },
    "kernelspec": {
      "name": "python3",
      "display_name": "Python 3"
    }
  },
  "cells": [
    {
      "cell_type": "code",
      "metadata": {
        "id": "UYk57k9P51cy",
        "colab_type": "code",
        "colab": {
          "base_uri": "https://localhost:8080/",
          "height": 70
        },
        "outputId": "ec4e0067-9b6b-43e5-b5b3-73339cc4dec6"
      },
      "source": [
        "import numpy as np\n",
        "import statsmodels.api as sm\n",
        "import matplotlib.pyplot as plt\n",
        "from statsmodels.sandbox.regression.predstd import wls_prediction_std\n",
        "\n",
        "np.random.seed(9876789)"
      ],
      "execution_count": null,
      "outputs": [
        {
          "output_type": "stream",
          "text": [
            "/usr/local/lib/python3.6/dist-packages/statsmodels/tools/_testing.py:19: FutureWarning: pandas.util.testing is deprecated. Use the functions in the public API at pandas.testing instead.\n",
            "  import pandas.util.testing as tm\n"
          ],
          "name": "stderr"
        }
      ]
    },
    {
      "cell_type": "code",
      "metadata": {
        "id": "CFP0QWae59Iu",
        "colab_type": "code",
        "colab": {}
      },
      "source": [
        "#OLS estimation\n",
        "nsample = 100\n",
        "x = np.linspace(0, 10, 100)\n",
        "X = np.column_stack((x, x**2))\n",
        "beta = np.array([1, 0.1, 10])\n",
        "e = np.random.normal(size=nsample)"
      ],
      "execution_count": null,
      "outputs": []
    },
    {
      "cell_type": "code",
      "metadata": {
        "id": "ljJ-ZU2A6Aih",
        "colab_type": "code",
        "colab": {
          "base_uri": "https://localhost:8080/",
          "height": 437
        },
        "outputId": "4e197821-c56d-47fb-fd3e-3a717c3f3cd0"
      },
      "source": [
        "X = sm.add_constant(X)\n",
        "y = np.dot(X, beta) + e\n",
        "y"
      ],
      "execution_count": null,
      "outputs": [
        {
          "output_type": "execute_result",
          "data": {
            "text/plain": [
              "array([1.59484106e-01, 2.70962667e+00, 1.89386568e+00, 1.44041774e+00,\n",
              "       5.60719622e+00, 4.01415960e+00, 3.79042816e+00, 5.49896267e+00,\n",
              "       7.93934063e+00, 9.31871940e+00, 1.16151797e+01, 1.30800908e+01,\n",
              "       1.65916731e+01, 1.90612419e+01, 2.22779839e+01, 2.22973772e+01,\n",
              "       2.90728303e+01, 2.95174936e+01, 3.43906010e+01, 3.68997190e+01,\n",
              "       4.15314299e+01, 4.65124798e+01, 4.87622029e+01, 5.54649378e+01,\n",
              "       6.03995721e+01, 6.68905550e+01, 7.10273234e+01, 7.57840504e+01,\n",
              "       8.32307851e+01, 8.80067872e+01, 9.24604592e+01, 1.00869036e+02,\n",
              "       1.05000770e+02, 1.13078878e+02, 1.18651097e+02, 1.26357451e+02,\n",
              "       1.32682080e+02, 1.39131512e+02, 1.47437302e+02, 1.56109386e+02,\n",
              "       1.64097051e+02, 1.73688174e+02, 1.81821259e+02, 1.88890813e+02,\n",
              "       1.99352099e+02, 2.10227715e+02, 2.16641136e+02, 2.28077202e+02,\n",
              "       2.37086627e+02, 2.45435044e+02, 2.56253216e+02, 2.66268455e+02,\n",
              "       2.77388427e+02, 2.88835852e+02, 2.97996070e+02, 3.11225764e+02,\n",
              "       3.20222632e+02, 3.34500736e+02, 3.44501923e+02, 3.54912182e+02,\n",
              "       3.69614763e+02, 3.79619250e+02, 3.91610439e+02, 4.07712238e+02,\n",
              "       4.19465289e+02, 4.32534578e+02, 4.46978741e+02, 4.59369684e+02,\n",
              "       4.72600426e+02, 4.86936696e+02, 5.01205937e+02, 5.16248974e+02,\n",
              "       5.30375416e+02, 5.46084472e+02, 5.62111718e+02, 5.75818401e+02,\n",
              "       5.89890017e+02, 6.05658290e+02, 6.21938723e+02, 6.38481747e+02,\n",
              "       6.54547765e+02, 6.72619064e+02, 6.88445270e+02, 7.04880480e+02,\n",
              "       7.20761701e+02, 7.40023290e+02, 7.56122969e+02, 7.75755497e+02,\n",
              "       7.90868951e+02, 8.10124196e+02, 8.27670766e+02, 8.46145961e+02,\n",
              "       8.67189694e+02, 8.84269551e+02, 9.02190720e+02, 9.23205757e+02,\n",
              "       9.44357509e+02, 9.60546815e+02, 9.82038002e+02, 1.00013685e+03])"
            ]
          },
          "metadata": {
            "tags": []
          },
          "execution_count": 3
        }
      ]
    },
    {
      "cell_type": "code",
      "metadata": {
        "id": "MVMU_5Vj6JYX",
        "colab_type": "code",
        "colab": {
          "base_uri": "https://localhost:8080/",
          "height": 454
        },
        "outputId": "af442011-46e2-4577-995b-b667da7b182e"
      },
      "source": [
        "model = sm.OLS(y, X)\n",
        "results = model.fit()\n",
        "print(results.summary())"
      ],
      "execution_count": null,
      "outputs": [
        {
          "output_type": "stream",
          "text": [
            "                            OLS Regression Results                            \n",
            "==============================================================================\n",
            "Dep. Variable:                      y   R-squared:                       1.000\n",
            "Model:                            OLS   Adj. R-squared:                  1.000\n",
            "Method:                 Least Squares   F-statistic:                 4.020e+06\n",
            "Date:                Sun, 05 Jul 2020   Prob (F-statistic):          2.83e-239\n",
            "Time:                        07:37:43   Log-Likelihood:                -146.51\n",
            "No. Observations:                 100   AIC:                             299.0\n",
            "Df Residuals:                      97   BIC:                             306.8\n",
            "Df Model:                           2                                         \n",
            "Covariance Type:            nonrobust                                         \n",
            "==============================================================================\n",
            "                 coef    std err          t      P>|t|      [0.025      0.975]\n",
            "------------------------------------------------------------------------------\n",
            "const          1.3423      0.313      4.292      0.000       0.722       1.963\n",
            "x1            -0.0402      0.145     -0.278      0.781      -0.327       0.247\n",
            "x2            10.0103      0.014    715.745      0.000       9.982      10.038\n",
            "==============================================================================\n",
            "Omnibus:                        2.042   Durbin-Watson:                   2.274\n",
            "Prob(Omnibus):                  0.360   Jarque-Bera (JB):                1.875\n",
            "Skew:                           0.234   Prob(JB):                        0.392\n",
            "Kurtosis:                       2.519   Cond. No.                         144.\n",
            "==============================================================================\n",
            "\n",
            "Warnings:\n",
            "[1] Standard Errors assume that the covariance matrix of the errors is correctly specified.\n"
          ],
          "name": "stdout"
        }
      ]
    },
    {
      "cell_type": "code",
      "metadata": {
        "id": "j0Bmtv0b6NfL",
        "colab_type": "code",
        "colab": {
          "base_uri": "https://localhost:8080/",
          "height": 50
        },
        "outputId": "c53d4724-02ac-49bd-d563-2fb837446c44"
      },
      "source": [
        "print('Parameters: ', results.params)\n",
        "print('R2: ', results.rsquared)"
      ],
      "execution_count": null,
      "outputs": [
        {
          "output_type": "stream",
          "text": [
            "Parameters:  [ 1.34233516 -0.04024948 10.01025357]\n",
            "R2:  0.9999879365025871\n"
          ],
          "name": "stdout"
        }
      ]
    },
    {
      "cell_type": "code",
      "metadata": {
        "id": "mD5kFtYA6SzT",
        "colab_type": "code",
        "colab": {}
      },
      "source": [
        "nsample = 50\n",
        "sig = 0.5\n",
        "x = np.linspace(0, 20, nsample)\n",
        "X = np.column_stack((x, np.sin(x), (x-5)**2, np.ones(nsample)))\n",
        "beta = [0.5, 0.5, -0.02, 5.]\n",
        "\n",
        "y_true = np.dot(X, beta)\n",
        "y = y_true + sig * np.random.normal(size=nsample)"
      ],
      "execution_count": null,
      "outputs": []
    },
    {
      "cell_type": "code",
      "metadata": {
        "id": "M8q2IOw36e4t",
        "colab_type": "code",
        "colab": {
          "base_uri": "https://localhost:8080/",
          "height": 470
        },
        "outputId": "9b73376d-7d00-449f-b360-926323065c97"
      },
      "source": [
        "res = sm.OLS(y, X).fit()\n",
        "print(res.summary())"
      ],
      "execution_count": null,
      "outputs": [
        {
          "output_type": "stream",
          "text": [
            "                            OLS Regression Results                            \n",
            "==============================================================================\n",
            "Dep. Variable:                      y   R-squared:                       0.938\n",
            "Model:                            OLS   Adj. R-squared:                  0.934\n",
            "Method:                 Least Squares   F-statistic:                     232.2\n",
            "Date:                Sun, 05 Jul 2020   Prob (F-statistic):           8.80e-28\n",
            "Time:                        07:38:59   Log-Likelihood:                -34.271\n",
            "No. Observations:                  50   AIC:                             76.54\n",
            "Df Residuals:                      46   BIC:                             84.19\n",
            "Df Model:                           3                                         \n",
            "Covariance Type:            nonrobust                                         \n",
            "==============================================================================\n",
            "                 coef    std err          t      P>|t|      [0.025      0.975]\n",
            "------------------------------------------------------------------------------\n",
            "x1             0.5233      0.026     19.886      0.000       0.470       0.576\n",
            "x2             0.3745      0.103      3.620      0.001       0.166       0.583\n",
            "x3            -0.0223      0.002     -9.669      0.000      -0.027      -0.018\n",
            "const          4.9109      0.171     28.778      0.000       4.567       5.254\n",
            "==============================================================================\n",
            "Omnibus:                        0.464   Durbin-Watson:                   2.618\n",
            "Prob(Omnibus):                  0.793   Jarque-Bera (JB):                0.616\n",
            "Skew:                          -0.128   Prob(JB):                        0.735\n",
            "Kurtosis:                       2.520   Cond. No.                         221.\n",
            "==============================================================================\n",
            "\n",
            "Warnings:\n",
            "[1] Standard Errors assume that the covariance matrix of the errors is correctly specified.\n"
          ],
          "name": "stdout"
        }
      ]
    },
    {
      "cell_type": "code",
      "metadata": {
        "id": "zaxIqyaK6lRu",
        "colab_type": "code",
        "colab": {
          "base_uri": "https://localhost:8080/",
          "height": 202
        },
        "outputId": "ac88ac53-fdeb-45eb-cd7d-11cb761c7401"
      },
      "source": [
        "print('Parameters: ', res.params)\n",
        "print('Standard errors: ', res.bse)\n",
        "print('Predicted values: ', res.predict())"
      ],
      "execution_count": null,
      "outputs": [
        {
          "output_type": "stream",
          "text": [
            "Parameters:  [ 0.52334809  0.37447144 -0.0223435   4.91092107]\n",
            "Standard errors:  [0.02631805 0.10345934 0.00231074 0.17064722]\n",
            "Predicted values:  [ 4.35233362  4.80205743  5.21991591  5.5855007   5.8857687   6.11718504\n",
            "  6.28630383  6.40869134  6.5063685   6.60419295  6.72577498  6.88959841\n",
            "  7.1059838   7.37539275  7.68835211  8.02701036  8.36807059  8.6866181\n",
            "  8.96021381  9.17258095  9.31627929  9.39392752  9.41777306  9.40767978\n",
            "  9.38786447  9.38291808  9.41376548  9.49422757  9.62875055  9.81167543\n",
            " 10.02816778 10.25665496 10.47237048 10.65142305 10.77472185 10.83111309\n",
            " 10.81921257 10.74763307 10.63356931 10.49997292 10.37178152 10.27182158\n",
            " 10.21705804 10.21580708 10.26636975 10.35731113 10.46933904 10.57847369\n",
            " 10.6599875  10.69246777]\n"
          ],
          "name": "stdout"
        }
      ]
    },
    {
      "cell_type": "code",
      "metadata": {
        "id": "0aG38Ai-6qLO",
        "colab_type": "code",
        "colab": {
          "base_uri": "https://localhost:8080/",
          "height": 374
        },
        "outputId": "0fbd456f-cd01-42d7-c8b3-1e748c8d5cde"
      },
      "source": [
        "#Draw a plot to compare the true relationship to OLS predictions. Confidence intervals around the \n",
        "#predictions are built using the wls_prediction_std command.\n",
        "prstd, iv_l, iv_u = wls_prediction_std(res)\n",
        "\n",
        "fig, ax = plt.subplots(figsize=(8,6))\n",
        "\n",
        "ax.plot(x, y, 'o', label=\"data\")\n",
        "ax.plot(x, y_true, 'b-', label=\"True\")\n",
        "ax.plot(x, res.fittedvalues, 'r--.', label=\"OLS\")\n",
        "ax.plot(x, iv_u, 'r--')\n",
        "ax.plot(x, iv_l, 'r--')\n",
        "ax.legend(loc='best');"
      ],
      "execution_count": null,
      "outputs": [
        {
          "output_type": "display_data",
          "data": {
            "image/png": "[encoded data removed]",
            "text/plain": [
              "<Figure size 576x432 with 1 Axes>"
            ]
          },
          "metadata": {
            "tags": [],
            "needs_background": "light"
          }
        }
      ]
    },
    {
      "cell_type": "code",
      "metadata": {
        "id": "RuoJ_ccy6sOC",
        "colab_type": "code",
        "colab": {
          "base_uri": "https://localhost:8080/",
          "height": 235
        },
        "outputId": "ce6d2405-3475-4139-dc4c-99ce9f3d5052"
      },
      "source": [
        "nsample = 50\n",
        "groups = np.zeros(nsample, int)\n",
        "groups[20:40] = 1\n",
        "groups[40:] = 2\n",
        "#dummy = (groups[:,None] == np.unique(groups)).astype(float)\n",
        "\n",
        "dummy = sm.categorical(groups, drop=True)\n",
        "x = np.linspace(0, 20, nsample)\n",
        "# drop reference category\n",
        "X = np.column_stack((x, dummy[:,1:]))\n",
        "X = sm.add_constant(X, prepend=False)\n",
        "\n",
        "beta = [1., 3, -3, 10]\n",
        "y_true = np.dot(X, beta)\n",
        "e = np.random.normal(size=nsample)\n",
        "y = y_true + e\n",
        "print(X[:5,:])\n",
        "print(y[:5])\n",
        "print(groups)\n",
        "print(dummy[:5,:])"
      ],
      "execution_count": null,
      "outputs": [
        {
          "output_type": "stream",
          "text": [
            "[[0.         0.         0.         1.        ]\n",
            " [0.40816327 0.         0.         1.        ]\n",
            " [0.81632653 0.         0.         1.        ]\n",
            " [1.2244898  0.         0.         1.        ]\n",
            " [1.63265306 0.         0.         1.        ]]\n",
            "[ 9.36492787 10.5737534   9.33342616  9.73817365  9.75663622]\n",
            "[0 0 0 0 0 0 0 0 0 0 0 0 0 0 0 0 0 0 0 0 1 1 1 1 1 1 1 1 1 1 1 1 1 1 1 1 1\n",
            " 1 1 1 2 2 2 2 2 2 2 2 2 2]\n",
            "[[1. 0. 0.]\n",
            " [1. 0. 0.]\n",
            " [1. 0. 0.]\n",
            " [1. 0. 0.]\n",
            " [1. 0. 0.]]\n"
          ],
          "name": "stdout"
        }
      ]
    },
    {
      "cell_type": "code",
      "metadata": {
        "id": "cs0BQa9z7JaI",
        "colab_type": "code",
        "colab": {
          "base_uri": "https://localhost:8080/",
          "height": 470
        },
        "outputId": "ab5e1cb7-4994-4524-b7f2-3d7946c06d0d"
      },
      "source": [
        "res2 = sm.OLS(y, X).fit()\n",
        "print(res2.summary())"
      ],
      "execution_count": null,
      "outputs": [
        {
          "output_type": "stream",
          "text": [
            "                            OLS Regression Results                            \n",
            "==============================================================================\n",
            "Dep. Variable:                      y   R-squared:                       0.975\n",
            "Model:                            OLS   Adj. R-squared:                  0.973\n",
            "Method:                 Least Squares   F-statistic:                     586.7\n",
            "Date:                Sun, 05 Jul 2020   Prob (F-statistic):           1.18e-36\n",
            "Time:                        07:42:06   Log-Likelihood:                -68.316\n",
            "No. Observations:                  50   AIC:                             144.6\n",
            "Df Residuals:                      46   BIC:                             152.3\n",
            "Df Model:                           3                                         \n",
            "Covariance Type:            nonrobust                                         \n",
            "==============================================================================\n",
            "                 coef    std err          t      P>|t|      [0.025      0.975]\n",
            "------------------------------------------------------------------------------\n",
            "x1             1.0509      0.064     16.299      0.000       0.921       1.181\n",
            "x2             2.4434      0.612      3.991      0.000       1.211       3.676\n",
            "x3            -3.9417      0.998     -3.951      0.000      -5.950      -1.934\n",
            "const          9.7882      0.334     29.322      0.000       9.116      10.460\n",
            "==============================================================================\n",
            "Omnibus:                        1.312   Durbin-Watson:                   1.951\n",
            "Prob(Omnibus):                  0.519   Jarque-Bera (JB):                0.752\n",
            "Skew:                           0.287   Prob(JB):                        0.687\n",
            "Kurtosis:                       3.174   Cond. No.                         96.3\n",
            "==============================================================================\n",
            "\n",
            "Warnings:\n",
            "[1] Standard Errors assume that the covariance matrix of the errors is correctly specified.\n"
          ],
          "name": "stdout"
        }
      ]
    },
    {
      "cell_type": "code",
      "metadata": {
        "id": "qFBUxdDf7Nn8",
        "colab_type": "code",
        "colab": {
          "base_uri": "https://localhost:8080/",
          "height": 374
        },
        "outputId": "0713c10c-2d0e-4f5d-d500-31f5e70739bd"
      },
      "source": [
        "prstd, iv_l, iv_u = wls_prediction_std(res2)\n",
        "\n",
        "fig, ax = plt.subplots(figsize=(8,6))\n",
        "\n",
        "ax.plot(x, y, 'o', label=\"Data\")\n",
        "ax.plot(x, y_true, 'b-', label=\"True\")\n",
        "ax.plot(x, res2.fittedvalues, 'r--.', label=\"Predicted\")\n",
        "ax.plot(x, iv_u, 'r--')\n",
        "ax.plot(x, iv_l, 'r--')\n",
        "legend = ax.legend(loc=\"best\")"
      ],
      "execution_count": null,
      "outputs": [
        {
          "output_type": "display_data",
          "data": {
            "image/png": "[encoded data removed]",
            "text/plain": [
              "<Figure size 576x432 with 1 Axes>"
            ]
          },
          "metadata": {
            "tags": [],
            "needs_background": "light"
          }
        }
      ]
    },
    {
      "cell_type": "code",
      "metadata": {
        "id": "AJ6vCi5L7SG6",
        "colab_type": "code",
        "colab": {
          "base_uri": "https://localhost:8080/",
          "height": 67
        },
        "outputId": "261950bc-dcc6-4a6e-871d-d372a2baf561"
      },
      "source": [
        "R = [[0, 1, 0, 0], [0, 0, 1, 0]]\n",
        "print(np.array(R))\n",
        "print(res2.f_test(R))"
      ],
      "execution_count": null,
      "outputs": [
        {
          "output_type": "stream",
          "text": [
            "[[0 1 0 0]\n",
            " [0 0 1 0]]\n",
            "<F test: F=array([[124.98895964]]), p=2.5378499161315817e-19, df_denom=46, df_num=2>\n"
          ],
          "name": "stdout"
        }
      ]
    },
    {
      "cell_type": "code",
      "metadata": {
        "id": "LglxkNPH7ajq",
        "colab_type": "code",
        "colab": {
          "base_uri": "https://localhost:8080/",
          "height": 34
        },
        "outputId": "57c57c78-686a-4801-bdc6-9bddbb8ffc67"
      },
      "source": [
        "print(res2.f_test(\"x2 = x3 = 0\"))"
      ],
      "execution_count": null,
      "outputs": [
        {
          "output_type": "stream",
          "text": [
            "<F test: F=array([[124.98895964]]), p=2.537849916131655e-19, df_denom=46, df_num=2>\n"
          ],
          "name": "stdout"
        }
      ]
    },
    {
      "cell_type": "code",
      "metadata": {
        "id": "JaFn1Pr27e6u",
        "colab_type": "code",
        "colab": {}
      },
      "source": [
        "beta = [1., 0.3, -0.0, 10]\n",
        "y_true = np.dot(X, beta)\n",
        "y = y_true + np.random.normal(size=nsample)\n",
        "\n",
        "res3 = sm.OLS(y, X).fit()"
      ],
      "execution_count": null,
      "outputs": []
    },
    {
      "cell_type": "code",
      "metadata": {
        "id": "hkpNUEgw7lfD",
        "colab_type": "code",
        "colab": {
          "base_uri": "https://localhost:8080/",
          "height": 50
        },
        "outputId": "230ba60a-7048-43d7-e5d1-584e6404175c"
      },
      "source": [
        "print(res3.f_test(R))\n",
        "print(res3.f_test(\"x2 = x3 = 0\"))"
      ],
      "execution_count": null,
      "outputs": [
        {
          "output_type": "stream",
          "text": [
            "<F test: F=array([[0.26285274]]), p=0.7700020528761167, df_denom=46, df_num=2>\n",
            "<F test: F=array([[0.26285274]]), p=0.7700020528761167, df_denom=46, df_num=2>\n"
          ],
          "name": "stdout"
        }
      ]
    },
    {
      "cell_type": "code",
      "metadata": {
        "id": "45NKOf497rPe",
        "colab_type": "code",
        "colab": {}
      },
      "source": [
        "from statsmodels.datasets.longley import load_pandas\n",
        "y = load_pandas().endog\n",
        "X = load_pandas().exog\n",
        "X = sm.add_constant(X)"
      ],
      "execution_count": null,
      "outputs": []
    },
    {
      "cell_type": "code",
      "metadata": {
        "id": "AeLrjaSB70ld",
        "colab_type": "code",
        "colab": {
          "base_uri": "https://localhost:8080/",
          "height": 588
        },
        "outputId": "49b823f9-bcc8-40ff-a7ea-214fcc04b004"
      },
      "source": [
        "ols_model = sm.OLS(y, X)\n",
        "ols_results = ols_model.fit()\n",
        "print(ols_results.summary())"
      ],
      "execution_count": null,
      "outputs": [
        {
          "output_type": "stream",
          "text": [
            "                            OLS Regression Results                            \n",
            "==============================================================================\n",
            "Dep. Variable:                 TOTEMP   R-squared:                       0.995\n",
            "Model:                            OLS   Adj. R-squared:                  0.992\n",
            "Method:                 Least Squares   F-statistic:                     330.3\n",
            "Date:                Sun, 05 Jul 2020   Prob (F-statistic):           4.98e-10\n",
            "Time:                        07:44:57   Log-Likelihood:                -109.62\n",
            "No. Observations:                  16   AIC:                             233.2\n",
            "Df Residuals:                       9   BIC:                             238.6\n",
            "Df Model:                           6                                         \n",
            "Covariance Type:            nonrobust                                         \n",
            "==============================================================================\n",
            "                 coef    std err          t      P>|t|      [0.025      0.975]\n",
            "------------------------------------------------------------------------------\n",
            "const      -3.482e+06    8.9e+05     -3.911      0.004    -5.5e+06   -1.47e+06\n",
            "GNPDEFL       15.0619     84.915      0.177      0.863    -177.029     207.153\n",
            "GNP           -0.0358      0.033     -1.070      0.313      -0.112       0.040\n",
            "UNEMP         -2.0202      0.488     -4.136      0.003      -3.125      -0.915\n",
            "ARMED         -1.0332      0.214     -4.822      0.001      -1.518      -0.549\n",
            "POP           -0.0511      0.226     -0.226      0.826      -0.563       0.460\n",
            "YEAR        1829.1515    455.478      4.016      0.003     798.788    2859.515\n",
            "==============================================================================\n",
            "Omnibus:                        0.749   Durbin-Watson:                   2.559\n",
            "Prob(Omnibus):                  0.688   Jarque-Bera (JB):                0.684\n",
            "Skew:                           0.420   Prob(JB):                        0.710\n",
            "Kurtosis:                       2.434   Cond. No.                     4.86e+09\n",
            "==============================================================================\n",
            "\n",
            "Warnings:\n",
            "[1] Standard Errors assume that the covariance matrix of the errors is correctly specified.\n",
            "[2] The condition number is large, 4.86e+09. This might indicate that there are\n",
            "strong multicollinearity or other numerical problems.\n"
          ],
          "name": "stdout"
        },
        {
          "output_type": "stream",
          "text": [
            "/usr/local/lib/python3.6/dist-packages/scipy/stats/stats.py:1535: UserWarning: kurtosistest only valid for n>=20 ... continuing anyway, n=16\n",
            "  \"anyway, n=%i\" % int(n))\n"
          ],
          "name": "stderr"
        }
      ]
    },
    {
      "cell_type": "code",
      "metadata": {
        "id": "4tAKFT8h73PF",
        "colab_type": "code",
        "colab": {}
      },
      "source": [
        "norm_x = X.values\n",
        "for i, name in enumerate(X):\n",
        "    if name == \"const\":\n",
        "        continue\n",
        "    norm_x[:,i] = X[name]/np.linalg.norm(X[name])\n",
        "norm_xtx = np.dot(norm_x.T,norm_x)"
      ],
      "execution_count": null,
      "outputs": []
    },
    {
      "cell_type": "code",
      "metadata": {
        "id": "ECIVkR4G79as",
        "colab_type": "code",
        "colab": {
          "base_uri": "https://localhost:8080/",
          "height": 34
        },
        "outputId": "86c8df69-9568-4b09-c994-e3ec05e9ccfe"
      },
      "source": [
        "eigs = np.linalg.eigvals(norm_xtx)\n",
        "condition_number = np.sqrt(eigs.max() / eigs.min())\n",
        "print(condition_number)"
      ],
      "execution_count": null,
      "outputs": [
        {
          "output_type": "stream",
          "text": [
            "56240.87037739987\n"
          ],
          "name": "stdout"
        }
      ]
    },
    {
      "cell_type": "code",
      "metadata": {
        "id": "mWY3VMdR8AdB",
        "colab_type": "code",
        "colab": {
          "base_uri": "https://localhost:8080/",
          "height": 151
        },
        "outputId": "bf5fbba8-e25f-47db-a2fa-501ea6205c49"
      },
      "source": [
        "ols_results2 = sm.OLS(y.iloc[:14], X.iloc[:14]).fit()\n",
        "print(\"Percentage change %4.2f%%\\n\"*7 % tuple([i for i in (ols_results2.params - ols_results.params)/ols_results.params*100]))"
      ],
      "execution_count": null,
      "outputs": [
        {
          "output_type": "stream",
          "text": [
            "Percentage change 4.55%\n",
            "Percentage change -2228.01%\n",
            "Percentage change 154304695.31%\n",
            "Percentage change 1366329.02%\n",
            "Percentage change 1112549.36%\n",
            "Percentage change 92708715.91%\n",
            "Percentage change 817944.26%\n",
            "\n"
          ],
          "name": "stdout"
        }
      ]
    },
    {
      "cell_type": "code",
      "metadata": {
        "id": "zW6lSfFj8G8k",
        "colab_type": "code",
        "colab": {}
      },
      "source": [
        "infl = ols_results.get_influence()"
      ],
      "execution_count": null,
      "outputs": []
    },
    {
      "cell_type": "code",
      "metadata": {
        "id": "MqqzP3v_8J2W",
        "colab_type": "code",
        "colab": {
          "base_uri": "https://localhost:8080/",
          "height": 538
        },
        "outputId": "0dcdf476-d5e1-43aa-a63c-88f061fcd79e"
      },
      "source": [
        "2./len(X)**.5\n",
        "print(infl.summary_frame().filter(regex=\"dfb\"))"
      ],
      "execution_count": null,
      "outputs": [
        {
          "output_type": "stream",
          "text": [
            "    dfb_const  dfb_GNPDEFL  ...        dfb_POP      dfb_YEAR\n",
            "0   -0.016406  -169.822675  ...  207954.113589 -31969.158503\n",
            "1   -0.020608  -187.251727  ...   25343.938290 -29760.155888\n",
            "2   -0.008382   -65.417834  ...  107465.770565 -29593.195253\n",
            "3    0.018093   288.503914  ...  456190.215133 -36213.129569\n",
            "4    1.871260  -171.109595  ... -389122.401699 -49905.782854\n",
            "5   -0.321373  -104.123822  ...  144354.586054 -28985.057609\n",
            "6    0.315945  -169.413317  ... -107413.074918 -32984.462465\n",
            "7    0.015816   -69.343793  ...   92843.959345 -29724.975873\n",
            "8   -0.004019   -86.903523  ...   83931.635336 -29563.619222\n",
            "9   -1.018242  -201.315802  ...   18392.575057 -29203.217108\n",
            "10   0.030947   -78.359439  ...   93617.648517 -29846.022426\n",
            "11   0.005987  -100.926843  ...   95414.217290 -29690.904188\n",
            "12  -0.135883   -32.093127  ...  258559.048569 -29296.334617\n",
            "13   0.032736   -78.513866  ...  104434.061226 -30025.564763\n",
            "14   0.305868   -16.833121  ...  275103.677859 -36060.612522\n",
            "15  -0.538323   102.027105  ... -110176.960671 -28053.834556\n",
            "\n",
            "[16 rows x 7 columns]\n"
          ],
          "name": "stdout"
        },
        {
          "output_type": "stream",
          "text": [
            "/usr/local/lib/python3.6/dist-packages/statsmodels/stats/outliers_influence.py:695: RuntimeWarning: invalid value encountered in sqrt\n",
            "  return self.resid / sigma / np.sqrt(1 - hii)\n",
            "/usr/local/lib/python3.6/dist-packages/scipy/stats/_distn_infrastructure.py:903: RuntimeWarning: invalid value encountered in greater\n",
            "  return (a < x) & (x < b)\n",
            "/usr/local/lib/python3.6/dist-packages/scipy/stats/_distn_infrastructure.py:903: RuntimeWarning: invalid value encountered in less\n",
            "  return (a < x) & (x < b)\n",
            "/usr/local/lib/python3.6/dist-packages/scipy/stats/_distn_infrastructure.py:1912: RuntimeWarning: invalid value encountered in less_equal\n",
            "  cond2 = cond0 & (x <= _a)\n",
            "/usr/local/lib/python3.6/dist-packages/statsmodels/stats/outliers_influence.py:729: RuntimeWarning: invalid value encountered in sqrt\n",
            "  dffits_ = self.resid_studentized_internal * np.sqrt(hii / (1 - hii))\n",
            "/usr/local/lib/python3.6/dist-packages/statsmodels/stats/outliers_influence.py:758: RuntimeWarning: invalid value encountered in sqrt\n",
            "  dffits_ = self.resid_studentized_external * np.sqrt(hii / (1 - hii))\n"
          ],
          "name": "stderr"
        }
      ]
    }
  ]
}