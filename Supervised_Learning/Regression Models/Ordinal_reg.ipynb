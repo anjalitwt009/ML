{
  "nbformat": 4,
  "nbformat_minor": 0,
  "metadata": {
    "colab": {
      "name": "Ordinal_reg.ipynb",
      "provenance": []
    },
    "kernelspec": {
      "name": "python3",
      "display_name": "Python 3"
    }
  },
  "cells": [
    {
      "cell_type": "code",
      "metadata": {
        "id": "8QH68zkZJWQH",
        "colab_type": "code",
        "colab": {
          "base_uri": "https://localhost:8080/",
          "height": 34
        },
        "outputId": "fa40f1ca-949a-46a2-c773-6864d2bf95c8"
      },
      "source": [
        "!pip install mord\n",
        "import mord\n",
        "import numpy as np\n",
        "\n",
        "X = np.array([[-1, -1], [-2, -1], [-3, -2], [1, 1], [2, 1], [3, 2]])\n",
        "y = np.array([1, 1, 1, 2, 2, 2])"
      ],
      "execution_count": null,
      "outputs": [
        {
          "output_type": "stream",
          "text": [
            "Requirement already satisfied: mord in /usr/local/lib/python3.6/dist-packages (0.6)\n"
          ],
          "name": "stdout"
        }
      ]
    },
    {
      "cell_type": "code",
      "metadata": {
        "id": "oFIkqYQnKiou",
        "colab_type": "code",
        "colab": {
          "base_uri": "https://localhost:8080/",
          "height": 50
        },
        "outputId": "1fda42ff-60c6-4a2f-ac1e-473115c37e0d"
      },
      "source": [
        "mul_lr = mord.OrdinalRidge(alpha=0.001,fit_intercept=True,normalize=False,\n",
        " \t\t\t\t\t\t\tcopy_X=True,max_iter=None, tol=0.001,\n",
        " \t\t\t\t\t\t\tsolver='auto').fit(X,y)\n",
        "mul_lr.predict(X)\n",
        "print(mul_lr.coef_)\n",
        "print(mul_lr.intercept_)"
      ],
      "execution_count": null,
      "outputs": [
        {
          "output_type": "stream",
          "text": [
            "[0.00049834 0.33255811]\n",
            "1.5\n"
          ],
          "name": "stdout"
        }
      ]
    },
    {
      "cell_type": "code",
      "metadata": {
        "id": "VHev2KEPPo8D",
        "colab_type": "code",
        "colab": {
          "base_uri": "https://localhost:8080/",
          "height": 104
        },
        "outputId": "47e42918-2ede-4981-d81b-b539d53e4a2e"
      },
      "source": [
        "mul_lr = mord.LAD(epsilon=0.0, tol=0.0001, C=1.0, loss='l1', fit_intercept=True, intercept_scaling=1.0,\n",
        "                  dual=True, verbose=0, random_state=None, max_iter=1000).fit(X,y)\n",
        "mul_lr.predict(X)\n",
        "print(mul_lr.coef_)\n",
        "print(mul_lr.intercept_)"
      ],
      "execution_count": null,
      "outputs": [
        {
          "output_type": "stream",
          "text": [
            "[0.02862274 0.28571429]\n",
            "[1.34270322]\n"
          ],
          "name": "stdout"
        },
        {
          "output_type": "stream",
          "text": [
            "/usr/local/lib/python3.6/dist-packages/sklearn/svm/_classes.py:417: FutureWarning: loss='l1' has been deprecated in favor of loss='epsilon_insensitive' as of 0.16. Backward compatibility for the loss='l1' will be removed in 0.23\n",
            "  FutureWarning)\n"
          ],
          "name": "stderr"
        }
      ]
    },
    {
      "cell_type": "code",
      "metadata": {
        "id": "7qXV2XPEQBhm",
        "colab_type": "code",
        "colab": {
          "base_uri": "https://localhost:8080/",
          "height": 50
        },
        "outputId": "2f3ff50e-9f34-40ef-9144-e4f6273be4a1"
      },
      "source": [
        "import sklearn\n",
        "from sklearn import linear_model\n",
        "mul_lr = linear_model.LogisticRegression(multi_class='multinomial',\n",
        "        solver='newton-cg',fit_intercept=True).fit(X, y)\n",
        "mul_lr.predict(X)\n",
        "print(mul_lr.coef_)\n",
        "print(mul_lr.intercept_)"
      ],
      "execution_count": null,
      "outputs": [
        {
          "output_type": "stream",
          "text": [
            "[[0.52534532 0.40554111]]\n",
            "[2.87930427e-16]\n"
          ],
          "name": "stdout"
        }
      ]
    }
  ]
}