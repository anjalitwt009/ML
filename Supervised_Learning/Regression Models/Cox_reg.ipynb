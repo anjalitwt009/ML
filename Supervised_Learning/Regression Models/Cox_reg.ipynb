{
  "nbformat": 4,
  "nbformat_minor": 0,
  "metadata": {
    "colab": {
      "name": "Cox_reg.ipynb",
      "provenance": []
    },
    "kernelspec": {
      "name": "python3",
      "display_name": "Python 3"
    }
  },
  "cells": [
    {
      "cell_type": "code",
      "metadata": {
        "id": "sAZBi9Y77pC-",
        "colab_type": "code",
        "colab": {
          "base_uri": "https://localhost:8080/",
          "height": 929
        },
        "outputId": "d704cace-3c22-45e9-f1ac-1f8239de111d"
      },
      "source": [
        "!pip install lifelines\n",
        "from lifelines import CoxPHFitter\n",
        "from lifelines.datasets import load_rossi\n",
        "\n",
        "rossi_dataset = load_rossi()\n",
        "\n",
        "cph = CoxPHFitter()\n",
        "cph.fit(rossi_dataset, duration_col='week', event_col='arrest')\n",
        "\n",
        "cph.print_summary()"
      ],
      "execution_count": null,
      "outputs": [
        {
          "output_type": "stream",
          "text": [
            "Collecting lifelines\n",
            "\u001b[?25l  Downloading https://files.pythonhosted.org/packages/8b/9d/03bafb2c77401adc3f341812325b52115c20cc8b448d975cc04d58515d2a/lifelines-0.24.16-py3-none-any.whl (340kB)\n",
            "\r\u001b[K     |█                               | 10kB 16.8MB/s eta 0:00:01\r\u001b[K     |██                              | 20kB 1.7MB/s eta 0:00:01\r\u001b[K     |███                             | 30kB 2.2MB/s eta 0:00:01\r\u001b[K     |███▉                            | 40kB 2.6MB/s eta 0:00:01\r\u001b[K     |████▉                           | 51kB 2.0MB/s eta 0:00:01\r\u001b[K     |█████▉                          | 61kB 2.3MB/s eta 0:00:01\r\u001b[K     |██████▊                         | 71kB 2.6MB/s eta 0:00:01\r\u001b[K     |███████▊                        | 81kB 2.8MB/s eta 0:00:01\r\u001b[K     |████████▊                       | 92kB 2.9MB/s eta 0:00:01\r\u001b[K     |█████████▋                      | 102kB 2.8MB/s eta 0:00:01\r\u001b[K     |██████████▋                     | 112kB 2.8MB/s eta 0:00:01\r\u001b[K     |███████████▋                    | 122kB 2.8MB/s eta 0:00:01\r\u001b[K     |████████████▌                   | 133kB 2.8MB/s eta 0:00:01\r\u001b[K     |█████████████▌                  | 143kB 2.8MB/s eta 0:00:01\r\u001b[K     |██████████████▌                 | 153kB 2.8MB/s eta 0:00:01\r\u001b[K     |███████████████▍                | 163kB 2.8MB/s eta 0:00:01\r\u001b[K     |████████████████▍               | 174kB 2.8MB/s eta 0:00:01\r\u001b[K     |█████████████████▍              | 184kB 2.8MB/s eta 0:00:01\r\u001b[K     |██████████████████▎             | 194kB 2.8MB/s eta 0:00:01\r\u001b[K     |███████████████████▎            | 204kB 2.8MB/s eta 0:00:01\r\u001b[K     |████████████████████▎           | 215kB 2.8MB/s eta 0:00:01\r\u001b[K     |█████████████████████▏          | 225kB 2.8MB/s eta 0:00:01\r\u001b[K     |██████████████████████▏         | 235kB 2.8MB/s eta 0:00:01\r\u001b[K     |███████████████████████▏        | 245kB 2.8MB/s eta 0:00:01\r\u001b[K     |████████████████████████        | 256kB 2.8MB/s eta 0:00:01\r\u001b[K     |█████████████████████████       | 266kB 2.8MB/s eta 0:00:01\r\u001b[K     |██████████████████████████      | 276kB 2.8MB/s eta 0:00:01\r\u001b[K     |███████████████████████████     | 286kB 2.8MB/s eta 0:00:01\r\u001b[K     |████████████████████████████    | 296kB 2.8MB/s eta 0:00:01\r\u001b[K     |█████████████████████████████   | 307kB 2.8MB/s eta 0:00:01\r\u001b[K     |█████████████████████████████▉  | 317kB 2.8MB/s eta 0:00:01\r\u001b[K     |██████████████████████████████▉ | 327kB 2.8MB/s eta 0:00:01\r\u001b[K     |███████████████████████████████▉| 337kB 2.8MB/s eta 0:00:01\r\u001b[K     |████████████████████████████████| 348kB 2.8MB/s \n",
            "\u001b[?25hRequirement already satisfied: numpy>=1.14.0 in /usr/local/lib/python3.6/dist-packages (from lifelines) (1.18.5)\n",
            "Requirement already satisfied: autograd>=1.3 in /usr/local/lib/python3.6/dist-packages (from lifelines) (1.3)\n",
            "Collecting autograd-gamma>=0.3\n",
            "  Downloading https://files.pythonhosted.org/packages/0a/07/d99339c9420b58b723a9189d1373e5c3889758b2202a1a7fe4a3b7a10c5a/autograd_gamma-0.4.2-py2.py3-none-any.whl\n",
            "Requirement already satisfied: pandas>=0.23.0 in /usr/local/lib/python3.6/dist-packages (from lifelines) (1.0.5)\n",
            "Requirement already satisfied: matplotlib>=3.0 in /usr/local/lib/python3.6/dist-packages (from lifelines) (3.2.2)\n",
            "Requirement already satisfied: scipy>=1.2.0 in /usr/local/lib/python3.6/dist-packages (from lifelines) (1.4.1)\n",
            "Requirement already satisfied: future>=0.15.2 in /usr/local/lib/python3.6/dist-packages (from autograd>=1.3->lifelines) (0.16.0)\n",
            "Requirement already satisfied: pytz>=2017.2 in /usr/local/lib/python3.6/dist-packages (from pandas>=0.23.0->lifelines) (2018.9)\n",
            "Requirement already satisfied: python-dateutil>=2.6.1 in /usr/local/lib/python3.6/dist-packages (from pandas>=0.23.0->lifelines) (2.8.1)\n",
            "Requirement already satisfied: cycler>=0.10 in /usr/local/lib/python3.6/dist-packages (from matplotlib>=3.0->lifelines) (0.10.0)\n",
            "Requirement already satisfied: kiwisolver>=1.0.1 in /usr/local/lib/python3.6/dist-packages (from matplotlib>=3.0->lifelines) (1.2.0)\n",
            "Requirement already satisfied: pyparsing!=2.0.4,!=2.1.2,!=2.1.6,>=2.0.1 in /usr/local/lib/python3.6/dist-packages (from matplotlib>=3.0->lifelines) (2.4.7)\n",
            "Requirement already satisfied: six>=1.5 in /usr/local/lib/python3.6/dist-packages (from python-dateutil>=2.6.1->pandas>=0.23.0->lifelines) (1.12.0)\n",
            "Installing collected packages: autograd-gamma, lifelines\n",
            "Successfully installed autograd-gamma-0.4.2 lifelines-0.24.16\n"
          ],
          "name": "stdout"
        },
        {
          "output_type": "display_data",
          "data": {
            "text/html": [
              "<div>\n",
              "<style scoped>\n",
              "    .dataframe tbody tr th:only-of-type {\n",
              "        vertical-align: middle;\n",
              "    }\n",
              "\n",
              "    .dataframe tbody tr th {\n",
              "        vertical-align: top;\n",
              "    }\n",
              "\n",
              "    .dataframe thead th {\n",
              "        text-align: right;\n",
              "    }\n",
              "</style>\n",
              "<table border=\"1\" class=\"dataframe\">\n",
              "  <tbody>\n",
              "    <tr>\n",
              "      <th>model</th>\n",
              "      <td>lifelines.CoxPHFitter</td>\n",
              "    </tr>\n",
              "    <tr>\n",
              "      <th>duration col</th>\n",
              "      <td>'week'</td>\n",
              "    </tr>\n",
              "    <tr>\n",
              "      <th>event col</th>\n",
              "      <td>'arrest'</td>\n",
              "    </tr>\n",
              "    <tr>\n",
              "      <th>baseline estimation</th>\n",
              "      <td>breslow</td>\n",
              "    </tr>\n",
              "    <tr>\n",
              "      <th>number of observations</th>\n",
              "      <td>432</td>\n",
              "    </tr>\n",
              "    <tr>\n",
              "      <th>number of events observed</th>\n",
              "      <td>114</td>\n",
              "    </tr>\n",
              "    <tr>\n",
              "      <th>partial log-likelihood</th>\n",
              "      <td>-658.75</td>\n",
              "    </tr>\n",
              "    <tr>\n",
              "      <th>time fit was run</th>\n",
              "      <td>2020-07-15 14:48:11 UTC</td>\n",
              "    </tr>\n",
              "  </tbody>\n",
              "</table>\n",
              "</div><table border=\"1\" class=\"dataframe\">\n",
              "  <thead>\n",
              "    <tr style=\"text-align: right;\">\n",
              "      <th></th>\n",
              "      <th>coef</th>\n",
              "      <th>exp(coef)</th>\n",
              "      <th>se(coef)</th>\n",
              "      <th>coef lower 95%</th>\n",
              "      <th>coef upper 95%</th>\n",
              "      <th>exp(coef) lower 95%</th>\n",
              "      <th>exp(coef) upper 95%</th>\n",
              "      <th>z</th>\n",
              "      <th>p</th>\n",
              "      <th>-log2(p)</th>\n",
              "    </tr>\n",
              "  </thead>\n",
              "  <tbody>\n",
              "    <tr>\n",
              "      <th>fin</th>\n",
              "      <td>-0.38</td>\n",
              "      <td>0.68</td>\n",
              "      <td>0.19</td>\n",
              "      <td>-0.75</td>\n",
              "      <td>-0.00</td>\n",
              "      <td>0.47</td>\n",
              "      <td>1.00</td>\n",
              "      <td>-1.98</td>\n",
              "      <td>0.05</td>\n",
              "      <td>4.40</td>\n",
              "    </tr>\n",
              "    <tr>\n",
              "      <th>age</th>\n",
              "      <td>-0.06</td>\n",
              "      <td>0.94</td>\n",
              "      <td>0.02</td>\n",
              "      <td>-0.10</td>\n",
              "      <td>-0.01</td>\n",
              "      <td>0.90</td>\n",
              "      <td>0.99</td>\n",
              "      <td>-2.61</td>\n",
              "      <td>0.01</td>\n",
              "      <td>6.79</td>\n",
              "    </tr>\n",
              "    <tr>\n",
              "      <th>race</th>\n",
              "      <td>0.31</td>\n",
              "      <td>1.37</td>\n",
              "      <td>0.31</td>\n",
              "      <td>-0.29</td>\n",
              "      <td>0.92</td>\n",
              "      <td>0.75</td>\n",
              "      <td>2.50</td>\n",
              "      <td>1.02</td>\n",
              "      <td>0.31</td>\n",
              "      <td>1.70</td>\n",
              "    </tr>\n",
              "    <tr>\n",
              "      <th>wexp</th>\n",
              "      <td>-0.15</td>\n",
              "      <td>0.86</td>\n",
              "      <td>0.21</td>\n",
              "      <td>-0.57</td>\n",
              "      <td>0.27</td>\n",
              "      <td>0.57</td>\n",
              "      <td>1.30</td>\n",
              "      <td>-0.71</td>\n",
              "      <td>0.48</td>\n",
              "      <td>1.06</td>\n",
              "    </tr>\n",
              "    <tr>\n",
              "      <th>mar</th>\n",
              "      <td>-0.43</td>\n",
              "      <td>0.65</td>\n",
              "      <td>0.38</td>\n",
              "      <td>-1.18</td>\n",
              "      <td>0.31</td>\n",
              "      <td>0.31</td>\n",
              "      <td>1.37</td>\n",
              "      <td>-1.14</td>\n",
              "      <td>0.26</td>\n",
              "      <td>1.97</td>\n",
              "    </tr>\n",
              "    <tr>\n",
              "      <th>paro</th>\n",
              "      <td>-0.08</td>\n",
              "      <td>0.92</td>\n",
              "      <td>0.20</td>\n",
              "      <td>-0.47</td>\n",
              "      <td>0.30</td>\n",
              "      <td>0.63</td>\n",
              "      <td>1.35</td>\n",
              "      <td>-0.43</td>\n",
              "      <td>0.66</td>\n",
              "      <td>0.59</td>\n",
              "    </tr>\n",
              "    <tr>\n",
              "      <th>prio</th>\n",
              "      <td>0.09</td>\n",
              "      <td>1.10</td>\n",
              "      <td>0.03</td>\n",
              "      <td>0.04</td>\n",
              "      <td>0.15</td>\n",
              "      <td>1.04</td>\n",
              "      <td>1.16</td>\n",
              "      <td>3.19</td>\n",
              "      <td>&lt;0.005</td>\n",
              "      <td>9.48</td>\n",
              "    </tr>\n",
              "  </tbody>\n",
              "</table><div>\n",
              "<style scoped>\n",
              "    .dataframe tbody tr th:only-of-type {\n",
              "        vertical-align: middle;\n",
              "    }\n",
              "\n",
              "    .dataframe tbody tr th {\n",
              "        vertical-align: top;\n",
              "    }\n",
              "\n",
              "    .dataframe thead th {\n",
              "        text-align: right;\n",
              "    }\n",
              "</style>\n",
              "<table border=\"1\" class=\"dataframe\">\n",
              "  <tbody>\n",
              "    <tr>\n",
              "      <th>Concordance</th>\n",
              "      <td>0.64</td>\n",
              "    </tr>\n",
              "    <tr>\n",
              "      <th>Partial AIC</th>\n",
              "      <td>1331.50</td>\n",
              "    </tr>\n",
              "    <tr>\n",
              "      <th>log-likelihood ratio test</th>\n",
              "      <td>33.27 on 7 df</td>\n",
              "    </tr>\n",
              "    <tr>\n",
              "      <th>-log2(p) of ll-ratio test</th>\n",
              "      <td>15.37</td>\n",
              "    </tr>\n",
              "  </tbody>\n",
              "</table>\n",
              "</div>"
            ],
            "text/plain": [
              "<IPython.core.display.HTML object>"
            ]
          },
          "metadata": {
            "tags": []
          }
        }
      ]
    },
    {
      "cell_type": "code",
      "metadata": {
        "id": "64Axl2E577Nr",
        "colab_type": "code",
        "colab": {
          "base_uri": "https://localhost:8080/",
          "height": 218
        },
        "outputId": "9e1e89e7-ed72-4abf-ceac-71d11d69e440"
      },
      "source": [
        "X = rossi_dataset\n",
        "cph.predict_survival_function(X)\n",
        "cph.predict_median(X)\n",
        "cph.predict_partial_hazard(X)"
      ],
      "execution_count": null,
      "outputs": [
        {
          "output_type": "execute_result",
          "data": {
            "text/plain": [
              "0      1.219126\n",
              "1      3.230250\n",
              "2      3.031058\n",
              "3      0.487712\n",
              "4      1.214025\n",
              "         ...   \n",
              "427    0.416973\n",
              "428    1.517713\n",
              "429    0.579426\n",
              "430    0.935629\n",
              "431    0.710516\n",
              "Length: 432, dtype: float64"
            ]
          },
          "metadata": {
            "tags": []
          },
          "execution_count": 4
        }
      ]
    },
    {
      "cell_type": "code",
      "metadata": {
        "id": "GzkHQUaL8Vgu",
        "colab_type": "code",
        "colab": {
          "base_uri": "https://localhost:8080/",
          "height": 282
        },
        "outputId": "7f7309b5-f835-4106-a3a7-0dc163fd755d"
      },
      "source": [
        "#Plotting the effect of varying a covariate\n",
        "from lifelines.datasets import load_rossi\n",
        "from lifelines import CoxPHFitter\n",
        "\n",
        "rossi_dataset = load_rossi()\n",
        "cph = CoxPHFitter()\n",
        "cph.fit(rossi_dataset, duration_col='week', event_col='arrest')\n",
        "\n",
        "cph.plot_covariate_groups(covariates='prio', values=[0, 2, 4, 6, 8, 10], cmap='coolwarm')"
      ],
      "execution_count": null,
      "outputs": [
        {
          "output_type": "execute_result",
          "data": {
            "text/plain": [
              "<matplotlib.axes._subplots.AxesSubplot at 0x7f82206bf2b0>"
            ]
          },
          "metadata": {
            "tags": []
          },
          "execution_count": 5
        },
        {
          "output_type": "display_data",
          "data": {
            "image/png": "[encoded data removed]",
            "text/plain": [
              "<Figure size 432x288 with 1 Axes>"
            ]
          },
          "metadata": {
            "tags": [],
            "needs_background": "light"
          }
        }
      ]
    }
  ]
}