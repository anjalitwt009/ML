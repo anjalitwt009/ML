{
  "nbformat": 4,
  "nbformat_minor": 0,
  "metadata": {
    "colab": {
      "name": "Pipeline.ipynb",
      "provenance": []
    },
    "kernelspec": {
      "name": "python3",
      "display_name": "Python 3"
    }
  },
  "cells": [
    {
      "cell_type": "markdown",
      "metadata": {
        "id": "qmwvvW_suISJ",
        "colab_type": "text"
      },
      "source": [
        "\n",
        "\n",
        "## Pipeline steps\n",
        "Any ML code can b defined as a pipeline of seven steps using sklearn we can import all of it \n",
        "\n",
        "* First is preprocessing data which means normalise n standardise data n take care of outliers in our data\n",
        "This is done using StandardScaler \n",
        "\n",
        "* Second is train test split which is done by defining the test ratio by importing like \n",
        "train_test_split(x,y,test_size= 0.3) \n",
        "\n",
        "* Third will be algo setup and parameters define dat can also b imported if it is some standard model with defined parameters like\n",
        "scam.SVC(gamma=0.01, C=10)\n",
        "\n",
        "* Fourth is fitting model using xtrain ytrain Like\n",
        "Clf.fit(xtrain,ytrain )\n",
        "\n",
        "* Fifth will be predicting using xtest like\n",
        "Clf.predict(xtest)\n",
        "\n",
        "* Since everything is done sixth step will b to evaluate performance using confusion matrix or best score parameters using ytest \n",
        "\n",
        "* Lastly we will save our model using pickle library like\n",
        "pickle.dumps(clf)\n",
        "\n",
        "\n",
        "In fifth step if we define the predicted value as yhat we will b using dis yhat and ytest in sixth step to evaluate performance as it is d final difference or deviation from the output which determines accuracy\n",
        "\n",
        "\n"
      ]
    },
    {
      "cell_type": "code",
      "metadata": {
        "id": "-_rOuMByqZYm",
        "colab_type": "code",
        "colab": {}
      },
      "source": [
        "from sklearn.datasets import load_iris\n",
        "iris_dataset = load_iris()"
      ],
      "execution_count": 0,
      "outputs": []
    },
    {
      "cell_type": "code",
      "metadata": {
        "id": "K-jlTBAjsKZd",
        "colab_type": "code",
        "colab": {}
      },
      "source": [
        "from sklearn import preprocessing\n",
        "iris_dataset['data']= preprocessing.StandardScaler().\n",
        "          fit(iris_dataset['data']).transform(iris_dataset['data'])"
      ],
      "execution_count": 0,
      "outputs": []
    },
    {
      "cell_type": "code",
      "metadata": {
        "id": "YGFPiQUgqjhT",
        "colab_type": "code",
        "colab": {}
      },
      "source": [
        "from sklearn.model_selection import train_test_split\n",
        "X_train, X_test, y_train, y_test = train_test_split(\n",
        "    iris_dataset['data'], iris_dataset['target'], random_state=0)"
      ],
      "execution_count": 0,
      "outputs": []
    },
    {
      "cell_type": "code",
      "metadata": {
        "id": "9wPGgq1bqsdX",
        "colab_type": "code",
        "colab": {}
      },
      "source": [
        "from sklearn.neighbors import KNeighborsClassifier\n",
        "knn = KNeighborsClassifier(n_neighbors=1)"
      ],
      "execution_count": 0,
      "outputs": []
    },
    {
      "cell_type": "code",
      "metadata": {
        "id": "LY6YSr20q7JR",
        "colab_type": "code",
        "colab": {
          "base_uri": "https://localhost:8080/",
          "height": 67
        },
        "outputId": "c8f839c9-058d-43f0-f183-c307b7784322"
      },
      "source": [
        "knn.fit(X_train, y_train)"
      ],
      "execution_count": 5,
      "outputs": [
        {
          "output_type": "execute_result",
          "data": {
            "text/plain": [
              "KNeighborsClassifier(algorithm='auto', leaf_size=30, metric='minkowski',\n",
              "                     metric_params=None, n_jobs=None, n_neighbors=1, p=2,\n",
              "                     weights='uniform')"
            ]
          },
          "metadata": {
            "tags": []
          },
          "execution_count": 5
        }
      ]
    },
    {
      "cell_type": "code",
      "metadata": {
        "id": "E7EAuD7qrNYR",
        "colab_type": "code",
        "colab": {}
      },
      "source": [
        "y_pred = knn.predict(X_test)"
      ],
      "execution_count": 0,
      "outputs": []
    },
    {
      "cell_type": "code",
      "metadata": {
        "id": "rLzCt9-Ors_W",
        "colab_type": "code",
        "colab": {
          "base_uri": "https://localhost:8080/",
          "height": 34
        },
        "outputId": "88ab5a09-15f4-40c7-aeba-884ea1b5fc67"
      },
      "source": [
        "print(\"Test set score: {:.2f}\".format(knn.score(X_test, y_test)))"
      ],
      "execution_count": 7,
      "outputs": [
        {
          "output_type": "stream",
          "text": [
            "Test set score: 0.95\n"
          ],
          "name": "stdout"
        }
      ]
    },
    {
      "cell_type": "code",
      "metadata": {
        "id": "4SfEX4mdr2Mx",
        "colab_type": "code",
        "colab": {}
      },
      "source": [
        "import pickle\n",
        "out=pickle.dumps(knn)"
      ],
      "execution_count": 0,
      "outputs": []
    },
    {
      "cell_type": "code",
      "metadata": {
        "id": "cappYQM_taXw",
        "colab_type": "code",
        "colab": {}
      },
      "source": [
        ""
      ],
      "execution_count": 0,
      "outputs": []
    }
  ]
}