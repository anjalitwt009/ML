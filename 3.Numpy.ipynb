{
  "nbformat": 4,
  "nbformat_minor": 0,
  "metadata": {
    "colab": {
      "name": "Numpy.ipynb",
      "provenance": [],
      "collapsed_sections": []
    },
    "kernelspec": {
      "name": "python3",
      "display_name": "Python 3"
    }
  },
  "cells": [
    {
      "cell_type": "markdown",
      "metadata": {
        "id": "LB7ioiTqJS5s",
        "colab_type": "text"
      },
      "source": [
        "## Numpy and Scipy\n",
        "\n",
        "Compiled languages like Fortran and C are natively much faster than Python.\n",
        "Using packages like Cython enables Python to interface with C code and pass information from the C program to Python and vice versa through memory. \n",
        "\n",
        "Powerhouses of scientific Python: NumPy and SciPy. Include arrays, matrices, integration, differential equation solvers, statistics, and much more.\n",
        "\n",
        "SciPy is built on the NumPy array framework.Includes integration, ordinary differential equation solvers, special functions, optimizations, and more.\n",
        "\n",
        "\n",
        "\n"
      ]
    },
    {
      "cell_type": "markdown",
      "metadata": {
        "id": "B158bOg8OiU6",
        "colab_type": "text"
      },
      "source": [
        "## Numpy\n",
        "\n",
        "Capabilities of N-dimensional arrays, element-by-element operations (broadcasting), core mathematical operations like linear algebra, and the ability to wrap C/C++/Fortran code.\n",
        "\n",
        "Overcome the shortcomings of the Python lists by providing a data storage\n",
        "object called ndarray (similar to lists). But only the same type of element can be stored in each column. Operations are sped up significantly.\n",
        "\n",
        "\n",
        "\n"
      ]
    },
    {
      "cell_type": "code",
      "metadata": {
        "id": "0_UEbC0jJQyO",
        "colab_type": "code",
        "colab": {}
      },
      "source": [
        "import numpy as np"
      ],
      "execution_count": 0,
      "outputs": []
    },
    {
      "cell_type": "code",
      "metadata": {
        "id": "J1YNB1OHQfnK",
        "colab_type": "code",
        "outputId": "f168aa2d-36b7-4049-9c18-1b19e2beda84",
        "colab": {
          "base_uri": "https://localhost:8080/",
          "height": 50
        }
      },
      "source": [
        "# Create an array with 10^7 elements.\n",
        "arr = np.arange(10)\n",
        "print(arr)\n",
        "# Converting ndarray to list\n",
        "larr = arr.tolist()\n",
        "print(larr)"
      ],
      "execution_count": 0,
      "outputs": [
        {
          "output_type": "stream",
          "text": [
            "[0 1 2 3 4 5 6 7 8 9]\n",
            "[0, 1, 2, 3, 4, 5, 6, 7, 8, 9]\n"
          ],
          "name": "stdout"
        }
      ]
    },
    {
      "cell_type": "code",
      "metadata": {
        "id": "HvK4yDWSQ9hZ",
        "colab_type": "code",
        "outputId": "c647eaab-b4f7-43a6-894e-5884a0745d86",
        "colab": {
          "base_uri": "https://localhost:8080/",
          "height": 202
        }
      },
      "source": [
        "# Creating a 3D numpy array\n",
        "arr = np.zeros((3,3,3))\n",
        "print(arr)\n",
        "# Trying to convert array to a matrix, which will not work.\n",
        "# Since,matrix objects can and only will be two dimensional.\n",
        "#mat = np.matrix(arr)\n",
        "#print(mat)\n",
        "#ValueError: shape too large to be a matrix."
      ],
      "execution_count": 0,
      "outputs": [
        {
          "output_type": "stream",
          "text": [
            "[[[0. 0. 0.]\n",
            "  [0. 0. 0.]\n",
            "  [0. 0. 0.]]\n",
            "\n",
            " [[0. 0. 0.]\n",
            "  [0. 0. 0.]\n",
            "  [0. 0. 0.]]\n",
            "\n",
            " [[0. 0. 0.]\n",
            "  [0. 0. 0.]\n",
            "  [0. 0. 0.]]]\n"
          ],
          "name": "stdout"
        }
      ]
    },
    {
      "cell_type": "markdown",
      "metadata": {
        "id": "Xet_sigqTMfr",
        "colab_type": "text"
      },
      "source": [
        "## Array Creation and Data Typing\n",
        "\n",
        "\n"
      ]
    },
    {
      "cell_type": "code",
      "metadata": {
        "id": "sNuQPIkSS7qE",
        "colab_type": "code",
        "outputId": "2abb543b-533e-4ec4-da48-a0a2e52f9a80",
        "colab": {
          "base_uri": "https://localhost:8080/",
          "height": 1000
        }
      },
      "source": [
        "\n",
        "# Creating an array of zeros with five elements\n",
        "arr = np.zeros(5)\n",
        "print(arr)\n",
        "# What if we want to create an array going from 0 to 100?\n",
        "arr = np.arange(100)\n",
        "# Or 10 to 100?\n",
        "arr = np.arange(10,100)\n",
        "# If you want 100 steps from 0 to 1...\n",
        "arr = np.linspace(0, 1, 100)\n",
        "# Or if you want to generate an array from 1 to 10\n",
        "# in log10 space in 100 steps...\n",
        "arr = np.logspace(0, 1, 100, base=10.0)\n",
        "print(arr)\n",
        "# Creating a 5x5 array of zeros (an image)\n",
        "image = np.zeros((5,5))\n",
        "print(image)\n",
        "# Creating a 5x5x5 cube of 1's\n",
        "# The astype() method sets the array with integer elements.\n",
        "cube = np.zeros((5,5,5)).astype(int) + 1\n",
        "print(cube)\n",
        "# Or even simpler with 16-bit floating-point precision...\n",
        "cube = np.ones((5, 5, 5)).astype(np.float16)\n",
        "print(cube)"
      ],
      "execution_count": 0,
      "outputs": [
        {
          "output_type": "stream",
          "text": [
            "[0. 0. 0. 0. 0.]\n",
            "[ 1.          1.02353102  1.04761575  1.07226722  1.09749877  1.12332403\n",
            "  1.149757    1.17681195  1.20450354  1.23284674  1.26185688  1.29154967\n",
            "  1.32194115  1.35304777  1.38488637  1.41747416  1.45082878  1.48496826\n",
            "  1.51991108  1.55567614  1.59228279  1.62975083  1.66810054  1.70735265\n",
            "  1.7475284   1.78864953  1.83073828  1.87381742  1.91791026  1.96304065\n",
            "  2.009233    2.05651231  2.10490414  2.15443469  2.20513074  2.25701972\n",
            "  2.3101297   2.36448941  2.42012826  2.47707636  2.53536449  2.59502421\n",
            "  2.65608778  2.71858824  2.7825594   2.84803587  2.91505306  2.98364724\n",
            "  3.05385551  3.12571585  3.19926714  3.27454916  3.35160265  3.43046929\n",
            "  3.51119173  3.59381366  3.67837977  3.76493581  3.85352859  3.94420606\n",
            "  4.03701726  4.1320124   4.22924287  4.32876128  4.43062146  4.53487851\n",
            "  4.64158883  4.75081016  4.86260158  4.97702356  5.09413801  5.21400829\n",
            "  5.33669923  5.46227722  5.59081018  5.72236766  5.85702082  5.9948425\n",
            "  6.13590727  6.28029144  6.42807312  6.57933225  6.73415066  6.8926121\n",
            "  7.05480231  7.22080902  7.39072203  7.56463328  7.74263683  7.92482898\n",
            "  8.11130831  8.30217568  8.49753436  8.69749003  8.90215085  9.11162756\n",
            "  9.32603347  9.54548457  9.77009957 10.        ]\n",
            "[[0. 0. 0. 0. 0.]\n",
            " [0. 0. 0. 0. 0.]\n",
            " [0. 0. 0. 0. 0.]\n",
            " [0. 0. 0. 0. 0.]\n",
            " [0. 0. 0. 0. 0.]]\n",
            "[[[1 1 1 1 1]\n",
            "  [1 1 1 1 1]\n",
            "  [1 1 1 1 1]\n",
            "  [1 1 1 1 1]\n",
            "  [1 1 1 1 1]]\n",
            "\n",
            " [[1 1 1 1 1]\n",
            "  [1 1 1 1 1]\n",
            "  [1 1 1 1 1]\n",
            "  [1 1 1 1 1]\n",
            "  [1 1 1 1 1]]\n",
            "\n",
            " [[1 1 1 1 1]\n",
            "  [1 1 1 1 1]\n",
            "  [1 1 1 1 1]\n",
            "  [1 1 1 1 1]\n",
            "  [1 1 1 1 1]]\n",
            "\n",
            " [[1 1 1 1 1]\n",
            "  [1 1 1 1 1]\n",
            "  [1 1 1 1 1]\n",
            "  [1 1 1 1 1]\n",
            "  [1 1 1 1 1]]\n",
            "\n",
            " [[1 1 1 1 1]\n",
            "  [1 1 1 1 1]\n",
            "  [1 1 1 1 1]\n",
            "  [1 1 1 1 1]\n",
            "  [1 1 1 1 1]]]\n",
            "[[[1. 1. 1. 1. 1.]\n",
            "  [1. 1. 1. 1. 1.]\n",
            "  [1. 1. 1. 1. 1.]\n",
            "  [1. 1. 1. 1. 1.]\n",
            "  [1. 1. 1. 1. 1.]]\n",
            "\n",
            " [[1. 1. 1. 1. 1.]\n",
            "  [1. 1. 1. 1. 1.]\n",
            "  [1. 1. 1. 1. 1.]\n",
            "  [1. 1. 1. 1. 1.]\n",
            "  [1. 1. 1. 1. 1.]]\n",
            "\n",
            " [[1. 1. 1. 1. 1.]\n",
            "  [1. 1. 1. 1. 1.]\n",
            "  [1. 1. 1. 1. 1.]\n",
            "  [1. 1. 1. 1. 1.]\n",
            "  [1. 1. 1. 1. 1.]]\n",
            "\n",
            " [[1. 1. 1. 1. 1.]\n",
            "  [1. 1. 1. 1. 1.]\n",
            "  [1. 1. 1. 1. 1.]\n",
            "  [1. 1. 1. 1. 1.]\n",
            "  [1. 1. 1. 1. 1.]]\n",
            "\n",
            " [[1. 1. 1. 1. 1.]\n",
            "  [1. 1. 1. 1. 1.]\n",
            "  [1. 1. 1. 1. 1.]\n",
            "  [1. 1. 1. 1. 1.]\n",
            "  [1. 1. 1. 1. 1.]]]\n"
          ],
          "name": "stdout"
        }
      ]
    },
    {
      "cell_type": "markdown",
      "metadata": {
        "id": "Qlo6vIjkU8P_",
        "colab_type": "text"
      },
      "source": [
        "If you are working with 64-bit Python, then your elements in the arrays will\n",
        "default to 64-bit precision (bit depth).\n",
        "\n",
        "You can specify the bit depth when creating arrays by setting the data\n",
        "type parameter (dtype) to int, numpy.float16, numpy.float32, or numpy.float64.\n",
        "\n"
      ]
    },
    {
      "cell_type": "code",
      "metadata": {
        "id": "KVlk0UJ6Y2f8",
        "colab_type": "code",
        "outputId": "6d0024c8-c74b-4e6b-9a81-2de41d2ab629",
        "colab": {
          "base_uri": "https://localhost:8080/",
          "height": 168
        }
      },
      "source": [
        "# Array of zero integers\n",
        "arr = np.zeros(2, dtype=int)\n",
        "print(arr)\n",
        "# Array of zero floats\n",
        "arr = np.zeros(2, dtype=np.float32)\n",
        "print(arr)\n",
        "# Identity matrix\n",
        "my_matrx = np.eye(6) \n",
        "print(my_matrx)\n",
        "#Array of 1s\n",
        "data = np.ones(4)\n",
        "print(data)"
      ],
      "execution_count": 0,
      "outputs": [
        {
          "output_type": "stream",
          "text": [
            "[0 0]\n",
            "[0. 0.]\n",
            "[[1. 0. 0. 0. 0. 0.]\n",
            " [0. 1. 0. 0. 0. 0.]\n",
            " [0. 0. 1. 0. 0. 0.]\n",
            " [0. 0. 0. 1. 0. 0.]\n",
            " [0. 0. 0. 0. 1. 0.]\n",
            " [0. 0. 0. 0. 0. 1.]]\n",
            "[1. 1. 1. 1.]\n"
          ],
          "name": "stdout"
        }
      ]
    },
    {
      "cell_type": "code",
      "metadata": {
        "id": "99U-2gEAkiCN",
        "colab_type": "code",
        "outputId": "a37f4cf3-d35d-46c2-b99a-1881c587c9f1",
        "colab": {
          "base_uri": "https://localhost:8080/",
          "height": 437
        }
      },
      "source": [
        "# First we create a list and then\n",
        "# wrap it with the np.array() function.\n",
        "\n",
        "alist = [1, 2, 3]       #vector of rows\n",
        "arr = np.array(alist)\n",
        "print(arr)\n",
        "\n",
        "alist = [[1], [2], [3]]     #vector of columns\n",
        "arr = np.array(alist)\n",
        "print(arr)\n",
        "\n",
        "A = np.matrix([[3, 6, -5],[1, -3, 2],[5, -1, 4]]) # Defining the matrices\n",
        "print(A)\n",
        "\n",
        "print(A.shape)  #View the Number of Rows and Columns\n",
        "print(A.size)   #View the number of elements (rows*columns)\n",
        "print(A.ndim)   #View the number of Dimensions(2 in this case)\n",
        "\n",
        "#Return the max element\n",
        "print(np.max(A))\n",
        "#Return the min element\n",
        "print(np.min(A))\n",
        "#To find the max element in each column\n",
        "print(np.max(A,axis=0))\n"
      ],
      "execution_count": 0,
      "outputs": [
        {
          "output_type": "stream",
          "text": [
            "[1 2 3]\n",
            "[[1]\n",
            " [2]\n",
            " [3]]\n",
            "[[ 3  6 -5]\n",
            " [ 1 -3  2]\n",
            " [ 5 -1  4]]\n",
            "(3, 3)\n",
            "9\n",
            "2\n",
            "6\n",
            "-5\n",
            "[[5 6 4]]\n",
            "1.3333333333333333\n",
            "3.496029493900505\n",
            "12.222222222222221\n",
            "[[ 3  1  5]\n",
            " [ 6 -3 -1]\n",
            " [-5  2  4]]\n",
            "[[ 3 -3  4]]\n",
            "[ 3.18270043+4.11426089j  3.18270043-4.11426089j -2.36540086+0.j        ]\n",
            "[[-0.08235996+0.61456618j -0.08235996-0.61456618j  0.43391486+0.j        ]\n",
            " [ 0.20612063-0.03776147j  0.20612063+0.03776147j -0.77328937+0.j        ]\n",
            " [ 0.75605132+0.j          0.75605132-0.j         -0.46232181+0.j        ]]\n"
          ],
          "name": "stdout"
        },
        {
          "output_type": "stream",
          "text": [
            "/usr/local/lib/python3.6/dist-packages/ipykernel_launcher.py:37: RuntimeWarning: invalid value encountered in log\n"
          ],
          "name": "stderr"
        }
      ]
    },
    {
      "cell_type": "code",
      "metadata": {
        "id": "UY-gY4qHDvf1",
        "colab_type": "code",
        "colab": {}
      },
      "source": [
        "#Mean\n",
        "print(np.mean(A))\n",
        "#Standard Dev.\n",
        "print(np.std(A))\n",
        "#Variance\n",
        "print(np.var(A))\n",
        "np.exp(A)     #Returns the exponentials of each element\n",
        "np.sin(A)     #Returns the sin of each element\n",
        "np.cos(A)     #Returns the cosine of each element\n",
        "np.log(A)     #Returns the logarithm of each element\n",
        "np.sum(A)     #Returns the sum total of elements in the array\n",
        "\n",
        "#Transpose the matrix\n",
        "print(A.T)\n",
        "#Print the Principal diagonal\n",
        "print(A.diagonal())\n",
        "\n",
        "# Calculate the Eigenvalues and Eigenvectors of that Matrix\n",
        "eigenvalues ,eigenvectors=np.linalg.eig(A)\n",
        "print(eigenvalues)\n",
        "print(eigenvectors)"
      ],
      "execution_count": 0,
      "outputs": []
    },
    {
      "cell_type": "code",
      "metadata": {
        "id": "-PloY5-glfP7",
        "colab_type": "code",
        "outputId": "23a663c7-a3d9-408d-9a9f-67f592a46b49",
        "colab": {
          "base_uri": "https://localhost:8080/",
          "height": 67
        }
      },
      "source": [
        "x = np.array([[1, 2, 3], [4, 5, 6]])\n",
        "print(\"x:\\n{}\".format(x))"
      ],
      "execution_count": 0,
      "outputs": [
        {
          "output_type": "stream",
          "text": [
            "x:\n",
            "[[1 2 3]\n",
            " [4 5 6]]\n"
          ],
          "name": "stdout"
        }
      ]
    },
    {
      "cell_type": "markdown",
      "metadata": {
        "id": "uZUN8_s_ZfGH",
        "colab_type": "text"
      },
      "source": [
        "Reshaping"
      ]
    },
    {
      "cell_type": "code",
      "metadata": {
        "id": "nd8YJOQWZTbg",
        "colab_type": "code",
        "colab": {}
      },
      "source": [
        "# Creating an array with elements from 0 to 999\n",
        "arr1d = np.arange(1000)\n",
        "# Now reshaping the array to a 10x10x10 3D array\n",
        "arr3d = arr1d.reshape((10,10,10))\n",
        "# The reshape command can alternatively be called this way\n",
        "arr3d = np.reshape(arr1d, (10, 10, 10))\n",
        "# Inversely, we can flatten arrays\n",
        "arr4d = np.zeros((10, 10, 10, 10))\n",
        "arr1d = arr4d.ravel()"
      ],
      "execution_count": 0,
      "outputs": []
    },
    {
      "cell_type": "markdown",
      "metadata": {
        "id": "Rw9bxxM9hLGH",
        "colab_type": "text"
      },
      "source": [
        "## Record Arrays\n",
        "\n",
        "(Used for tables)\n",
        "i4 corresponds to a 32-bit integer, f4 corresponds to a 32-bit float,\n",
        "and a10 corresponds to a string 10 characters long."
      ]
    },
    {
      "cell_type": "code",
      "metadata": {
        "id": "m1Gk2qULhfAg",
        "colab_type": "code",
        "outputId": "140016de-3aec-4857-addd-7536d2456436",
        "colab": {
          "base_uri": "https://localhost:8080/",
          "height": 34
        }
      },
      "source": [
        "# Creating an array of zeros and defining column types\n",
        "recarr = np.zeros((2,), dtype=('i4,f4,a10'))\n",
        "toadd = [(1,2.,'Hello'),(2,3.,\"World\")]\n",
        "recarr[:] = toadd\n",
        "print(recarr)"
      ],
      "execution_count": 0,
      "outputs": [
        {
          "output_type": "stream",
          "text": [
            "[(1, 2., b'Hello') (2, 3., b'World')]\n"
          ],
          "name": "stdout"
        }
      ]
    },
    {
      "cell_type": "markdown",
      "metadata": {
        "id": "8PeHGM7Gh0qf",
        "colab_type": "text"
      },
      "source": [
        "Using rand to get random values from Gaussian distribution."
      ]
    },
    {
      "cell_type": "code",
      "metadata": {
        "id": "8vNXArlLh1k9",
        "colab_type": "code",
        "outputId": "494a5fae-c751-473f-f08f-fe3653ac095c",
        "colab": {
          "base_uri": "https://localhost:8080/",
          "height": 202
        }
      },
      "source": [
        "import numpy.random as rand\n",
        "# Creating a 10-element array with random values\n",
        "# from a standard normal distribution or, in other\n",
        "# words, a Gaussian distribution.The sigma is 1 and the mean is 0.\n",
        "a = rand.randn(10)\n",
        "print(a)\n",
        "\n",
        "#matrix\n",
        "b = rand.randn(5,4)\n",
        "print(b)\n",
        "\n",
        "#random numbers\n",
        "c=rand.rand(5)\n",
        "print(c)\n",
        "\n",
        "#one-dimensional array\n",
        "d=rand.randint(5)\n",
        "print(d)\n",
        "\n",
        "#2d array\n",
        "e=rand.randint(1,5)\n",
        "print(e)\n",
        "\n",
        "#include 1 exclude 5, 7 elements\n",
        "f=rand.randint(1,5,7)\n",
        "print(f)"
      ],
      "execution_count": 0,
      "outputs": [
        {
          "output_type": "stream",
          "text": [
            "[-0.671598   -1.31089843  0.09833863  0.89781582  0.17322363  0.23764341\n",
            " -2.32581065  1.91213906  1.36695549  0.3983347 ]\n",
            "[[-0.72955911 -0.70226857 -1.31860294 -0.17498429]\n",
            " [ 0.62380195  0.03729828 -0.39791764  0.86985052]\n",
            " [ 1.74078972 -0.71808175  0.66264522  0.61321259]\n",
            " [-1.83810509  0.11505271  0.41933077 -1.28053009]\n",
            " [ 0.03834179  0.32516135 -0.65806199 -1.59921293]]\n",
            "[0.97070236 0.43098225 0.64262098 0.9992781  0.83923251]\n",
            "0\n",
            "4\n",
            "[2 3 2 3 3 1 1]\n"
          ],
          "name": "stdout"
        }
      ]
    },
    {
      "cell_type": "markdown",
      "metadata": {
        "id": "9dsA8K45jOrn",
        "colab_type": "text"
      },
      "source": [
        "Read and Write Files"
      ]
    },
    {
      "cell_type": "code",
      "metadata": {
        "id": "tY3LZZ1djSE9",
        "colab_type": "code",
        "colab": {}
      },
      "source": [
        "arr = np.loadtxt('somefile.txt')\n",
        "np.savetxt('somenewfile.txt')"
      ],
      "execution_count": 0,
      "outputs": []
    },
    {
      "cell_type": "markdown",
      "metadata": {
        "id": "EZaLRSw3jvkq",
        "colab_type": "text"
      },
      "source": [
        "If each column is different in terms of formatting, loadtxt can still read the data, but the column types need to be predefined. "
      ]
    },
    {
      "cell_type": "code",
      "metadata": {
        "id": "l5310N2Aj1NU",
        "colab_type": "code",
        "colab": {}
      },
      "source": [
        "# example.txt file looks like the following\n",
        "#\n",
        "# XR21 32.789 1\n",
        "# XR22 33.091 2\n",
        "table = np.loadtxt('example.txt',\n",
        "dtype='names': ('ID', 'Result', 'Type'),\n",
        "'formats': ('S4', 'f4', 'i2'))"
      ],
      "execution_count": 0,
      "outputs": []
    },
    {
      "cell_type": "code",
      "metadata": {
        "id": "al-qtHU8A2g3",
        "colab_type": "code",
        "colab": {}
      },
      "source": [
        ""
      ],
      "execution_count": 0,
      "outputs": []
    }
  ]
}