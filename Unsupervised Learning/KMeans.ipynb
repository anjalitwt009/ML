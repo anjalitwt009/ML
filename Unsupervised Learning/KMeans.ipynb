{
  "nbformat": 4,
  "nbformat_minor": 0,
  "metadata": {
    "colab": {
      "name": "KMeans.ipynb",
      "provenance": []
    },
    "kernelspec": {
      "name": "python3",
      "display_name": "Python 3"
    }
  },
  "cells": [
    {
      "cell_type": "code",
      "metadata": {
        "id": "-2BdomaOS69Y",
        "outputId": "f1dd46c5-3822-4b24-fe79-3f57a377affb",
        "colab": {
          "base_uri": "https://localhost:8080/",
          "height": 118
        }
      },
      "source": [
        "from sklearn.cluster import KMeans\n",
        "import numpy as np\n",
        "X = np.array([[1, 2], [1, 4], [1, 0],\n",
        "              [10, 2], [10, 4], [10, 0]])\n",
        "kmeans = KMeans(n_clusters=2, random_state=0).fit(X)\n",
        "print(kmeans.labels_)\n",
        "\n",
        "print(kmeans.predict([[0, 0], [12, 3]]))\n",
        "print(kmeans.cluster_centers_)\n",
        "print(kmeans.inertia_)\n",
        "print(kmeans.n_iter_)"
      ],
      "execution_count": 1,
      "outputs": [
        {
          "output_type": "stream",
          "text": [
            "[1 1 1 0 0 0]\n",
            "[1 0]\n",
            "[[10.  2.]\n",
            " [ 1.  2.]]\n",
            "16.0\n",
            "2\n"
          ],
          "name": "stdout"
        }
      ]
    }
  ]
}