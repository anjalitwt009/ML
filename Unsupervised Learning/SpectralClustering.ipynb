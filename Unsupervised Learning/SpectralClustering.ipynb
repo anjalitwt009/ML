{
  "nbformat": 4,
  "nbformat_minor": 0,
  "metadata": {
    "colab": {
      "name": "SpectralClustering.ipynb",
      "provenance": []
    },
    "kernelspec": {
      "name": "python3",
      "display_name": "Python 3"
    }
  },
  "cells": [
    {
      "cell_type": "code",
      "metadata": {
        "id": "xrJoC4scXMSu",
        "outputId": "e1c26b36-f6d8-4d5a-e98e-9262f959053d",
        "colab": {
          "base_uri": "https://localhost:8080/",
          "height": 302
        }
      },
      "source": [
        "from sklearn.cluster import SpectralClustering\n",
        "import numpy as np\n",
        "X = np.array([[1, 1], [2, 1], [1, 0],\n",
        "              [4, 7], [3, 5], [3, 6]])\n",
        "clustering = SpectralClustering(n_clusters=2,\n",
        "        assign_labels=\"discretize\",\n",
        "        random_state=0).fit(X)\n",
        "print(clustering.labels_)\n",
        "print(clustering)\n",
        "print(clustering.affinity_matrix_)"
      ],
      "execution_count": 1,
      "outputs": [
        {
          "output_type": "stream",
          "text": [
            "[1 1 1 0 0 0]\n",
            "SpectralClustering(affinity='rbf', assign_labels='discretize', coef0=1,\n",
            "                   degree=3, eigen_solver=None, eigen_tol=0.0, gamma=1.0,\n",
            "                   kernel_params=None, n_clusters=2, n_components=None,\n",
            "                   n_init=10, n_jobs=None, n_neighbors=10, random_state=0)\n",
            "[[1.00000000e+00 3.67879441e-01 3.67879441e-01 2.86251858e-20\n",
            "  2.06115362e-09 2.54366565e-13]\n",
            " [3.67879441e-01 1.00000000e+00 1.35335283e-01 4.24835426e-18\n",
            "  4.13993772e-08 5.10908903e-12]\n",
            " [3.67879441e-01 1.35335283e-01 1.00000000e+00 6.47023493e-26\n",
            "  2.54366565e-13 4.24835426e-18]\n",
            " [2.86251858e-20 4.24835426e-18 6.47023493e-26 1.00000000e+00\n",
            "  6.73794700e-03 1.35335283e-01]\n",
            " [2.06115362e-09 4.13993772e-08 2.54366565e-13 6.73794700e-03\n",
            "  1.00000000e+00 3.67879441e-01]\n",
            " [2.54366565e-13 5.10908903e-12 4.24835426e-18 1.35335283e-01\n",
            "  3.67879441e-01 1.00000000e+00]]\n"
          ],
          "name": "stdout"
        }
      ]
    }
  ]
}