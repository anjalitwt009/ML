{
  "nbformat": 4,
  "nbformat_minor": 0,
  "metadata": {
    "colab": {
      "name": "SpectralCoclustering.ipynb",
      "provenance": []
    },
    "kernelspec": {
      "name": "python3",
      "display_name": "Python 3"
    }
  },
  "cells": [
    {
      "cell_type": "code",
      "metadata": {
        "id": "QoxJdK4vd-66",
        "outputId": "b90139ee-8c24-4d00-99bf-98b9b5a6a768",
        "colab": {
          "base_uri": "https://localhost:8080/"
        }
      },
      "source": [
        "from sklearn.cluster import SpectralCoclustering\n",
        "import numpy as np\n",
        "X = np.array([[1, 1], [2, 1], [1, 0],\n",
        "              [4, 7], [3, 5], [3, 6]])\n",
        "clustering = SpectralCoclustering(n_clusters=2, random_state=0).fit(X)\n",
        "print(clustering.row_labels_)\n",
        "print(clustering.column_labels_)\n",
        "print(clustering)\n",
        "print(clustering.rows_)\n",
        "print(clustering.columns_)"
      ],
      "execution_count": 1,
      "outputs": [
        {
          "output_type": "stream",
          "text": [
            "[0 1 1 0 0 0]\n",
            "[0 0]\n",
            "SpectralCoclustering(init='k-means++', mini_batch=False, n_clusters=2,\n",
            "                     n_init=10, n_jobs=None, n_svd_vecs=None, random_state=0,\n",
            "                     svd_method='randomized')\n",
            "[[ True False False  True  True  True]\n",
            " [False  True  True False False False]]\n",
            "[[ True  True]\n",
            " [False False]]\n"
          ],
          "name": "stdout"
        }
      ]
    }
  ]
}