{
  "nbformat": 4,
  "nbformat_minor": 0,
  "metadata": {
    "colab": {
      "name": "MiniBatchKMeans.ipynb",
      "provenance": []
    },
    "kernelspec": {
      "name": "python3",
      "display_name": "Python 3"
    }
  },
  "cells": [
    {
      "cell_type": "code",
      "metadata": {
        "id": "9gpHWgNBUXDi",
        "outputId": "88174606-071c-45b8-a650-519c3d9f5751",
        "colab": {
          "base_uri": "https://localhost:8080/",
          "height": 84
        }
      },
      "source": [
        "from sklearn.cluster import MiniBatchKMeans\n",
        "import numpy as np\n",
        "X = np.array([[1, 2], [1, 4], [1, 0],\n",
        "              [4, 2], [4, 0], [4, 4],\n",
        "              [4, 5], [0, 1], [2, 2],\n",
        "              [3, 2], [5, 5], [1, -1]])\n",
        "# manually fit on batches\n",
        "kmeans = MiniBatchKMeans(n_clusters=2,\n",
        "                         random_state=0,\n",
        "                         batch_size=6)\n",
        "kmeans = kmeans.partial_fit(X[0:6,:])\n",
        "kmeans = kmeans.partial_fit(X[6:12,:])\n",
        "kmeans.cluster_centers_\n",
        "kmeans.predict([[0, 0], [4, 4]])\n",
        "# fit on the whole data\n",
        "kmeans = MiniBatchKMeans(n_clusters=2,\n",
        "                         random_state=0,\n",
        "                         batch_size=6,\n",
        "                         max_iter=10).fit(X)\n",
        "kmeans.cluster_centers_\n",
        "kmeans.predict([[0, 0], [4, 4]])\n",
        "print(kmeans.labels_)\n",
        "print(kmeans.cluster_centers_)\n",
        "print(kmeans.inertia_)"
      ],
      "execution_count": 1,
      "outputs": [
        {
          "output_type": "stream",
          "text": [
            "[1 1 1 0 0 0 0 1 1 0 0 1]\n",
            "[[3.95918367 2.40816327]\n",
            " [1.12195122 1.3902439 ]]\n",
            "41.55361896849939\n"
          ],
          "name": "stdout"
        }
      ]
    }
  ]
}