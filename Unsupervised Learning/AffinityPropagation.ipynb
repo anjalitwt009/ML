{
  "nbformat": 4,
  "nbformat_minor": 0,
  "metadata": {
    "colab": {
      "name": "AffinityPropagation.ipynb",
      "provenance": []
    },
    "kernelspec": {
      "name": "python3",
      "display_name": "Python 3"
    }
  },
  "cells": [
    {
      "cell_type": "code",
      "metadata": {
        "id": "_A4_x1WzQ4ZN",
        "outputId": "cc2e8891-a2af-49b4-cea2-ac2280aaa49d",
        "colab": {
          "base_uri": "https://localhost:8080/",
          "height": 252
        }
      },
      "source": [
        "from sklearn.cluster import AffinityPropagation\n",
        "import numpy as np\n",
        "X = np.array([[1, 2], [1, 4], [1, 0],\n",
        "              [4, 2], [4, 4], [4, 0]])\n",
        "clustering = AffinityPropagation().fit(X)\n",
        "print(clustering)\n",
        "print(clustering.labels_)\n",
        "print(clustering.predict([[0, 0], [4, 4]]))\n",
        "print(clustering.cluster_centers_)\n",
        "print(clustering.cluster_centers_indices_)\n",
        "print(clustering.affinity_matrix_)\n",
        "print(clustering.n_iter_)"
      ],
      "execution_count": 2,
      "outputs": [
        {
          "output_type": "stream",
          "text": [
            "AffinityPropagation(affinity='euclidean', convergence_iter=15, copy=True,\n",
            "                    damping=0.5, max_iter=200, preference=None, verbose=False)\n",
            "[0 0 0 1 1 1]\n",
            "[0 1]\n",
            "[[1 2]\n",
            " [4 2]]\n",
            "[0 3]\n",
            "[[ -0.  -4.  -4.  -9. -13. -13.]\n",
            " [ -4.  -0. -16. -13.  -9. -25.]\n",
            " [ -4. -16.  -0. -13. -25.  -9.]\n",
            " [ -9. -13. -13.  -0.  -4.  -4.]\n",
            " [-13.  -9. -25.  -4.  -0. -16.]\n",
            " [-13. -25.  -9.  -4. -16.  -0.]]\n",
            "16\n"
          ],
          "name": "stdout"
        }
      ]
    }
  ]
}