{
  "nbformat": 4,
  "nbformat_minor": 0,
  "metadata": {
    "colab": {
      "name": "OPTICS.ipynb",
      "provenance": []
    },
    "kernelspec": {
      "name": "python3",
      "display_name": "Python 3"
    }
  },
  "cells": [
    {
      "cell_type": "code",
      "metadata": {
        "id": "FVf_Syd1WDOC",
        "outputId": "ffcd3363-00f0-447b-c383-4e2d77fa11c3",
        "colab": {
          "base_uri": "https://localhost:8080/",
          "height": 151
        }
      },
      "source": [
        "from sklearn.cluster import OPTICS\n",
        "import numpy as np\n",
        "X = np.array([[1, 2], [2, 5], [3, 6],\n",
        "              [8, 7], [8, 8], [7, 3]])\n",
        "clustering = OPTICS(min_samples=2).fit(X)\n",
        "print(clustering.labels_)\n",
        "print(clustering.reachability_)\n",
        "print(clustering.ordering_)\n",
        "print(clustering.core_distances_)\n",
        "print(clustering.predecessor_)\n",
        "print(clustering.cluster_hierarchy_)"
      ],
      "execution_count": 2,
      "outputs": [
        {
          "output_type": "stream",
          "text": [
            "[0 0 0 1 1 1]\n",
            "[       inf 3.16227766 1.41421356 4.12310563 1.         5.        ]\n",
            "[0 1 2 5 3 4]\n",
            "[3.16227766 1.41421356 1.41421356 1.         1.         4.12310563]\n",
            "[-1  0  1  5  3  2]\n",
            "[[0 2]\n",
            " [3 5]\n",
            " [0 5]]\n"
          ],
          "name": "stdout"
        }
      ]
    }
  ]
}