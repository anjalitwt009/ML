{
  "nbformat": 4,
  "nbformat_minor": 0,
  "metadata": {
    "colab": {
      "name": "Hierarchical.ipynb",
      "provenance": []
    },
    "kernelspec": {
      "name": "python3",
      "display_name": "Python 3"
    }
  },
  "cells": [
    {
      "cell_type": "code",
      "metadata": {
        "id": "mmxwUVVhU9eS",
        "outputId": "a0bb0ef1-c726-4553-9c3d-599c866bb18b",
        "colab": {
          "base_uri": "https://localhost:8080/",
          "height": 269
        }
      },
      "source": [
        "from scipy.cluster.hierarchy import ward, fcluster\n",
        "from scipy.spatial.distance import pdist\n",
        "\n",
        "X = [[0, 0], [0, 1], [1, 0],\n",
        "     [0, 4], [0, 3], [1, 4],\n",
        "     [4, 0], [3, 0], [4, 1],\n",
        "     [4, 4], [3, 4], [4, 3]]\n",
        "\n",
        "Z = ward(pdist(X))\n",
        "print(Z)\n",
        "print(fcluster(Z, t=0.9, criterion='distance'))\n",
        "print(fcluster(Z, t=1.1, criterion='distance'))\n",
        "print(fcluster(Z, t=3, criterion='distance'))\n",
        "print(fcluster(Z, t=9, criterion='distance'))"
      ],
      "execution_count": 3,
      "outputs": [
        {
          "output_type": "stream",
          "text": [
            "[[ 0.          1.          1.          2.        ]\n",
            " [ 3.          4.          1.          2.        ]\n",
            " [ 6.          7.          1.          2.        ]\n",
            " [ 9.         10.          1.          2.        ]\n",
            " [ 2.         12.          1.29099445  3.        ]\n",
            " [ 5.         13.          1.29099445  3.        ]\n",
            " [ 8.         14.          1.29099445  3.        ]\n",
            " [11.         15.          1.29099445  3.        ]\n",
            " [16.         17.          5.77350269  6.        ]\n",
            " [18.         19.          5.77350269  6.        ]\n",
            " [20.         21.          8.16496581 12.        ]]\n",
            "[ 1  2  3  4  5  6  7  8  9 10 11 12]\n",
            "[1 1 2 3 3 4 5 5 6 7 7 8]\n",
            "[1 1 1 2 2 2 3 3 3 4 4 4]\n",
            "[1 1 1 1 1 1 1 1 1 1 1 1]\n"
          ],
          "name": "stdout"
        }
      ]
    },
    {
      "cell_type": "code",
      "metadata": {
        "id": "A4yFwOtiWces",
        "outputId": "70cee835-949b-428f-f1f5-cb9f5b00415b",
        "colab": {
          "base_uri": "https://localhost:8080/",
          "height": 465
        }
      },
      "source": [
        "from scipy.cluster import hierarchy\n",
        "import matplotlib.pyplot as plt\n",
        "import numpy as np\n",
        "\n",
        "ytdist = np.array([662., 877., 255., 412., 996., 295., 468., 268.,\n",
        "                   400., 754., 564., 138., 219., 869., 669.])\n",
        "Z = hierarchy.linkage(ytdist, 'single')\n",
        "plt.figure()\n",
        "dn = hierarchy.dendrogram(Z)\n",
        "\n",
        "hierarchy.set_link_color_palette(['m', 'c', 'y', 'k'])\n",
        "fig, axes = plt.subplots(1, 2, figsize=(8, 3))\n",
        "dn1 = hierarchy.dendrogram(Z, ax=axes[0], above_threshold_color='y',\n",
        "                           orientation='top')\n",
        "dn2 = hierarchy.dendrogram(Z, ax=axes[1],\n",
        "                           above_threshold_color='#bcbddc',\n",
        "                           orientation='right')\n",
        "hierarchy.set_link_color_palette(None)  # reset to default after use\n",
        "plt.show()"
      ],
      "execution_count": 5,
      "outputs": [
        {
          "output_type": "display_data",
          "data": {
            "image/png": "[encoded data removed]",
            "text/plain": [
              "<Figure size 432x288 with 1 Axes>"
            ]
          },
          "metadata": {
            "tags": [],
            "needs_background": "light"
          }
        },
        {
          "output_type": "display_data",
          "data": {
            "image/png": "[encoded data removed]",
            "text/plain": [
              "<Figure size 576x216 with 2 Axes>"
            ]
          },
          "metadata": {
            "tags": [],
            "needs_background": "light"
          }
        }
      ]
    }
  ]
}