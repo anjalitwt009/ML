{
  "nbformat": 4,
  "nbformat_minor": 0,
  "metadata": {
    "colab": {
      "name": "DBSCAN.ipynb",
      "provenance": []
    },
    "kernelspec": {
      "name": "python3",
      "display_name": "Python 3"
    }
  },
  "cells": [
    {
      "cell_type": "code",
      "metadata": {
        "id": "fMi4N6BdSZfs",
        "outputId": "26f93b0b-3d9b-40f7-849e-0390bd8e458e",
        "colab": {
          "base_uri": "https://localhost:8080/",
          "height": 168
        }
      },
      "source": [
        "from sklearn.cluster import DBSCAN\n",
        "import numpy as np\n",
        "X = np.array([[1, 2], [2, 2], [2, 3],\n",
        "              [8, 7], [8, 8], [25, 80]])\n",
        "clustering = DBSCAN(eps=3, min_samples=2).fit(X)\n",
        "print(clustering)\n",
        "\n",
        "print(clustering.labels_)\n",
        "print(clustering.components_)\n",
        "print(clustering.core_sample_indices_)"
      ],
      "execution_count": 1,
      "outputs": [
        {
          "output_type": "stream",
          "text": [
            "DBSCAN(algorithm='auto', eps=3, leaf_size=30, metric='euclidean',\n",
            "       metric_params=None, min_samples=2, n_jobs=None, p=None)\n",
            "[ 0  0  0  1  1 -1]\n",
            "[[1 2]\n",
            " [2 2]\n",
            " [2 3]\n",
            " [8 7]\n",
            " [8 8]]\n",
            "[0 1 2 3 4]\n"
          ],
          "name": "stdout"
        }
      ]
    }
  ]
}