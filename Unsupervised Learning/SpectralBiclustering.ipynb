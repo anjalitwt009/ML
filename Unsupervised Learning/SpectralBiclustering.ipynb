{
  "nbformat": 4,
  "nbformat_minor": 0,
  "metadata": {
    "colab": {
      "name": "SpectralBiclustering.ipynb",
      "provenance": []
    },
    "kernelspec": {
      "name": "python3",
      "display_name": "Python 3"
    }
  },
  "cells": [
    {
      "cell_type": "code",
      "metadata": {
        "id": "phVzD1jOdaRM",
        "outputId": "38f1017f-0be6-4cd5-bb79-bbfbc7a1d9b9",
        "colab": {
          "base_uri": "https://localhost:8080/"
        }
      },
      "source": [
        "from sklearn.cluster import SpectralBiclustering\n",
        "import numpy as np\n",
        "X = np.array([[1, 1], [2, 1], [1, 0],\n",
        "              [4, 7], [3, 5], [3, 6]])\n",
        "clustering = SpectralBiclustering(n_clusters=2, random_state=0).fit(X)\n",
        "print(clustering.row_labels_)\n",
        "print(clustering.column_labels_)\n",
        "print(clustering)\n",
        "print(clustering.rows_)\n",
        "print(clustering.columns_)"
      ],
      "execution_count": 1,
      "outputs": [
        {
          "output_type": "stream",
          "text": [
            "[1 1 1 0 0 0]\n",
            "[0 1]\n",
            "SpectralBiclustering(init='k-means++', method='bistochastic', mini_batch=False,\n",
            "                     n_best=3, n_clusters=2, n_components=6, n_init=10,\n",
            "                     n_jobs=None, n_svd_vecs=None, random_state=0,\n",
            "                     svd_method='randomized')\n",
            "[[False False False  True  True  True]\n",
            " [False False False  True  True  True]\n",
            " [ True  True  True False False False]\n",
            " [ True  True  True False False False]]\n",
            "[[ True False]\n",
            " [False  True]\n",
            " [ True False]\n",
            " [False  True]]\n"
          ],
          "name": "stdout"
        }
      ]
    }
  ]
}