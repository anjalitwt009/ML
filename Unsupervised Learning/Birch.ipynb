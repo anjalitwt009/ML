{
  "nbformat": 4,
  "nbformat_minor": 0,
  "metadata": {
    "colab": {
      "name": "Birch.ipynb",
      "provenance": []
    },
    "kernelspec": {
      "name": "python3",
      "display_name": "Python 3"
    }
  },
  "cells": [
    {
      "cell_type": "code",
      "metadata": {
        "id": "e3Lpkxu1R4DM",
        "outputId": "07eb8fe2-2213-4cf6-9ef0-ba85906caf12",
        "colab": {
          "base_uri": "https://localhost:8080/",
          "height": 168
        }
      },
      "source": [
        "from sklearn.cluster import Birch\n",
        "X = [[0, 1], [0.3, 1], [-0.3, 1], [0, -1], [0.3, -1], [-0.3, -1]]\n",
        "brc = Birch(n_clusters=None)\n",
        "brc.fit(X)\n",
        "brc.predict(X)\n",
        "print(brc)\n",
        "print(brc.labels_)\n",
        "print(brc.predict([[0, 0], [4, 4]]))\n",
        "print(brc.root_)\n",
        "print(brc.dummy_leaf_)\n",
        "print(brc.subcluster_centers_)\n",
        "print(brc.subcluster_labels_)"
      ],
      "execution_count": 2,
      "outputs": [
        {
          "output_type": "stream",
          "text": [
            "Birch(branching_factor=50, compute_labels=True, copy=True, n_clusters=None,\n",
            "      threshold=0.5)\n",
            "[0 0 0 1 1 1]\n",
            "[0 0]\n",
            "<sklearn.cluster._birch._CFNode object at 0x7f93321a3710>\n",
            "<sklearn.cluster._birch._CFNode object at 0x7f93321a3668>\n",
            "[[ 0.  1.]\n",
            " [ 0. -1.]]\n",
            "[0 1]\n"
          ],
          "name": "stdout"
        }
      ]
    }
  ]
}