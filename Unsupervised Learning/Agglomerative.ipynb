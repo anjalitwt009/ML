{
  "nbformat": 4,
  "nbformat_minor": 0,
  "metadata": {
    "colab": {
      "name": "Agglomerative.ipynb",
      "provenance": []
    },
    "kernelspec": {
      "name": "python3",
      "display_name": "Python 3"
    }
  },
  "cells": [
    {
      "cell_type": "code",
      "metadata": {
        "id": "u2u_zzIvRWSO",
        "outputId": "215904b8-3c54-4072-bde2-0a649235535b",
        "colab": {
          "base_uri": "https://localhost:8080/",
          "height": 218
        }
      },
      "source": [
        "from sklearn.cluster import AgglomerativeClustering\n",
        "import numpy as np\n",
        "X = np.array([[1, 2], [1, 4], [1, 0],\n",
        "              [4, 2], [4, 4], [4, 0]])\n",
        "clustering = AgglomerativeClustering().fit(X)\n",
        "print(clustering)\n",
        "\n",
        "print(clustering.labels_)\n",
        "print(clustering.n_clusters_)\n",
        "print(clustering.n_leaves_)\n",
        "print(clustering.n_connected_components_)\n",
        "print(clustering.children_)"
      ],
      "execution_count": 2,
      "outputs": [
        {
          "output_type": "stream",
          "text": [
            "AgglomerativeClustering(affinity='euclidean', compute_full_tree='auto',\n",
            "                        connectivity=None, distance_threshold=None,\n",
            "                        linkage='ward', memory=None, n_clusters=2)\n",
            "[1 1 1 0 0 0]\n",
            "2\n",
            "6\n",
            "1\n",
            "[[0 1]\n",
            " [3 5]\n",
            " [2 6]\n",
            " [4 7]\n",
            " [8 9]]\n"
          ],
          "name": "stdout"
        }
      ]
    }
  ]
}