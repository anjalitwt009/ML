{
  "nbformat": 4,
  "nbformat_minor": 0,
  "metadata": {
    "colab": {
      "name": "MeanShift.ipynb",
      "provenance": []
    },
    "kernelspec": {
      "name": "python3",
      "display_name": "Python 3"
    }
  },
  "cells": [
    {
      "cell_type": "code",
      "metadata": {
        "id": "pZ3xAT-3VdG7",
        "outputId": "516cfba5-0822-441e-ad8b-e491d687d74b",
        "colab": {
          "base_uri": "https://localhost:8080/",
          "height": 67
        }
      },
      "source": [
        "from sklearn.cluster import MeanShift\n",
        "import numpy as np\n",
        "X = np.array([[1, 1], [2, 1], [1, 0],\n",
        "              [4, 7], [3, 5], [3, 6]])\n",
        "clustering = MeanShift(bandwidth=2).fit(X)\n",
        "clustering.labels_\n",
        "clustering.predict([[0, 0], [5, 5]])\n",
        "clustering\n",
        "print(clustering.cluster_centers_)\n",
        "print(clustering.n_iter_)"
      ],
      "execution_count": 1,
      "outputs": [
        {
          "output_type": "stream",
          "text": [
            "[[3.33333333 6.        ]\n",
            " [1.33333333 0.66666667]]\n",
            "2\n"
          ],
          "name": "stdout"
        }
      ]
    }
  ]
}