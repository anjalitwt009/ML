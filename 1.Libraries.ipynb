{
  "nbformat": 4,
  "nbformat_minor": 0,
  "metadata": {
    "colab": {
      "name": "Libraries.ipynb",
      "provenance": [],
      "collapsed_sections": []
    },
    "kernelspec": {
      "name": "python3",
      "display_name": "Python 3"
    }
  },
  "cells": [
    {
      "cell_type": "code",
      "metadata": {
        "id": "cg0hjvJzL3kA",
        "colab_type": "code",
        "colab": {}
      },
      "source": [
        "from preamble import *\n",
        "%matplotlib inline"
      ],
      "execution_count": 0,
      "outputs": []
    },
    {
      "cell_type": "markdown",
      "metadata": {
        "id": "MCe9mE0AMHfm",
        "colab_type": "text"
      },
      "source": [
        "\n",
        "## ***NumPy***\n",
        "* Contains functionality for multidimensional arrays, high-level mathematical functions such as linear algebra operations and the Fourier transform, and pseudorandom number generators."
      ]
    },
    {
      "cell_type": "code",
      "metadata": {
        "id": "R84GqSl5ML7R",
        "colab_type": "code",
        "colab": {}
      },
      "source": [
        "import numpy as np"
      ],
      "execution_count": 0,
      "outputs": []
    },
    {
      "cell_type": "markdown",
      "metadata": {
        "id": "2E8jeHC9MUU4",
        "colab_type": "text"
      },
      "source": [
        "## ***SciPy***\n",
        "* Advanced linear algebra routines, mathematical function\n",
        "optimization, signal processing, special mathematical functions, and statistical distributions.\n",
        "* SciPy is also very useful for image manipulation."
      ]
    },
    {
      "cell_type": "code",
      "metadata": {
        "id": "wOFFEXUsMxZo",
        "colab_type": "code",
        "colab": {}
      },
      "source": [
        "from scipy import*"
      ],
      "execution_count": 0,
      "outputs": []
    },
    {
      "cell_type": "markdown",
      "metadata": {
        "id": "46jKuai-MzeN",
        "colab_type": "text"
      },
      "source": [
        "## ***SciKit Learn***\n",
        "*  An open source project.\n",
        "*  Contains a number of state-of-the-art machine\n",
        "learning algorithms.\n",
        "*  Depends on two other Python packages, NumPy and SciPy (Fuctions for ML algorithms).\n",
        "* Broad range of clustering, regression and classification algorithms.\n",
        "* Can also be used for data-mining and data-analysis"
      ]
    },
    {
      "cell_type": "code",
      "metadata": {
        "id": "bMFeZhA7ND4l",
        "colab_type": "code",
        "colab": {}
      },
      "source": [
        "from sklearn import*"
      ],
      "execution_count": 0,
      "outputs": []
    },
    {
      "cell_type": "markdown",
      "metadata": {
        "id": "BfvxaLQxNgH5",
        "colab_type": "text"
      },
      "source": [
        "\n",
        "## ***matplotlib***\n",
        "*  functions for making publication-quality visualizations such as line charts, histograms, scatter plots, and so on. Visualizing your data and different aspects of your analysis can give you important insights.\n",
        "* show figures directly in the browser by using the %matplotlib notebook and %matplotlib inline commands."
      ]
    },
    {
      "cell_type": "code",
      "metadata": {
        "id": "5YfK0247NevX",
        "colab_type": "code",
        "colab": {}
      },
      "source": [
        "%matplotlib inline\n",
        "import matplotlib.pyplot as plt"
      ],
      "execution_count": 0,
      "outputs": []
    },
    {
      "cell_type": "markdown",
      "metadata": {
        "id": "2QeCbKthNUWF",
        "colab_type": "text"
      },
      "source": [
        "## ***Theano***\n",
        "* Allows to define, optimize as well as evaluate mathematical expressions, which deals with multidimensional arrays.\n",
        "* Deal with computations in large neural networks. \n",
        "* It aims to boost development time and execution time."
      ]
    },
    {
      "cell_type": "code",
      "metadata": {
        "id": "Nn7-q7aVNWG5",
        "colab_type": "code",
        "colab": {}
      },
      "source": [
        "import theano "
      ],
      "execution_count": 0,
      "outputs": []
    },
    {
      "cell_type": "markdown",
      "metadata": {
        "id": "t7zuo2xaNaMa",
        "colab_type": "text"
      },
      "source": [
        "## ***pandas***\n",
        "* It is built around a data structure called the DataFrame(in R).\n",
        "* In contrast to NumPy, which requires that all entries in an\n",
        "array be of the same type, pandas allows each column to have a separate type.\n",
        "*  Ability to ingest from a great variety of file formats and data‐\n",
        "bases, like SQL, Excel files, and comma-separated values (CSV) files. "
      ]
    },
    {
      "cell_type": "code",
      "metadata": {
        "id": "28bDSNOzNtUP",
        "colab_type": "code",
        "colab": {}
      },
      "source": [
        "import pandas as pd"
      ],
      "execution_count": 0,
      "outputs": []
    },
    {
      "cell_type": "markdown",
      "metadata": {
        "id": "aMLKOJDqN8nP",
        "colab_type": "text"
      },
      "source": [
        "## ***Tensorflow***\n",
        "* For performing high-end numerical computations.\n",
        "* Can handle deep neural networks for image recognition, handwritten digit classification, recurrent neural networks, NLP, etc."
      ]
    },
    {
      "cell_type": "code",
      "metadata": {
        "id": "HWAUO-MaN-hu",
        "colab_type": "code",
        "colab": {}
      },
      "source": [
        "import tensorflow as tf "
      ],
      "execution_count": 0,
      "outputs": []
    },
    {
      "cell_type": "markdown",
      "metadata": {
        "id": "FVfsVgTvODLL",
        "colab_type": "text"
      },
      "source": [
        "## ***Keras***\n",
        "* Open-source Python library written for constructing neural networks and machine learning projects.\n",
        "* Offers modules including optimizers, neural layers, activation functions, initialization schemes, cost functions, and regularization schemes."
      ]
    },
    {
      "cell_type": "code",
      "metadata": {
        "id": "7wyhcA7hOSqy",
        "colab_type": "code",
        "colab": {}
      },
      "source": [
        "from keras.models import*"
      ],
      "execution_count": 0,
      "outputs": []
    },
    {
      "cell_type": "markdown",
      "metadata": {
        "id": "XXbHSRloOUWR",
        "colab_type": "text"
      },
      "source": [
        "## ***Pytorch***\n",
        "* It includes a machine learning compiler called Glow that boosts the performance of deep learning frameworks.\n"
      ]
    },
    {
      "cell_type": "code",
      "metadata": {
        "id": "fq3NjA8dObnw",
        "colab_type": "code",
        "colab": {}
      },
      "source": [
        "import torch "
      ],
      "execution_count": 0,
      "outputs": []
    },
    {
      "cell_type": "markdown",
      "metadata": {
        "id": "q7r2ymd6OdG4",
        "colab_type": "text"
      },
      "source": [
        "## ***Seaborn***\n",
        "* An unparalleled visualization library.\n",
        "* Offers high-level dataset based interface to make amazing statistical graphics.\n",
        "* Used to create certain types of plots like time series, heat maps, and violin plots. \n",
        "\n"
      ]
    },
    {
      "cell_type": "code",
      "metadata": {
        "id": "0ckHt3aZOyae",
        "colab_type": "code",
        "colab": {}
      },
      "source": [
        " import seaborn as sns "
      ],
      "execution_count": 0,
      "outputs": []
    },
    {
      "cell_type": "markdown",
      "metadata": {
        "id": "xk-rBTusO9p-",
        "colab_type": "text"
      },
      "source": [
        ""
      ]
    }
  ]
}